{
 "cells": [
  {
   "cell_type": "code",
   "execution_count": 1,
   "id": "cb23584c",
   "metadata": {},
   "outputs": [],
   "source": [
    "import torch\n",
    "import torch.nn as nn\n",
    "import torch.nn.functional as F\n",
    "import math\n",
    "import torchvision\n",
    "import torchvision.models as models\n",
    "from torch.autograd import Variable\n",
    "import torch.utils.data as data\n",
    "import torchvision.transforms as transforms\n",
    "from torchvision.datasets import MNIST, EMNIST, CIFAR10,CIFAR100\n",
    "from PIL import Image\n",
    "import torch.optim as optim\n",
    "import numpy as np\n",
    "from sklearn.metrics import confusion_matrix\n",
    "# from resnetcifar import ResNet18_cifar10, ResNet50_cifar10\n",
    "import logging\n",
    "\n",
    "logging.basicConfig()\n",
    "logger = logging.getLogger()\n",
    "logger.setLevel(logging.INFO)\n",
    "from tensorboardX import SummaryWriter\n",
    "# writer = SummaryWriter(\"logs\")"
   ]
  },
  {
   "cell_type": "code",
   "execution_count": 2,
   "id": "0d346c8a",
   "metadata": {},
   "outputs": [],
   "source": [
    "class SimpleCNN_header(nn.Module):\n",
    "    def __init__(self, input_dim, hidden_dims, output_dim=10):\n",
    "        super(SimpleCNN_header, self).__init__()\n",
    "        self.conv1 = nn.Conv2d(3, 6, 5)\n",
    "        self.relu = nn.ReLU()\n",
    "        self.pool = nn.MaxPool2d(2, 2)\n",
    "        self.conv2 = nn.Conv2d(6, 16, 5)\n",
    "\n",
    "        # for now, we hard coded this network\n",
    "        # i.e. we fix the number of hidden layers i.e. 2 layers\n",
    "        self.fc1 = nn.Linear(input_dim, hidden_dims[0])\n",
    "        self.fc2 = nn.Linear(hidden_dims[0], hidden_dims[1])\n",
    "        #self.fc3 = nn.Linear(hidden_dims[1], output_dim)\n",
    "\n",
    "    def forward(self, x):\n",
    "\n",
    "        x = self.pool(self.relu(self.conv1(x)))\n",
    "        x = self.pool(self.relu(self.conv2(x)))\n",
    "        x = x.view(-1, 16 * 5 * 5)\n",
    "\n",
    "        x = self.relu(self.fc1(x))\n",
    "        x = self.relu(self.fc2(x))\n",
    "        # x = self.fc3(x)\n",
    "        return x"
   ]
  },
  {
   "cell_type": "code",
   "execution_count": 3,
   "id": "ae1d7e27",
   "metadata": {},
   "outputs": [],
   "source": [
    "class ModelFedCon(nn.Module):\n",
    "\n",
    "    def __init__(self, base_model, out_dim, n_classes, net_configs=None):\n",
    "        super(ModelFedCon, self).__init__()\n",
    "\n",
    "        if base_model == \"resnet50-cifar10\" or base_model == \"resnet50-cifar100\" or base_model == \"resnet50-smallkernel\" or base_model == \"resnet50\":\n",
    "            basemodel = ResNet50_cifar10()\n",
    "            self.features = nn.Sequential(*list(basemodel.children())[:-1])\n",
    "            num_ftrs = basemodel.fc.in_features\n",
    "        elif base_model == \"resnet18-cifar10\" or base_model == \"resnet18\":\n",
    "            basemodel = ResNet18_cifar10()\n",
    "            self.features = nn.Sequential(*list(basemodel.children())[:-1])\n",
    "            num_ftrs = basemodel.fc.in_features\n",
    "        elif base_model == \"mlp\":\n",
    "            self.features = MLP_header()\n",
    "            num_ftrs = 512\n",
    "        elif base_model == 'simple-cnn':\n",
    "            self.features = SimpleCNN_header(input_dim=(16 * 5 * 5), hidden_dims=[120, 84], output_dim=n_classes)\n",
    "            num_ftrs = 84\n",
    "        elif base_model == 'simple-cnn-mnist':\n",
    "            self.features = SimpleCNNMNIST_header(input_dim=(16 * 4 * 4), hidden_dims=[120, 84], output_dim=n_classes)\n",
    "            num_ftrs = 84\n",
    "            \n",
    "        self.l1 = nn.Linear(num_ftrs, num_ftrs)\n",
    "        self.l2 = nn.Linear(num_ftrs, out_dim)\n",
    "\n",
    "        # last layer\n",
    "        self.l3 = nn.Linear(out_dim, n_classes)\n",
    "\n",
    "    def _get_basemodel(self, model_name):\n",
    "        try:\n",
    "            model = self.model_dict[model_name]\n",
    "            #print(\"Feature extractor:\", model_name)\n",
    "            return model\n",
    "        except:\n",
    "            raise (\"Invalid model name. Check the config file and pass one of: resnet18 or resnet50\")\n",
    "\n",
    "    def forward(self, x):\n",
    "        h = self.features(x)\n",
    "        #print(\"h before:\", h)\n",
    "        #print(\"h size:\", h.size())\n",
    "        h = h.squeeze()\n",
    "        #print(\"h after:\", h)\n",
    "        x = self.l1(h)\n",
    "        x = F.relu(x)\n",
    "        x = self.l2(x)\n",
    "\n",
    "        y = self.l3(x)\n",
    "        return h, x, y"
   ]
  },
  {
   "cell_type": "code",
   "execution_count": 4,
   "id": "8d9f03dc",
   "metadata": {},
   "outputs": [],
   "source": [
    "def compute_accuracy(model, dataloader, get_confusion_matrix=False, device=\"cpu\", multiloader=False):\n",
    "    was_training = False\n",
    "    if model.training:\n",
    "        model.eval()\n",
    "        was_training = True\n",
    "\n",
    "    true_labels_list, pred_labels_list = np.array([]), np.array([])\n",
    "\n",
    "    correct, total = 0, 0\n",
    "    if device == 'cpu':\n",
    "        criterion = nn.CrossEntropyLoss()\n",
    "    elif device == 'cuda':\n",
    "        criterion = nn.CrossEntropyLoss().cuda()\n",
    "    loss_collector = []\n",
    "    if multiloader:\n",
    "        for loader in dataloader:\n",
    "            with torch.no_grad():\n",
    "                for batch_idx, (x, target) in enumerate(loader):\n",
    "                    #print(\"x:\",x)\n",
    "                    #print(\"target:\",target)\n",
    "                    if device != 'cpu':\n",
    "                        x, target = x.cuda(), target.to(dtype=torch.int64).cuda()\n",
    "                    _, _, out = model(x)\n",
    "                    if len(target)==1:\n",
    "                        loss = criterion(out, target)\n",
    "                    else:\n",
    "                        loss = criterion(out, target)\n",
    "                    _, pred_label = torch.max(out.data, 1)\n",
    "                    loss_collector.append(loss.item())\n",
    "                    total += x.data.size()[0]\n",
    "                    correct += (pred_label == target.data).sum().item()\n",
    "\n",
    "                    if device == \"cpu\":\n",
    "                        pred_labels_list = np.append(pred_labels_list, pred_label.numpy())\n",
    "                        true_labels_list = np.append(true_labels_list, target.data.numpy())\n",
    "                    else:\n",
    "                        pred_labels_list = np.append(pred_labels_list, pred_label.cpu().numpy())\n",
    "                        true_labels_list = np.append(true_labels_list, target.data.cpu().numpy())\n",
    "        avg_loss = sum(loss_collector) / len(loss_collector)\n",
    "    else:\n",
    "        with torch.no_grad():\n",
    "            for batch_idx, (x, target) in enumerate(dataloader):\n",
    "                #print(\"x:\",x)\n",
    "                if device != 'cpu':\n",
    "                    x, target = x.cuda(), target.to(dtype=torch.int64).cuda()\n",
    "                _,_,out = model(x)\n",
    "                loss = criterion(out, target)\n",
    "                _, pred_label = torch.max(out.data, 1)\n",
    "                loss_collector.append(loss.item())\n",
    "                total += x.data.size()[0]\n",
    "                correct += (pred_label == target.data).sum().item()\n",
    "\n",
    "                if device == \"cpu\":\n",
    "                    pred_labels_list = np.append(pred_labels_list, pred_label.numpy())\n",
    "                    true_labels_list = np.append(true_labels_list, target.data.numpy())\n",
    "                else:\n",
    "                    pred_labels_list = np.append(pred_labels_list, pred_label.cpu().numpy())\n",
    "                    true_labels_list = np.append(true_labels_list, target.data.cpu().numpy())\n",
    "            avg_loss = sum(loss_collector) / len(loss_collector)\n",
    "\n",
    "    if get_confusion_matrix:\n",
    "        conf_matrix = confusion_matrix(true_labels_list, pred_labels_list)\n",
    "\n",
    "    if was_training:\n",
    "        model.train()\n",
    "\n",
    "    if get_confusion_matrix:\n",
    "        return correct / float(total), conf_matrix, avg_loss\n",
    "\n",
    "    return correct / float(total), avg_loss"
   ]
  },
  {
   "cell_type": "code",
   "execution_count": 5,
   "id": "6e6a297f",
   "metadata": {},
   "outputs": [],
   "source": [
    "def get_dataloader(dataset, datadir, train_bs, test_bs, dataidxs=None, noise_level=0):\n",
    "    if dataset in ('cifar10', 'cifar100'):\n",
    "        if dataset == 'cifar10':\n",
    "            dl_obj = CIFAR10_truncated\n",
    "\n",
    "            normalize = transforms.Normalize(mean=[x / 255.0 for x in [125.3, 123.0, 113.9]],\n",
    "                                             std=[x / 255.0 for x in [63.0, 62.1, 66.7]])\n",
    "            transform_train = transforms.Compose([\n",
    "                transforms.ToTensor(),\n",
    "                transforms.Lambda(lambda x: F.pad(\n",
    "                    Variable(x.unsqueeze(0), requires_grad=False),\n",
    "                    (4, 4, 4, 4), mode='reflect').data.squeeze()),\n",
    "                transforms.ToPILImage(),\n",
    "                transforms.ColorJitter(brightness=noise_level),\n",
    "                transforms.RandomCrop(32),\n",
    "                transforms.RandomHorizontalFlip(),\n",
    "                transforms.ToTensor(),\n",
    "                normalize\n",
    "            ])\n",
    "            # data prep for test set\n",
    "            transform_test = transforms.Compose([\n",
    "                transforms.ToTensor(),\n",
    "                normalize])\n",
    "\n",
    "\n",
    "        train_ds = dl_obj(datadir, dataidxs=dataidxs, train=True, transform=transform_train, download=False)\n",
    "        test_ds = dl_obj(datadir, train=False, transform=transform_test, download=False)\n",
    "\n",
    "        train_dl = data.DataLoader(dataset=train_ds, batch_size=train_bs, drop_last=True, shuffle=True)\n",
    "        test_dl = data.DataLoader(dataset=test_ds, batch_size=test_bs, shuffle=False)\n",
    "\n",
    "\n",
    "    elif dataset == 'tinyimagenet':\n",
    "        dl_obj = ImageFolder_custom\n",
    "        transform_train = transforms.Compose([\n",
    "            transforms.ToTensor(),\n",
    "            transforms.Normalize((0.5, 0.5, 0.5), (0.5, 0.5, 0.5)),\n",
    "        ])\n",
    "        transform_test = transforms.Compose([\n",
    "            transforms.ToTensor(),\n",
    "            transforms.Normalize((0.5, 0.5, 0.5), (0.5, 0.5, 0.5)),\n",
    "        ])\n",
    "\n",
    "        train_ds = dl_obj(datadir+'./train/', dataidxs=dataidxs, transform=transform_train)\n",
    "        test_ds = dl_obj(datadir+'./val/', transform=transform_test)\n",
    "\n",
    "        train_dl = data.DataLoader(dataset=train_ds, batch_size=train_bs, drop_last=True, shuffle=True)\n",
    "        test_dl = data.DataLoader(dataset=test_ds, batch_size=test_bs, shuffle=False)\n",
    "\n",
    "\n",
    "    return train_dl, test_dl, train_ds, test_ds"
   ]
  },
  {
   "cell_type": "code",
   "execution_count": 6,
   "id": "90c32a25",
   "metadata": {},
   "outputs": [],
   "source": [
    "class CIFAR10_truncated(data.Dataset):\n",
    "\n",
    "    def __init__(self, root, dataidxs=None, train=True, transform=None, target_transform=None, download=False):\n",
    "\n",
    "        self.root = root\n",
    "        self.dataidxs = dataidxs\n",
    "        self.train = train\n",
    "        self.transform = transform\n",
    "        self.target_transform = target_transform\n",
    "        self.download = download\n",
    "\n",
    "        self.data, self.target = self.__build_truncated_dataset__()\n",
    "\n",
    "    def __build_truncated_dataset__(self):\n",
    "\n",
    "        cifar_dataobj = CIFAR10(self.root, self.train, self.transform, self.target_transform, self.download)\n",
    "\n",
    "        if torchvision.__version__ == '0.2.1':\n",
    "            if self.train:\n",
    "                data, target = cifar_dataobj.train_data, np.array(cifar_dataobj.train_labels)\n",
    "            else:\n",
    "                data, target = cifar_dataobj.test_data, np.array(cifar_dataobj.test_labels)\n",
    "        else:\n",
    "            data = cifar_dataobj.data\n",
    "            target = np.array(cifar_dataobj.targets)\n",
    "\n",
    "        if self.dataidxs is not None:\n",
    "            data = data[self.dataidxs]\n",
    "            target = target[self.dataidxs]\n",
    "\n",
    "        return data, target\n",
    "\n",
    "    def truncate_channel(self, index):\n",
    "        for i in range(index.shape[0]):\n",
    "            gs_index = index[i]\n",
    "            self.data[gs_index, :, :, 1] = 0.0\n",
    "            self.data[gs_index, :, :, 2] = 0.0\n",
    "\n",
    "    def __getitem__(self, index):\n",
    "        \"\"\"\n",
    "        Args:\n",
    "            index (int): Index\n",
    "\n",
    "        Returns:\n",
    "            tuple: (image, target) where target is index of the target class.\n",
    "        \"\"\"\n",
    "        img, target = self.data[index], self.target[index]\n",
    "        # img = Image.fromarray(img)\n",
    "        # print(\"cifar10 img:\", img)\n",
    "        # print(\"cifar10 target:\", target)\n",
    "\n",
    "        if self.transform is not None:\n",
    "            img = self.transform(img)\n",
    "\n",
    "        if self.target_transform is not None:\n",
    "            target = self.target_transform(target)\n",
    "\n",
    "        return img, target\n",
    "\n",
    "    def __len__(self):\n",
    "        return len(self.data)"
   ]
  },
  {
   "cell_type": "code",
   "execution_count": 7,
   "id": "d7f56ca0",
   "metadata": {},
   "outputs": [
    {
     "name": "stdout",
     "output_type": "stream",
     "text": [
      "Files already downloaded and verified\n",
      "Files already downloaded and verified\n"
     ]
    }
   ],
   "source": [
    "normalize = transforms.Normalize(mean=[x / 255.0 for x in [125.3, 123.0, 113.9]],\n",
    "                                 std=[x / 255.0 for x in [63.0, 62.1, 66.7]])\n",
    "transform_train = transforms.Compose([\n",
    "    transforms.ToTensor(),\n",
    "    transforms.Lambda(lambda x: F.pad(\n",
    "        Variable(x.unsqueeze(0), requires_grad=False),\n",
    "        (4, 4, 4, 4), mode='reflect').data.squeeze()),\n",
    "    transforms.ToPILImage(),\n",
    "    transforms.ColorJitter(brightness=0),\n",
    "    transforms.RandomCrop(32),\n",
    "    transforms.RandomHorizontalFlip(),\n",
    "    transforms.ToTensor(),\n",
    "    normalize\n",
    "])\n",
    "# data prep for test set\n",
    "transform_test = transforms.Compose([\n",
    "    transforms.ToTensor(),\n",
    "    normalize])\n",
    "\n",
    "cifar_dataTrain = CIFAR10(\"../data\", True, transform_train, None, True)\n",
    "cifar_dataTest = CIFAR10(\"../data\", False, transform_test, None, True)"
   ]
  },
  {
   "cell_type": "code",
   "execution_count": 8,
   "id": "3eeebb2d",
   "metadata": {},
   "outputs": [],
   "source": [
    "def partition_data(dataset, datadir, logdir, partition, n_parties, beta=0.4):\n",
    "    if dataset == 'cifar10':\n",
    "        X_train, y_train, X_test, y_test = load_cifar10_data(datadir)\n",
    "    elif dataset == 'cifar100':\n",
    "        X_train, y_train, X_test, y_test = load_cifar100_data(datadir)\n",
    "    elif dataset == 'tinyimagenet':\n",
    "        X_train, y_train, X_test, y_test = load_tinyimagenet_data(datadir)\n",
    "\n",
    "    n_train = y_train.shape[0]\n",
    "\n",
    "    if partition == \"homo\" or partition == \"iid\":\n",
    "        idxs = np.random.permutation(n_train)\n",
    "        batch_idxs = np.array_split(idxs, n_parties)\n",
    "        net_dataidx_map = {i: batch_idxs[i] for i in range(n_parties)}\n",
    "\n",
    "\n",
    "    elif partition == \"noniid-labeldir\" or partition == \"noniid\":\n",
    "        min_size = 0\n",
    "        min_require_size = 10\n",
    "        K = 10\n",
    "        if dataset == 'cifar100':\n",
    "            K = 100\n",
    "        elif dataset == 'tinyimagenet':\n",
    "            K = 200\n",
    "            # min_require_size = 100\n",
    "\n",
    "        N = y_train.shape[0]\n",
    "        net_dataidx_map = {}\n",
    "\n",
    "        while min_size < min_require_size:\n",
    "            idx_batch = [[] for _ in range(n_parties)]\n",
    "            for k in range(K):\n",
    "                idx_k = np.where(y_train == k)[0]\n",
    "                np.random.shuffle(idx_k)\n",
    "                proportions = np.random.dirichlet(np.repeat(beta, n_parties))\n",
    "                proportions = np.array([p * (len(idx_j) < N / n_parties) for p, idx_j in zip(proportions, idx_batch)])\n",
    "                proportions = proportions / proportions.sum()\n",
    "                proportions = (np.cumsum(proportions) * len(idx_k)).astype(int)[:-1]\n",
    "                idx_batch = [idx_j + idx.tolist() for idx_j, idx in zip(idx_batch, np.split(idx_k, proportions))]\n",
    "                min_size = min([len(idx_j) for idx_j in idx_batch])\n",
    "                # if K == 2 and n_parties <= 10:\n",
    "                #     if np.min(proportions) < 200:\n",
    "                #         min_size = 0\n",
    "                #         break\n",
    "\n",
    "        for j in range(n_parties):\n",
    "            np.random.shuffle(idx_batch[j])\n",
    "            net_dataidx_map[j] = idx_batch[j]\n",
    "\n",
    "    traindata_cls_counts = record_net_data_stats(y_train, net_dataidx_map, logdir)\n",
    "    return (X_train, y_train, X_test, y_test, net_dataidx_map, traindata_cls_counts)\n",
    "\n",
    "def load_cifar10_data(datadir):\n",
    "    transform = transforms.Compose([transforms.ToTensor()])\n",
    "\n",
    "    cifar10_train_ds = CIFAR10_truncated(datadir, train=True, download=True, transform=transform)\n",
    "    cifar10_test_ds = CIFAR10_truncated(datadir, train=False, download=True, transform=transform)\n",
    "\n",
    "    X_train, y_train = cifar10_train_ds.data, cifar10_train_ds.target\n",
    "    X_test, y_test = cifar10_test_ds.data, cifar10_test_ds.target\n",
    "\n",
    "    # y_train = y_train.numpy()\n",
    "    # y_test = y_test.numpy()\n",
    "\n",
    "    return (X_train, y_train, X_test, y_test)\n",
    "def record_net_data_stats(y_train, net_dataidx_map, logdir):\n",
    "    net_cls_counts = {}\n",
    "\n",
    "    for net_i, dataidx in net_dataidx_map.items():\n",
    "        unq, unq_cnt = np.unique(y_train[dataidx], return_counts=True)\n",
    "        tmp = {unq[i]: unq_cnt[i] for i in range(len(unq))}\n",
    "        net_cls_counts[net_i] = tmp\n",
    "\n",
    "    data_list=[]\n",
    "    for net_id, data in net_cls_counts.items():\n",
    "        n_total=0\n",
    "        for class_id, n_data in data.items():\n",
    "            n_total += n_data\n",
    "        data_list.append(n_total)\n",
    "    print('mean:', np.mean(data_list))\n",
    "    print('std:', np.std(data_list))\n",
    "    logger.info('Data statistics: %s' % str(net_cls_counts))\n",
    "\n",
    "    return net_cls_counts"
   ]
  },
  {
   "cell_type": "code",
   "execution_count": 9,
   "id": "b8e7425f",
   "metadata": {},
   "outputs": [
    {
     "name": "stdout",
     "output_type": "stream",
     "text": [
      "Files already downloaded and verified\n",
      "Files already downloaded and verified\n"
     ]
    },
    {
     "name": "stderr",
     "output_type": "stream",
     "text": [
      "INFO:root:Data statistics: {0: {0: 276, 1: 52, 2: 1280, 3: 144, 4: 4, 5: 295, 6: 900, 7: 1537, 8: 142, 9: 1818}, 1: {0: 16, 1: 936, 2: 717, 4: 2312, 5: 7, 6: 188, 7: 40, 8: 436, 9: 288}, 2: {0: 804, 2: 179, 3: 1692, 4: 61, 5: 199, 6: 42, 7: 19, 8: 1583, 9: 338}, 3: {0: 30, 1: 15, 2: 335, 3: 153, 4: 303, 5: 189, 6: 1220, 7: 50, 8: 2032, 9: 1552}, 4: {0: 65, 1: 76, 2: 50, 3: 77, 4: 17, 5: 643, 6: 302, 7: 123, 8: 442, 9: 3}, 5: {0: 889, 1: 189, 2: 1282, 3: 726, 4: 976, 5: 513, 6: 138, 8: 356}, 6: {0: 2, 1: 2546, 2: 633, 3: 111, 4: 440, 5: 175, 6: 25, 7: 300, 8: 8, 9: 1001}, 7: {0: 31, 1: 51, 2: 6, 4: 75, 5: 2037, 6: 93, 7: 2931}, 8: {0: 2073, 1: 1057, 2: 278, 3: 2053}, 9: {0: 814, 1: 78, 2: 240, 3: 44, 4: 812, 5: 942, 6: 2092, 8: 1}}\n"
     ]
    },
    {
     "name": "stdout",
     "output_type": "stream",
     "text": [
      "mean: 5000.0\n",
      "std: 1160.1166320676555\n"
     ]
    }
   ],
   "source": [
    "\n",
    "\n",
    "X_train, y_train, X_test, y_test, net_dataidx_map, traindata_cls_counts = partition_data(\n",
    "\"cifar10\", \"../data\", \"../data\", \"noniid\", 10, beta=0.5)\n",
    "\n"
   ]
  },
  {
   "cell_type": "code",
   "execution_count": 10,
   "id": "ca6d6a1b",
   "metadata": {},
   "outputs": [
    {
     "data": {
      "image/png": "[encoded data removed]",
      "text/plain": [
       "<Figure size 1800x720 with 10 Axes>"
      ]
     },
     "metadata": {
      "needs_background": "light"
     },
     "output_type": "display_data"
    }
   ],
   "source": [
    "\n",
    "x=traindata_cls_counts\n",
    "import matplotlib.pyplot as plt\n",
    "fig, ax = plt.subplots(2, 5, sharex='col', sharey='row',figsize=(25,10))\n",
    "for i in range(10):\n",
    "    if i==0:\n",
    "        ax[i//5,i%5].set_ylabel(\"Number of corresponding label\")\n",
    "    elif i>5:\n",
    "        ax[i//5,i%5].set_xlabel(\"Class_label\")\n",
    "    elif i==5:\n",
    "        ax[i//5,i%5].set_ylabel(\"Number of corresponding label\")\n",
    "        ax[i//5,i%5].set_xlabel(\"Class_label\")\n",
    "        \n",
    "    ax[i//5,i%5].set_xlim(-1,10)\n",
    "    ax[i//5,i%5].bar(list(x[i].keys()),list(x[i].values()),width = 1)\n",
    "    ax[i//5,i%5].set_title(\"client-{0}\".format(i))\n",
    "    for m,n in zip(list(x[i].keys()),list(x[i].values())):\n",
    "        ax[i//5,i%5].text(m+0.05,n+0.05,'%d' %n, ha='center',va='bottom')\n",
    "plt.show()\n",
    "\n"
   ]
  },
  {
   "cell_type": "code",
   "execution_count": 22,
   "id": "0a038c6f",
   "metadata": {},
   "outputs": [
    {
     "name": "stdout",
     "output_type": "stream",
     "text": [
      "Files already downloaded and verified\n"
     ]
    },
    {
     "data": {
      "text/plain": [
       "Dataset CIFAR10\n",
       "    Number of datapoints: 50000\n",
       "    Root location: ../data\n",
       "    Split: Train\n",
       "    StandardTransform\n",
       "Transform: Compose(\n",
       "               ToTensor()\n",
       "               Normalize(mean=[0.4914, 0.4822, 0.4465], std=[0.2023, 0.1994, 0.201])\n",
       "           )"
      ]
     },
     "execution_count": 22,
     "metadata": {},
     "output_type": "execute_result"
    }
   ],
   "source": [
    "mean = [0.4914, 0.4822, 0.4465]\n",
    "std = [0.2023, 0.1994, 0.2010]\n",
    "transform = transforms.Compose([transforms.ToTensor(), transforms.Normalize(mean=mean, std=std)])\n",
    "cifar_dataobj = CIFAR10(\"../data\", True, transform,download=True)\n",
    "cifar_dataobj"
   ]
  },
  {
   "cell_type": "code",
   "execution_count": 36,
   "id": "20c5d646",
   "metadata": {},
   "outputs": [
    {
     "data": {
      "text/plain": [
       "(50000, 32, 32, 3)"
      ]
     },
     "execution_count": 36,
     "metadata": {},
     "output_type": "execute_result"
    }
   ],
   "source": [
    "cifar_dataobj.data.shape"
   ]
  },
  {
   "cell_type": "code",
   "execution_count": 19,
   "id": "dad01bf4",
   "metadata": {},
   "outputs": [],
   "source": [
    "net_local = {}\n",
    "for i in range(10):\n",
    "    net_local[i] = ModelFedCon(\"simple-cnn\",256,10)\n",
    "    \n",
    "net_global = ModelFedCon(\"simple-cnn\",256,10)\n",
    "net_global = net_global.cpu()\n",
    "train_dl_global,test_dl,train_ds_global,test_ds = get_dataloader(\"cifar10\", '../data', 64, 32, noise_level=0)"
   ]
  },
  {
   "cell_type": "code",
   "execution_count": 20,
   "id": "94106cb3",
   "metadata": {},
   "outputs": [],
   "source": [
    "criterion = nn.CrossEntropyLoss()"
   ]
  },
  {
   "cell_type": "code",
   "execution_count": 19,
   "id": "0dd11051",
   "metadata": {},
   "outputs": [
    {
     "data": {
      "text/plain": [
       "<torch.utils.data.dataloader._SingleProcessDataLoaderIter at 0x7f202e471198>"
      ]
     },
     "execution_count": 19,
     "metadata": {},
     "output_type": "execute_result"
    }
   ],
   "source": [
    "img = iter(test_dl)\n",
    "img"
   ]
  },
  {
   "cell_type": "code",
   "execution_count": 34,
   "id": "01435e57",
   "metadata": {},
   "outputs": [
    {
     "data": {
      "text/plain": [
       "torch.Size([3, 32, 32])"
      ]
     },
     "execution_count": 34,
     "metadata": {},
     "output_type": "execute_result"
    }
   ],
   "source": [
    "# one = next(img)\n",
    "one[0][0].shape"
   ]
  },
  {
   "cell_type": "code",
   "execution_count": 45,
   "id": "b2b6ce5b",
   "metadata": {},
   "outputs": [
    {
     "data": {
      "image/png": "[encoded data removed]",
      "text/plain": [
       "<PIL.Image.Image image mode=RGB size=256x256 at 0x7F2002D2B588>"
      ]
     },
     "execution_count": 45,
     "metadata": {},
     "output_type": "execute_result"
    }
   ],
   "source": [
    "transforms.ToPILImage()(one[0][9]).resize((256,256))"
   ]
  },
  {
   "cell_type": "code",
   "execution_count": 13,
   "id": "7144080e",
   "metadata": {},
   "outputs": [
    {
     "data": {
      "text/plain": [
       "[tensor([[[[ 8.2063e-01, -5.9206e-01, -8.6190e-01,  ...,  1.6302e+00,\n",
       "             1.9317e+00,  1.1222e+00],\n",
       "           [ 7.8889e-01, -5.2857e-01, -8.7778e-01,  ...,  1.3921e+00,\n",
       "             1.7730e+00,  1.0270e+00],\n",
       "           [ 1.6984e-01, -5.9206e-01, -8.1429e-01,  ...,  1.0270e+00,\n",
       "             1.2492e+00,  8.5238e-01],\n",
       "           ...,\n",
       "           [-1.0000e-01, -2.2698e-01, -2.5873e-01,  ..., -1.7937e-01,\n",
       "            -2.1111e-01, -3.8571e-01],\n",
       "           [-5.2381e-02, -6.8254e-02, -3.6508e-02,  ..., -3.0635e-01,\n",
       "            -3.0635e-01, -3.3810e-01],\n",
       "           [-1.7937e-01, -8.4127e-02, -1.0000e-01,  ..., -3.5397e-01,\n",
       "            -4.0159e-01, -2.2698e-01]],\n",
       " \n",
       "          [[ 9.3398e-01, -4.6699e-01, -6.9243e-01,  ...,  1.7069e+00,\n",
       "             1.9968e+00,  1.2721e+00],\n",
       "           [ 8.8567e-01, -3.3816e-01, -6.6023e-01,  ...,  1.4332e+00,\n",
       "             1.8196e+00,  1.1433e+00],\n",
       "           [ 4.1868e-01, -3.5427e-01, -5.7971e-01,  ...,  1.0306e+00,\n",
       "             1.3043e+00,  9.0177e-01],\n",
       "           ...,\n",
       "           [-1.2882e-01, -2.7375e-01, -2.7375e-01,  ..., -2.0934e-01,\n",
       "            -2.5765e-01, -4.1868e-01],\n",
       "           [-1.1272e-01, -1.4493e-01, -8.0515e-02,  ..., -2.8986e-01,\n",
       "            -2.8986e-01, -3.2206e-01],\n",
       "           [-2.7375e-01, -1.7713e-01, -1.7713e-01,  ..., -3.2206e-01,\n",
       "            -3.8647e-01, -2.7375e-01]],\n",
       " \n",
       "          [[ 8.7106e-01, -5.9820e-01, -8.2309e-01,  ...,  1.5307e+00,\n",
       "             1.8006e+00,  1.0810e+00],\n",
       "           [ 9.1604e-01, -4.6327e-01, -7.7811e-01,  ...,  1.2159e+00,\n",
       "             1.6357e+00,  1.0510e+00],\n",
       "           [ 4.8126e-01, -4.7826e-01, -6.5817e-01,  ...,  7.8111e-01,\n",
       "             1.1109e+00,  9.1604e-01],\n",
       "           ...,\n",
       "           [ 6.1469e-02, -2.8486e-02, -4.3478e-02,  ..., -1.3493e-02,\n",
       "            -1.3493e-02, -1.3343e-01],\n",
       "           [ 7.6462e-02,  1.0645e-01,  1.5142e-01,  ..., -4.3478e-02,\n",
       "             1.4993e-03, -1.3493e-02],\n",
       "           [ 1.4993e-03,  9.1454e-02,  7.6462e-02,  ..., -8.8456e-02,\n",
       "            -1.3343e-01, -5.8471e-02]]],\n",
       " \n",
       " \n",
       "         [[[ 1.3762e+00,  1.2333e+00,  1.4873e+00,  ...,  4.2857e-02,\n",
       "             9.0476e-02,  1.5397e-01],\n",
       "           [ 1.5667e+00,  1.3286e+00,  1.5349e+00,  ...,  7.4603e-02,\n",
       "             9.0476e-02,  1.3810e-01],\n",
       "           [ 1.5667e+00,  1.3286e+00,  1.5032e+00,  ...,  9.0476e-02,\n",
       "             1.0635e-01,  3.1270e-01],\n",
       "           ...,\n",
       "           [ 1.0905e+00,  1.1381e+00,  8.3651e-01,  ..., -4.7619e-03,\n",
       "             1.1111e-02,  7.4603e-02],\n",
       "           [ 1.1857e+00,  1.2016e+00,  9.9524e-01,  ...,  4.2857e-02,\n",
       "             5.8730e-02,  1.6984e-01],\n",
       "           [ 1.2175e+00,  1.2016e+00,  1.0587e+00,  ...,  1.3810e-01,\n",
       "             1.6984e-01,  2.8095e-01]],\n",
       " \n",
       "          [[ 8.8567e-01,  7.4074e-01,  9.9839e-01,  ..., -9.1787e-01,\n",
       "            -8.6957e-01, -8.0515e-01],\n",
       "           [ 1.0950e+00,  8.5346e-01,  1.0628e+00,  ..., -8.8567e-01,\n",
       "            -8.5346e-01, -7.7295e-01],\n",
       "           [ 1.0789e+00,  8.3736e-01,  1.0145e+00,  ..., -8.5346e-01,\n",
       "            -8.2126e-01, -5.6361e-01],\n",
       "           ...,\n",
       "           [ 6.1192e-01,  6.4412e-01,  2.2544e-01,  ..., -4.1868e-01,\n",
       "            -4.1868e-01, -3.5427e-01],\n",
       "           [ 6.9243e-01,  7.0853e-01,  4.6699e-01,  ..., -3.7037e-01,\n",
       "            -3.7037e-01, -2.5765e-01],\n",
       "           [ 6.9243e-01,  6.7633e-01,  5.3140e-01,  ..., -2.8986e-01,\n",
       "            -2.7375e-01, -1.2882e-01]],\n",
       " \n",
       "          [[-8.8456e-02, -2.6837e-01,  3.1484e-02,  ..., -1.5127e+00,\n",
       "            -1.5277e+00, -1.5127e+00],\n",
       "           [ 1.0645e-01, -1.6342e-01,  1.2144e-01,  ..., -1.4978e+00,\n",
       "            -1.4978e+00, -1.4828e+00],\n",
       "           [ 9.1454e-02, -1.6342e-01,  7.6462e-02,  ..., -1.4978e+00,\n",
       "            -1.4828e+00, -1.4228e+00],\n",
       "           ...,\n",
       "           [-3.1334e-01, -3.2834e-01, -7.0315e-01,  ..., -9.7301e-01,\n",
       "            -1.0030e+00, -9.5802e-01],\n",
       "           [-2.0840e-01, -2.0840e-01, -4.1829e-01,  ..., -9.5802e-01,\n",
       "            -9.8801e-01, -8.8306e-01],\n",
       "           [-1.7841e-01, -2.2339e-01, -3.5832e-01,  ..., -9.2804e-01,\n",
       "            -9.2804e-01, -8.2309e-01]]],\n",
       " \n",
       " \n",
       "         [[[ 9.4762e-01,  9.9524e-01,  1.0270e+00,  ...,  8.0476e-01,\n",
       "             7.7302e-01,  7.8889e-01],\n",
       "           [ 6.7778e-01,  7.7302e-01,  8.6825e-01,  ...,  7.4127e-01,\n",
       "             7.7302e-01,  9.0000e-01],\n",
       "           [ 7.8889e-01,  7.5714e-01,  6.9365e-01,  ...,  7.5714e-01,\n",
       "             8.0476e-01,  6.1429e-01],\n",
       "           ...,\n",
       "           [-9.4127e-01, -8.1429e-01, -6.5556e-01,  ..., -7.0317e-01,\n",
       "            -7.9841e-01, -7.0317e-01],\n",
       "           [-8.1429e-01, -7.1905e-01, -6.3968e-01,  ..., -6.5556e-01,\n",
       "            -7.8254e-01, -7.5079e-01],\n",
       "           [-7.0317e-01, -7.9841e-01, -5.7619e-01,  ..., -6.7143e-01,\n",
       "            -7.6667e-01, -5.9206e-01]],\n",
       " \n",
       "          [[ 1.5781e+00,  1.6425e+00,  1.6747e+00,  ...,  1.4171e+00,\n",
       "             1.4171e+00,  1.3205e+00],\n",
       "           [ 1.2882e+00,  1.3688e+00,  1.4654e+00,  ...,  1.3366e+00,\n",
       "             1.3849e+00,  1.4171e+00],\n",
       "           [ 1.2882e+00,  1.2560e+00,  1.2077e+00,  ...,  1.3527e+00,\n",
       "             1.2882e+00,  1.0145e+00],\n",
       "           ...,\n",
       "           [-1.6103e-01,  1.6103e-02,  8.0515e-02,  ...,  6.4412e-02,\n",
       "            -3.2206e-02,  3.2206e-02],\n",
       "           [-8.0515e-02,  1.1272e-01,  1.6103e-01,  ...,  1.1272e-01,\n",
       "             6.4412e-02, -3.2206e-02],\n",
       "           [-3.2206e-02, -3.2206e-02,  1.7713e-01,  ...,  9.6618e-02,\n",
       "             3.2206e-02,  1.6103e-01]],\n",
       " \n",
       "          [[ 1.9655e+00,  1.9055e+00,  1.9505e+00,  ...,  1.8456e+00,\n",
       "             1.7856e+00,  1.8006e+00],\n",
       "           [ 1.6957e+00,  1.8906e+00,  1.9805e+00,  ...,  1.7706e+00,\n",
       "             1.7706e+00,  1.8606e+00],\n",
       "           [ 1.6207e+00,  1.5757e+00,  1.4108e+00,  ...,  1.8156e+00,\n",
       "             1.7706e+00,  1.2909e+00],\n",
       "           ...,\n",
       "           [-9.7301e-01, -9.2804e-01, -8.9805e-01,  ..., -8.9805e-01,\n",
       "            -9.5802e-01, -9.1304e-01],\n",
       "           [-8.3808e-01, -9.4303e-01, -8.6807e-01,  ..., -8.3808e-01,\n",
       "            -8.6807e-01, -8.9805e-01],\n",
       "           [-8.3808e-01, -1.0630e+00, -8.3808e-01,  ..., -8.5307e-01,\n",
       "            -9.1304e-01, -7.7811e-01]]],\n",
       " \n",
       " \n",
       "         ...,\n",
       " \n",
       " \n",
       "         [[[ 1.3762e+00,  2.6508e-01,  9.0000e-01,  ...,  2.0429e+00,\n",
       "             2.0587e+00,  2.0587e+00],\n",
       "           [ 8.6825e-01,  1.2222e-01,  9.1587e-01,  ...,  1.7413e+00,\n",
       "             1.6778e+00,  1.6302e+00],\n",
       "           [ 4.8730e-01,  1.1111e-02,  9.6349e-01,  ...,  1.0270e+00,\n",
       "             1.0429e+00,  1.0587e+00],\n",
       "           ...,\n",
       "           [ 2.0587e+00,  2.0587e+00,  2.0429e+00,  ...,  2.0587e+00,\n",
       "             2.0587e+00,  2.0587e+00],\n",
       "           [ 2.0587e+00,  2.0587e+00,  2.0429e+00,  ...,  2.0429e+00,\n",
       "             2.0587e+00,  2.0587e+00],\n",
       "           [ 2.0587e+00,  2.0587e+00,  2.0429e+00,  ...,  1.9317e+00,\n",
       "             2.0587e+00,  2.0587e+00]],\n",
       " \n",
       "          [[ 1.2238e+00, -2.4155e-01,  5.7971e-01,  ...,  2.1256e+00,\n",
       "             2.1256e+00,  2.1256e+00],\n",
       "           [ 6.2802e-01, -3.5427e-01,  6.9243e-01,  ...,  1.7230e+00,\n",
       "             1.6425e+00,  1.5137e+00],\n",
       "           [ 1.6103e-01, -4.3478e-01,  7.8905e-01,  ...,  7.4074e-01,\n",
       "             7.5684e-01,  7.4074e-01],\n",
       "           ...,\n",
       "           [ 2.1256e+00,  2.1256e+00,  2.1095e+00,  ...,  2.1256e+00,\n",
       "             2.1256e+00,  2.1256e+00],\n",
       "           [ 2.1256e+00,  2.1256e+00,  2.1095e+00,  ...,  2.1095e+00,\n",
       "             2.1256e+00,  2.1256e+00],\n",
       "           [ 2.1256e+00,  2.1256e+00,  2.1095e+00,  ...,  1.9968e+00,\n",
       "             2.1256e+00,  2.1256e+00]],\n",
       " \n",
       "          [[ 7.5112e-01, -1.3928e+00, -2.2339e-01,  ...,  2.1154e+00,\n",
       "             2.1154e+00,  2.1154e+00],\n",
       "           [ 4.6477e-02, -1.5277e+00,  1.6492e-02,  ...,  1.3058e+00,\n",
       "             1.1109e+00,  9.0105e-01],\n",
       "           [-3.8831e-01, -1.4528e+00,  1.6642e-01,  ..., -2.6837e-01,\n",
       "            -3.1334e-01, -3.5832e-01],\n",
       "           ...,\n",
       "           [ 2.1154e+00,  2.1154e+00,  2.1004e+00,  ...,  2.1154e+00,\n",
       "             2.1154e+00,  2.1154e+00],\n",
       "           [ 2.1154e+00,  2.1154e+00,  2.1004e+00,  ...,  2.1004e+00,\n",
       "             2.1154e+00,  2.1154e+00],\n",
       "           [ 2.1154e+00,  2.1154e+00,  2.1154e+00,  ...,  1.9955e+00,\n",
       "             2.1154e+00,  2.1154e+00]]],\n",
       " \n",
       " \n",
       "         [[[-4.0159e-01, -4.4921e-01, -5.1270e-01,  ..., -1.0048e+00,\n",
       "            -1.0524e+00, -1.1159e+00],\n",
       "           [-3.8571e-01, -4.3333e-01, -4.9683e-01,  ..., -9.8889e-01,\n",
       "            -1.0206e+00, -1.1000e+00],\n",
       "           [-3.5397e-01, -4.0159e-01, -4.6508e-01,  ..., -9.4127e-01,\n",
       "            -1.0048e+00, -1.0683e+00],\n",
       "           ...,\n",
       "           [-1.9571e+00, -1.8937e+00, -1.8302e+00,  ...,  8.2063e-01,\n",
       "             1.5508e+00,  1.3444e+00],\n",
       "           [-1.9413e+00, -1.8937e+00, -1.8302e+00,  ...,  8.8413e-01,\n",
       "             1.1857e+00,  1.0905e+00],\n",
       "           [-1.9571e+00, -1.8937e+00, -1.8302e+00,  ...,  8.2063e-01,\n",
       "             1.5508e+00,  1.3444e+00]],\n",
       " \n",
       "          [[-1.4171e+00, -1.4654e+00, -1.5298e+00,  ..., -1.5459e+00,\n",
       "            -1.5781e+00, -1.5942e+00],\n",
       "           [-1.4010e+00, -1.4493e+00, -1.4976e+00,  ..., -1.5298e+00,\n",
       "            -1.5459e+00, -1.5781e+00],\n",
       "           [-1.3688e+00, -1.4171e+00, -1.4654e+00,  ..., -1.4976e+00,\n",
       "            -1.5298e+00, -1.5459e+00],\n",
       "           ...,\n",
       "           [-1.9324e+00, -1.9485e+00, -1.9485e+00,  ...,  1.4815e+00,\n",
       "             1.2399e+00,  5.1530e-01],\n",
       "           [-1.9485e+00, -1.9485e+00, -1.9324e+00,  ...,  1.4010e+00,\n",
       "             8.5346e-01,  4.8309e-01],\n",
       "           [-1.9324e+00, -1.9485e+00, -1.9485e+00,  ...,  1.4815e+00,\n",
       "             1.2399e+00,  5.1530e-01]],\n",
       " \n",
       "          [[-1.2729e+00, -1.2729e+00, -1.3028e+00,  ..., -1.3478e+00,\n",
       "            -1.3628e+00, -1.4228e+00],\n",
       "           [-1.2429e+00, -1.2579e+00, -1.2879e+00,  ..., -1.3478e+00,\n",
       "            -1.3328e+00, -1.3928e+00],\n",
       "           [-1.2129e+00, -1.2279e+00, -1.2579e+00,  ..., -1.3028e+00,\n",
       "            -1.3028e+00, -1.3778e+00],\n",
       "           ...,\n",
       "           [-1.6627e+00, -1.6627e+00, -1.6477e+00,  ...,  7.6612e-01,\n",
       "             7.5112e-01,  1.6642e-01],\n",
       "           [-1.6627e+00, -1.6477e+00, -1.6327e+00,  ...,  7.5112e-01,\n",
       "             4.3628e-01,  1.8141e-01],\n",
       "           [-1.6627e+00, -1.6627e+00, -1.6477e+00,  ...,  7.6612e-01,\n",
       "             7.5112e-01,  1.6642e-01]]],\n",
       " \n",
       " \n",
       "         [[[ 7.4603e-02,  9.0476e-02,  1.0635e-01,  ...,  1.5397e-01,\n",
       "             1.5397e-01,  1.5397e-01],\n",
       "           [ 7.4603e-02,  9.0476e-02,  1.0635e-01,  ...,  1.5397e-01,\n",
       "             1.5397e-01,  1.5397e-01],\n",
       "           [ 5.8730e-02,  7.4603e-02,  7.4603e-02,  ...,  1.3810e-01,\n",
       "             1.3810e-01,  1.2222e-01],\n",
       "           ...,\n",
       "           [ 2.6508e-01,  2.6508e-01,  2.4921e-01,  ...,  1.8571e-01,\n",
       "             1.8571e-01,  1.8571e-01],\n",
       "           [ 2.6508e-01,  2.6508e-01,  2.4921e-01,  ...,  1.6984e-01,\n",
       "             1.6984e-01,  1.6984e-01],\n",
       "           [ 2.6508e-01,  2.6508e-01,  2.3333e-01,  ...,  1.5397e-01,\n",
       "             1.5397e-01,  1.5397e-01]],\n",
       " \n",
       "          [[ 5.4750e-01,  5.4750e-01,  5.3140e-01,  ...,  5.7971e-01,\n",
       "             5.7971e-01,  5.7971e-01],\n",
       "           [ 5.4750e-01,  5.4750e-01,  5.3140e-01,  ...,  5.7971e-01,\n",
       "             5.7971e-01,  5.7971e-01],\n",
       "           [ 5.3140e-01,  5.3140e-01,  5.3140e-01,  ...,  5.4750e-01,\n",
       "             5.4750e-01,  5.4750e-01],\n",
       "           ...,\n",
       "           [ 6.6023e-01,  6.6023e-01,  6.4412e-01,  ...,  6.1192e-01,\n",
       "             6.1192e-01,  6.2802e-01],\n",
       "           [ 6.6023e-01,  6.6023e-01,  6.4412e-01,  ...,  6.2802e-01,\n",
       "             6.2802e-01,  6.4412e-01],\n",
       "           [ 6.6023e-01,  6.6023e-01,  6.2802e-01,  ...,  6.4412e-01,\n",
       "             6.4412e-01,  6.4412e-01]],\n",
       " \n",
       "          [[ 1.2909e+00,  1.2909e+00,  1.2909e+00,  ...,  1.3358e+00,\n",
       "             1.3358e+00,  1.3358e+00],\n",
       "           [ 1.2909e+00,  1.2909e+00,  1.2909e+00,  ...,  1.3358e+00,\n",
       "             1.3358e+00,  1.3358e+00],\n",
       "           [ 1.2759e+00,  1.2759e+00,  1.2759e+00,  ...,  1.3058e+00,\n",
       "             1.3058e+00,  1.3058e+00],\n",
       "           ...,\n",
       "           [ 1.3358e+00,  1.3358e+00,  1.3208e+00,  ...,  1.3658e+00,\n",
       "             1.3508e+00,  1.3358e+00],\n",
       "           [ 1.3358e+00,  1.3358e+00,  1.3208e+00,  ...,  1.3508e+00,\n",
       "             1.3508e+00,  1.3358e+00],\n",
       "           [ 1.3358e+00,  1.3358e+00,  1.3058e+00,  ...,  1.3358e+00,\n",
       "             1.3358e+00,  1.3358e+00]]]]),\n",
       " tensor([4, 5, 0, 0, 9, 3, 5, 0, 0, 5, 7, 0, 0, 7, 4, 5, 7, 8, 7, 0, 8, 3, 4, 5,\n",
       "         4, 6, 5, 5, 3, 6, 9, 5, 7, 4, 7, 4, 8, 0, 5, 4, 5, 0, 5, 5, 3, 5, 4, 8,\n",
       "         4, 3, 7, 5, 4, 0, 7, 5, 8, 7, 8, 7, 5, 0, 5, 0])]"
      ]
     },
     "execution_count": 13,
     "metadata": {},
     "output_type": "execute_result"
    }
   ],
   "source": [
    "train_dl_local, test_dl_local, _, _ = get_dataloader(\"cifar10\", '../data', 64, 32, dataidxs=net_dataidx_map[0])\n",
    "next(iter(train_dl_local))"
   ]
  },
  {
   "cell_type": "markdown",
   "id": "792df9f5",
   "metadata": {},
   "source": [
    "## data"
   ]
  },
  {
   "cell_type": "code",
   "execution_count": 142,
   "id": "0cb9e224",
   "metadata": {},
   "outputs": [
    {
     "name": "stdout",
     "output_type": "stream",
     "text": [
      "Files already downloaded and verified\n",
      "Files already downloaded and verified\n"
     ]
    }
   ],
   "source": [
    "import copy\n",
    "train_dl_local, test_dl_local, _, _ = get_dataloader(\"cifar10\", './', 64, 32, dataidxs=net_dataidx_map[0])\n",
    "for idx, (X,Y) in enumerate(train_dl_local):\n",
    "    \n",
    "    if idx == 0:\n",
    "        x0=copy.copy(X)\n",
    "        y0=copy.copy(Y)\n",
    "    elif idx == 1:\n",
    "        x1 = copy.copy(X)\n",
    "        y1 = copy.copy(Y)\n",
    "    else:\n",
    "\n",
    "        break\n"
   ]
  },
  {
   "cell_type": "code",
   "execution_count": 145,
   "id": "6be49234",
   "metadata": {},
   "outputs": [
    {
     "data": {
      "text/plain": [
       "tensor([0, 0, 0, 0, 0, 0, 0, 0, 0, 0, 0, 1, 1, 0, 1, 0, 1, 0, 0, 0, 0, 0, 0, 0,\n",
       "        0, 0, 0, 1, 0, 0, 0, 0, 1, 0, 0, 1, 0, 0, 0, 0, 0, 1, 0, 0, 0, 0, 0, 0,\n",
       "        0, 0, 0, 1, 0, 0, 1, 0, 0, 0, 1, 1, 0, 0, 1, 0])"
      ]
     },
     "execution_count": 145,
     "metadata": {},
     "output_type": "execute_result"
    }
   ],
   "source": [
    "y0"
   ]
  },
  {
   "cell_type": "code",
   "execution_count": 146,
   "id": "4989bd84",
   "metadata": {},
   "outputs": [
    {
     "data": {
      "text/plain": [
       "tensor([0, 1, 1, 1, 0, 1, 1, 0, 0, 0, 0, 0, 0, 0, 0, 0, 0, 1, 0, 0, 1, 0, 1, 1,\n",
       "        0, 0, 0, 0, 1, 1, 0, 0, 0, 1, 0, 0, 0, 0, 0, 0, 0, 0, 1, 0, 0, 0, 0, 0,\n",
       "        0, 1, 0, 1, 0, 0, 1, 0, 0, 0, 0, 0, 1, 0, 0, 0])"
      ]
     },
     "execution_count": 146,
     "metadata": {},
     "output_type": "execute_result"
    }
   ],
   "source": [
    "y1"
   ]
  },
  {
   "cell_type": "code",
   "execution_count": 143,
   "id": "d321fb66",
   "metadata": {},
   "outputs": [
    {
     "data": {
      "text/plain": [
       "tensor([0, 0, 0, 0, 0, 0, 0, 0, 0, 0, 0, 1, 1, 0, 1, 0, 1, 0, 0, 0, 0, 0, 0, 0,\n",
       "        0, 0, 0, 1, 0, 0, 0, 0, 1, 0, 0, 1, 0, 0, 0, 0, 0, 1, 0, 0, 0, 0, 0, 0,\n",
       "        0, 0, 0, 1, 0, 0, 1, 0, 0, 0, 1, 1, 0, 0, 1, 0, 0, 1, 1, 1, 0, 1, 1, 0,\n",
       "        0, 0, 0, 0, 0, 0, 0, 0, 0, 1, 0, 0, 1, 0, 1, 1, 0, 0, 0, 0, 1, 1, 0, 0,\n",
       "        0, 1, 0, 0, 0, 0, 0, 0, 0, 0, 1, 0, 0, 0, 0, 0, 0, 1, 0, 1, 0, 0, 1, 0,\n",
       "        0, 0, 0, 0, 1, 0, 0, 0])"
      ]
     },
     "execution_count": 143,
     "metadata": {},
     "output_type": "execute_result"
    }
   ],
   "source": [
    "agg = torch.concat((x0,x1))\n",
    "agg.shape\n",
    "agg_target = torch.concat((y0,y1))\n",
    "agg_target"
   ]
  },
  {
   "cell_type": "code",
   "execution_count": 147,
   "id": "1b7146e3",
   "metadata": {},
   "outputs": [
    {
     "data": {
      "text/plain": [
       "array([0, 1])"
      ]
     },
     "execution_count": 147,
     "metadata": {},
     "output_type": "execute_result"
    }
   ],
   "source": [
    "np.unique(agg_target)"
   ]
  },
  {
   "cell_type": "code",
   "execution_count": 148,
   "id": "5d499ad8",
   "metadata": {},
   "outputs": [],
   "source": [
    "net0=copy.deepcopy(net_global)\n",
    "net1=copy.deepcopy(net_global)\n",
    "net2=copy.deepcopy(net_global)\n",
    "net3=copy.deepcopy(net_global)\n",
    "lr=0.01"
   ]
  },
  {
   "cell_type": "markdown",
   "id": "bed0aa5f",
   "metadata": {},
   "source": [
    "## all data"
   ]
  },
  {
   "cell_type": "code",
   "execution_count": 149,
   "id": "8ebc7ba8",
   "metadata": {},
   "outputs": [
    {
     "data": {
      "text/plain": [
       "tensor(2.3328, grad_fn=<NllLossBackward0>)"
      ]
     },
     "execution_count": 149,
     "metadata": {},
     "output_type": "execute_result"
    }
   ],
   "source": [
    "_,_,out0 = net0(agg)\n",
    "loss_0= criterion(out0,agg_target)\n",
    "loss_0"
   ]
  },
  {
   "cell_type": "code",
   "execution_count": 150,
   "id": "31a47f44",
   "metadata": {},
   "outputs": [],
   "source": [
    "optimizer_0 = optim.SGD(filter(lambda p: p.requires_grad, net0.parameters()), lr=lr, weight_decay=1e-5)\n",
    "optimizer_0.zero_grad()\n",
    "loss_0.backward()\n",
    "optimizer_0.step()"
   ]
  },
  {
   "cell_type": "code",
   "execution_count": 151,
   "id": "b3003078",
   "metadata": {},
   "outputs": [
    {
     "data": {
      "text/plain": [
       "{'state': {0: {'momentum_buffer': None},\n",
       "  1: {'momentum_buffer': None},\n",
       "  2: {'momentum_buffer': None},\n",
       "  3: {'momentum_buffer': None},\n",
       "  4: {'momentum_buffer': None},\n",
       "  5: {'momentum_buffer': None},\n",
       "  6: {'momentum_buffer': None},\n",
       "  7: {'momentum_buffer': None},\n",
       "  8: {'momentum_buffer': None},\n",
       "  9: {'momentum_buffer': None},\n",
       "  10: {'momentum_buffer': None},\n",
       "  11: {'momentum_buffer': None},\n",
       "  12: {'momentum_buffer': None},\n",
       "  13: {'momentum_buffer': None}},\n",
       " 'param_groups': [{'lr': 0.01,\n",
       "   'momentum': 0,\n",
       "   'dampening': 0,\n",
       "   'weight_decay': 1e-05,\n",
       "   'nesterov': False,\n",
       "   'maximize': False,\n",
       "   'params': [0, 1, 2, 3, 4, 5, 6, 7, 8, 9, 10, 11, 12, 13]}]}"
      ]
     },
     "execution_count": 151,
     "metadata": {},
     "output_type": "execute_result"
    }
   ],
   "source": [
    "\n",
    "optimizer_0.state_dict()"
   ]
  },
  {
   "cell_type": "markdown",
   "id": "88e82383",
   "metadata": {},
   "source": [
    "## batch 0"
   ]
  },
  {
   "cell_type": "code",
   "execution_count": 72,
   "id": "faa2ea2b",
   "metadata": {},
   "outputs": [
    {
     "data": {
      "text/plain": [
       "tensor([8, 3, 3, 1, 7, 7, 9, 8, 8, 2, 6, 0, 5, 2, 3, 1, 4, 5, 0, 5, 0, 3, 0, 9,\n",
       "        2, 7, 5, 7, 0, 7, 7, 5, 4, 0, 6, 3, 4, 8, 6, 6, 4, 5, 6, 4, 3, 8, 8, 1,\n",
       "        6, 9, 7, 0, 4, 3, 4, 3, 2, 4, 3, 6, 2, 0, 9, 4])"
      ]
     },
     "execution_count": 72,
     "metadata": {},
     "output_type": "execute_result"
    }
   ],
   "source": [
    "y0"
   ]
  },
  {
   "cell_type": "code",
   "execution_count": 73,
   "id": "f1324199",
   "metadata": {},
   "outputs": [
    {
     "data": {
      "text/plain": [
       "tensor(2.3076, grad_fn=<NllLossBackward0>)"
      ]
     },
     "execution_count": 73,
     "metadata": {},
     "output_type": "execute_result"
    }
   ],
   "source": [
    "_,_,out1 = net1(x0)\n",
    "loss_1= criterion(out1,y0)\n",
    "loss_1"
   ]
  },
  {
   "cell_type": "code",
   "execution_count": 74,
   "id": "1b69f12d",
   "metadata": {},
   "outputs": [
    {
     "data": {
      "text/plain": [
       "SGD (\n",
       "Parameter Group 0\n",
       "    dampening: 0\n",
       "    lr: 0.01\n",
       "    maximize: False\n",
       "    momentum: 0\n",
       "    nesterov: False\n",
       "    weight_decay: 1e-05\n",
       ")"
      ]
     },
     "execution_count": 74,
     "metadata": {},
     "output_type": "execute_result"
    }
   ],
   "source": [
    "optimizer_1 = optim.SGD(filter(lambda p: p.requires_grad, net1.parameters()), lr=lr, weight_decay=1e-5)\n",
    "optimizer_1"
   ]
  },
  {
   "cell_type": "markdown",
   "id": "fbd225bb",
   "metadata": {},
   "source": [
    "## batch 1"
   ]
  },
  {
   "cell_type": "code",
   "execution_count": 75,
   "id": "1c568339",
   "metadata": {},
   "outputs": [
    {
     "data": {
      "text/plain": [
       "tensor([4, 4, 5, 6, 1, 1, 7, 1, 9, 8, 4, 4, 2, 7, 5, 2, 7, 9, 9, 9, 1, 8, 5, 0,\n",
       "        5, 7, 1, 9, 4, 8, 5, 2, 8, 1, 3, 0, 4, 7, 9, 6, 5, 1, 5, 2, 3, 4, 2, 0,\n",
       "        5, 2, 4, 5, 9, 7, 3, 3, 8, 3, 7, 7, 6, 7, 9, 9])"
      ]
     },
     "execution_count": 75,
     "metadata": {},
     "output_type": "execute_result"
    }
   ],
   "source": [
    "y1"
   ]
  },
  {
   "cell_type": "code",
   "execution_count": 76,
   "id": "984e6c19",
   "metadata": {},
   "outputs": [
    {
     "data": {
      "text/plain": [
       "tensor(2.2998, grad_fn=<NllLossBackward0>)"
      ]
     },
     "execution_count": 76,
     "metadata": {},
     "output_type": "execute_result"
    }
   ],
   "source": [
    "_,_,out2 = net2(x1)\n",
    "loss_2= criterion(out2,y1)\n",
    "loss_2"
   ]
  },
  {
   "cell_type": "code",
   "execution_count": 77,
   "id": "c1310c7c",
   "metadata": {},
   "outputs": [
    {
     "data": {
      "text/plain": [
       "SGD (\n",
       "Parameter Group 0\n",
       "    dampening: 0\n",
       "    lr: 0.01\n",
       "    maximize: False\n",
       "    momentum: 0\n",
       "    nesterov: False\n",
       "    weight_decay: 1e-05\n",
       ")"
      ]
     },
     "execution_count": 77,
     "metadata": {},
     "output_type": "execute_result"
    }
   ],
   "source": [
    "optimizer_2 = optim.SGD(filter(lambda p: p.requires_grad, net2.parameters()), lr=lr,weight_decay=1e-5)\n",
    "optimizer_2"
   ]
  },
  {
   "cell_type": "markdown",
   "id": "bf859e12",
   "metadata": {},
   "source": [
    "## aggregate loss"
   ]
  },
  {
   "cell_type": "code",
   "execution_count": 78,
   "id": "46cbd747",
   "metadata": {},
   "outputs": [
    {
     "data": {
      "text/plain": [
       "tensor(2.3037)"
      ]
     },
     "execution_count": 78,
     "metadata": {},
     "output_type": "execute_result"
    }
   ],
   "source": [
    "with torch.no_grad():\n",
    "    loss = torch.div(loss_1+loss_2,2)\n",
    "loss"
   ]
  },
  {
   "cell_type": "code",
   "execution_count": 79,
   "id": "733a2c6d",
   "metadata": {},
   "outputs": [
    {
     "data": {
      "text/plain": [
       "tensor(2.3037, grad_fn=<NllLossBackward0>)"
      ]
     },
     "execution_count": 79,
     "metadata": {},
     "output_type": "execute_result"
    }
   ],
   "source": [
    "with torch.no_grad():\n",
    "    loss_1.set_(loss)\n",
    "loss_1"
   ]
  },
  {
   "cell_type": "code",
   "execution_count": 80,
   "id": "e5b455bd",
   "metadata": {},
   "outputs": [
    {
     "data": {
      "text/plain": [
       "tensor(2.3037, grad_fn=<NllLossBackward0>)"
      ]
     },
     "execution_count": 80,
     "metadata": {},
     "output_type": "execute_result"
    }
   ],
   "source": [
    "with torch.no_grad():\n",
    "    loss_2.set_(loss)\n",
    "loss_2"
   ]
  },
  {
   "cell_type": "markdown",
   "id": "a161f20a",
   "metadata": {},
   "source": [
    "## batch 0 forward"
   ]
  },
  {
   "cell_type": "code",
   "execution_count": 81,
   "id": "e8e323fb",
   "metadata": {},
   "outputs": [
    {
     "data": {
      "text/plain": [
       "{'state': {0: {'momentum_buffer': None},\n",
       "  1: {'momentum_buffer': None},\n",
       "  2: {'momentum_buffer': None},\n",
       "  3: {'momentum_buffer': None},\n",
       "  4: {'momentum_buffer': None},\n",
       "  5: {'momentum_buffer': None},\n",
       "  6: {'momentum_buffer': None},\n",
       "  7: {'momentum_buffer': None},\n",
       "  8: {'momentum_buffer': None},\n",
       "  9: {'momentum_buffer': None},\n",
       "  10: {'momentum_buffer': None},\n",
       "  11: {'momentum_buffer': None},\n",
       "  12: {'momentum_buffer': None},\n",
       "  13: {'momentum_buffer': None}},\n",
       " 'param_groups': [{'lr': 0.01,\n",
       "   'momentum': 0,\n",
       "   'dampening': 0,\n",
       "   'weight_decay': 1e-05,\n",
       "   'nesterov': False,\n",
       "   'maximize': False,\n",
       "   'params': [0, 1, 2, 3, 4, 5, 6, 7, 8, 9, 10, 11, 12, 13]}]}"
      ]
     },
     "execution_count": 81,
     "metadata": {},
     "output_type": "execute_result"
    }
   ],
   "source": [
    "optimizer_1.zero_grad()\n",
    "loss_1.backward()\n",
    "optimizer_1.step()\n",
    "optimizer_1.state_dict()"
   ]
  },
  {
   "cell_type": "markdown",
   "id": "e7f6992e",
   "metadata": {},
   "source": [
    "## batch 1 forward"
   ]
  },
  {
   "cell_type": "code",
   "execution_count": 82,
   "id": "de1472fb",
   "metadata": {},
   "outputs": [
    {
     "data": {
      "text/plain": [
       "{'state': {0: {'momentum_buffer': None},\n",
       "  1: {'momentum_buffer': None},\n",
       "  2: {'momentum_buffer': None},\n",
       "  3: {'momentum_buffer': None},\n",
       "  4: {'momentum_buffer': None},\n",
       "  5: {'momentum_buffer': None},\n",
       "  6: {'momentum_buffer': None},\n",
       "  7: {'momentum_buffer': None},\n",
       "  8: {'momentum_buffer': None},\n",
       "  9: {'momentum_buffer': None},\n",
       "  10: {'momentum_buffer': None},\n",
       "  11: {'momentum_buffer': None},\n",
       "  12: {'momentum_buffer': None},\n",
       "  13: {'momentum_buffer': None}},\n",
       " 'param_groups': [{'lr': 0.01,\n",
       "   'momentum': 0,\n",
       "   'dampening': 0,\n",
       "   'weight_decay': 1e-05,\n",
       "   'nesterov': False,\n",
       "   'maximize': False,\n",
       "   'params': [0, 1, 2, 3, 4, 5, 6, 7, 8, 9, 10, 11, 12, 13]}]}"
      ]
     },
     "execution_count": 82,
     "metadata": {},
     "output_type": "execute_result"
    }
   ],
   "source": [
    "optimizer_2.zero_grad()\n",
    "loss_2.backward()\n",
    "optimizer_2.step()\n",
    "optimizer_2.state_dict()"
   ]
  },
  {
   "cell_type": "markdown",
   "id": "e1072428",
   "metadata": {},
   "source": [
    "## compare state_dict()"
   ]
  },
  {
   "cell_type": "code",
   "execution_count": 83,
   "id": "ac1d7eba",
   "metadata": {},
   "outputs": [
    {
     "ename": "TypeError",
     "evalue": "unsupported operand type(s) for -: 'NoneType' and 'NoneType'",
     "output_type": "error",
     "traceback": [
      "\u001b[0;31m---------------------------------------------------------------------------\u001b[0m",
      "\u001b[0;31mTypeError\u001b[0m                                 Traceback (most recent call last)",
      "\u001b[0;32m/tmp/ipykernel_3504981/259790216.py\u001b[0m in \u001b[0;36m<module>\u001b[0;34m\u001b[0m\n\u001b[1;32m      5\u001b[0m     \u001b[0mcom1\u001b[0m \u001b[0;34m=\u001b[0m \u001b[0moptimizer_1\u001b[0m\u001b[0;34m.\u001b[0m\u001b[0mstate_dict\u001b[0m\u001b[0;34m(\u001b[0m\u001b[0;34m)\u001b[0m\u001b[0;34m[\u001b[0m\u001b[0;34m'state'\u001b[0m\u001b[0;34m]\u001b[0m\u001b[0;34m[\u001b[0m\u001b[0mi\u001b[0m\u001b[0;34m]\u001b[0m\u001b[0;34m[\u001b[0m\u001b[0;34m'momentum_buffer'\u001b[0m\u001b[0;34m]\u001b[0m\u001b[0;34m\u001b[0m\u001b[0m\n\u001b[1;32m      6\u001b[0m     \u001b[0mcom0\u001b[0m \u001b[0;34m=\u001b[0m \u001b[0moptimizer_0\u001b[0m\u001b[0;34m.\u001b[0m\u001b[0mstate_dict\u001b[0m\u001b[0;34m(\u001b[0m\u001b[0;34m)\u001b[0m\u001b[0;34m[\u001b[0m\u001b[0;34m'state'\u001b[0m\u001b[0;34m]\u001b[0m\u001b[0;34m[\u001b[0m\u001b[0mi\u001b[0m\u001b[0;34m]\u001b[0m\u001b[0;34m[\u001b[0m\u001b[0;34m'momentum_buffer'\u001b[0m\u001b[0;34m]\u001b[0m\u001b[0;34m\u001b[0m\u001b[0m\n\u001b[0;32m----> 7\u001b[0;31m     \u001b[0mdis0_1\u001b[0m\u001b[0;34m.\u001b[0m\u001b[0mappend\u001b[0m\u001b[0;34m(\u001b[0m\u001b[0msum\u001b[0m\u001b[0;34m(\u001b[0m\u001b[0mcom0\u001b[0m\u001b[0;34m-\u001b[0m\u001b[0mcom1\u001b[0m\u001b[0;34m)\u001b[0m\u001b[0;34m)\u001b[0m\u001b[0;34m\u001b[0m\u001b[0m\n\u001b[0m\u001b[1;32m      8\u001b[0m     \u001b[0mdis0_2\u001b[0m\u001b[0;34m.\u001b[0m\u001b[0mappend\u001b[0m\u001b[0;34m(\u001b[0m\u001b[0msum\u001b[0m\u001b[0;34m(\u001b[0m\u001b[0mcom0\u001b[0m\u001b[0;34m-\u001b[0m\u001b[0mcom2\u001b[0m\u001b[0;34m)\u001b[0m\u001b[0;34m)\u001b[0m\u001b[0;34m\u001b[0m\u001b[0m\n",
      "\u001b[0;31mTypeError\u001b[0m: unsupported operand type(s) for -: 'NoneType' and 'NoneType'"
     ]
    }
   ],
   "source": [
    "dis0_1 = []\n",
    "dis0_2= []\n",
    "for i in range(14):\n",
    "    com2 = optimizer_2.state_dict()['state'][i]['momentum_buffer']\n",
    "    com1 = optimizer_1.state_dict()['state'][i]['momentum_buffer']\n",
    "    com0 = optimizer_0.state_dict()['state'][i]['momentum_buffer']\n",
    "    dis0_1.append(sum(com0-com1))\n",
    "    dis0_2.append(sum(com0-com2))\n"
   ]
  },
  {
   "cell_type": "code",
   "execution_count": 84,
   "id": "fd63eec9",
   "metadata": {
    "collapsed": true
   },
   "outputs": [
    {
     "data": {
      "text/plain": [
       "[tensor([[[[-9.3784e-06, -6.2846e-06,  3.5912e-06,  3.0547e-07, -1.2323e-05],\n",
       "           [-1.3433e-05, -4.0159e-06,  2.9393e-06, -4.0289e-06, -1.3369e-05],\n",
       "           [-3.8147e-06,  2.3842e-07,  1.9632e-06, -2.9877e-06, -1.0476e-05],\n",
       "           [-5.8152e-06, -8.5346e-06, -6.7279e-06, -1.1697e-05, -1.5810e-05],\n",
       "           [-1.9539e-05, -2.0503e-05, -1.3947e-05, -1.5572e-05, -2.0463e-05]],\n",
       " \n",
       "          [[-1.5494e-05, -1.0408e-05, -3.4999e-06, -9.5516e-06, -2.1249e-05],\n",
       "           [-2.2464e-05, -1.0602e-05, -5.2806e-06, -1.3702e-05, -2.4626e-05],\n",
       "           [-1.5517e-05, -1.0032e-05, -8.9332e-06, -1.3128e-05, -2.0817e-05],\n",
       "           [-1.7881e-05, -1.7792e-05, -1.6645e-05, -2.1446e-05, -2.5537e-05],\n",
       "           [-3.1643e-05, -3.0100e-05, -2.4565e-05, -2.5049e-05, -2.8379e-05]],\n",
       " \n",
       "          [[-1.1314e-05, -7.7188e-06, -3.2447e-06, -1.0513e-05, -1.9897e-05],\n",
       "           [-1.7434e-05, -8.6864e-06, -5.7109e-06, -1.4968e-05, -2.3559e-05],\n",
       "           [-1.2487e-05, -8.9332e-06, -9.7156e-06, -1.5028e-05, -2.1964e-05],\n",
       "           [-1.5423e-05, -1.5981e-05, -1.7317e-05, -2.2357e-05, -2.4945e-05],\n",
       "           [-2.9117e-05, -2.9113e-05, -2.5570e-05, -2.4430e-05, -2.6505e-05]]],\n",
       " \n",
       " \n",
       "         [[[-6.0108e-06, -9.4622e-07,  7.8585e-06,  1.7434e-06,  1.5497e-06],\n",
       "           [-6.1840e-06, -9.8348e-07,  6.2240e-06,  5.3085e-06,  4.1276e-06],\n",
       "           [-5.1893e-06, -1.8254e-06, -1.5721e-06, -1.0133e-06,  2.2762e-06],\n",
       "           [-9.9838e-06, -3.7998e-06, -6.5714e-06, -6.1542e-06,  1.0803e-07],\n",
       "           [-1.4976e-05, -6.3777e-06, -1.4566e-05, -1.3135e-05, -6.5584e-06]],\n",
       " \n",
       "          [[-1.3169e-06,  2.5555e-06,  8.6427e-06,  1.8515e-06,  1.6391e-06],\n",
       "           [-3.7253e-08,  4.4052e-06,  8.7190e-06,  6.8322e-06,  5.1111e-06],\n",
       "           [ 1.6578e-06,  3.0501e-06,  8.2701e-07,  3.6508e-07,  3.6806e-06],\n",
       "           [-4.0233e-06,  1.4454e-06, -2.7716e-06, -3.6592e-06,  3.0622e-06],\n",
       "           [-1.1411e-05, -8.7544e-07, -9.8633e-06, -1.1014e-05, -4.8839e-06]],\n",
       " \n",
       "          [[ 2.2363e-07,  3.8128e-06,  7.6964e-06, -2.0955e-07,  1.0401e-06],\n",
       "           [ 4.8503e-06,  8.0615e-06,  8.8438e-06,  4.3772e-06,  4.3511e-06],\n",
       "           [ 7.5176e-06,  6.9886e-06,  2.3320e-06, -3.1292e-07,  3.8594e-06],\n",
       "           [ 1.1213e-06,  6.0690e-06,  5.8115e-07, -1.2368e-06,  5.8375e-06],\n",
       "           [-7.7374e-06,  3.8072e-06, -4.4890e-06, -6.8024e-06, -1.3635e-06]]],\n",
       " \n",
       " \n",
       "         [[[ 7.9125e-06, -4.1500e-06, -1.5385e-06,  5.3756e-06,  8.5551e-06],\n",
       "           [ 1.1906e-05, -9.3319e-07, -1.9819e-06,  1.0427e-05,  1.3344e-05],\n",
       "           [ 9.5274e-06,  7.7486e-07,  8.9407e-08,  7.0930e-06,  3.0622e-06],\n",
       "           [ 8.9929e-06,  8.8830e-06,  8.2701e-06,  6.8173e-06,  1.7323e-06],\n",
       "           [ 3.1963e-06,  4.9621e-06,  1.2054e-05,  1.0341e-05,  3.1441e-06]],\n",
       " \n",
       "          [[ 8.3968e-06, -4.4107e-06, -3.2037e-06,  3.1069e-06,  6.4969e-06],\n",
       "           [ 1.3724e-05,  8.2701e-07, -1.3635e-06,  1.0189e-05,  1.1355e-05],\n",
       "           [ 1.1314e-05,  4.3549e-06,  2.9653e-06,  9.2154e-06,  1.8030e-06],\n",
       "           [ 1.1202e-05,  1.2664e-05,  1.3116e-05,  1.3116e-05,  5.6014e-06],\n",
       "           [ 8.0429e-06,  9.2015e-06,  1.5831e-05,  1.6602e-05,  8.7321e-06]],\n",
       " \n",
       "          [[ 1.0286e-05, -1.1027e-06, -8.1211e-07,  4.2431e-06,  7.8008e-06],\n",
       "           [ 1.6848e-05,  6.2659e-06,  4.7348e-06,  1.3294e-05,  1.2320e-05],\n",
       "           [ 1.3901e-05,  9.4473e-06,  8.9779e-06,  1.2539e-05,  2.6636e-06],\n",
       "           [ 1.2249e-05,  1.6592e-05,  1.7785e-05,  1.4275e-05,  4.9397e-06],\n",
       "           [ 9.7826e-06,  1.3363e-05,  1.9938e-05,  1.7390e-05,  9.0003e-06]]],\n",
       " \n",
       " \n",
       "         [[[-1.1250e-06,  1.0215e-05,  1.2722e-05,  8.0466e-06,  1.5985e-05],\n",
       "           [-1.4044e-06,  4.2990e-06,  1.2178e-05,  1.0740e-05,  1.3150e-05],\n",
       "           [ 4.2692e-06,  5.3765e-06,  1.6347e-05,  1.4752e-05,  1.4266e-05],\n",
       "           [ 1.4834e-05,  9.4026e-06,  1.1809e-05,  9.8031e-06,  1.2762e-05],\n",
       "           [ 1.6138e-05,  1.1623e-05,  1.1198e-05,  9.7901e-06,  1.3120e-05]],\n",
       " \n",
       "          [[-2.1085e-06,  5.9307e-06,  1.0118e-05,  7.8827e-06,  1.3851e-05],\n",
       "           [-3.4608e-06, -1.3979e-06,  8.5384e-06,  9.9465e-06,  1.2085e-05],\n",
       "           [ 1.2591e-06, -4.8615e-07,  1.2338e-05,  1.3538e-05,  1.4015e-05],\n",
       "           [ 1.1979e-05,  4.8280e-06,  9.6709e-06,  9.8124e-06,  1.2472e-05],\n",
       "           [ 1.6350e-05,  1.0796e-05,  1.1485e-05,  1.2197e-05,  1.3433e-05]],\n",
       " \n",
       "          [[-1.6689e-06,  5.4054e-06,  9.5665e-06,  6.1346e-06,  1.0435e-05],\n",
       "           [-5.1185e-06, -2.8983e-06,  7.6219e-06,  9.1568e-06,  9.3654e-06],\n",
       "           [-1.2359e-06, -1.1697e-06,  1.2927e-05,  1.3832e-05,  1.1198e-05],\n",
       "           [ 9.7395e-06,  4.1872e-06,  9.1940e-06,  9.7007e-06,  1.0781e-05],\n",
       "           [ 1.4603e-05,  9.2294e-06,  9.8795e-06,  1.1411e-05,  1.2338e-05]]],\n",
       " \n",
       " \n",
       "         [[[ 1.2480e-06,  5.0757e-06, -2.9318e-06,  6.9812e-06,  9.4026e-06],\n",
       "           [ 5.2750e-06,  6.3702e-06,  1.1288e-06,  4.5076e-06,  3.9302e-06],\n",
       "           [ 4.0978e-06,  4.2468e-06,  8.8755e-07, -1.6391e-07, -5.2154e-07],\n",
       "           [-8.7824e-06, -7.0096e-06, -9.3803e-06, -8.4937e-06, -5.2080e-06],\n",
       "           [-1.3687e-05, -1.0991e-05, -1.1027e-05, -9.6262e-06, -4.6007e-06]],\n",
       " \n",
       "          [[-8.6054e-07,  8.4192e-07, -7.9945e-06,  1.4082e-06,  3.5688e-06],\n",
       "           [ 3.4031e-06,  2.5332e-06, -4.9099e-06, -2.2054e-06, -3.8147e-06],\n",
       "           [ 4.3437e-06,  1.1846e-06, -5.7276e-06, -7.4804e-06, -1.0200e-05],\n",
       "           [-7.8231e-06, -1.0125e-05, -1.5099e-05, -1.4216e-05, -1.2077e-05],\n",
       "           [-9.5926e-06, -1.1697e-05, -1.5467e-05, -1.4670e-05, -9.5330e-06]],\n",
       " \n",
       "          [[ 5.3148e-06,  6.7279e-06, -2.0163e-06,  4.6492e-06,  5.3495e-06],\n",
       "           [ 8.9929e-06,  7.9777e-06,  1.2293e-06,  1.5870e-06, -1.0673e-06],\n",
       "           [ 1.1712e-05,  6.5354e-06, -3.5390e-08, -1.7732e-06, -6.3926e-06],\n",
       "           [ 9.3877e-07, -4.2766e-06, -1.0210e-05, -1.0878e-05, -1.0729e-05],\n",
       "           [-1.3448e-06, -6.8638e-06, -1.2562e-05, -1.2241e-05, -6.2287e-06]]],\n",
       " \n",
       " \n",
       "         [[[ 5.8180e-06,  6.0238e-06,  4.0829e-06,  4.7535e-06, -3.2261e-06],\n",
       "           [-9.6858e-07,  2.0117e-06,  6.1393e-06,  9.6463e-06,  9.7603e-07],\n",
       "           [-8.3484e-06, -6.5677e-06, -2.6226e-06,  5.1856e-06,  8.3935e-07],\n",
       "           [-5.1111e-06, -2.0722e-06, -3.3043e-06, -1.8217e-06, -3.0398e-06],\n",
       "           [ 3.8985e-06, -1.7807e-06, -4.9677e-06, -2.9728e-06, -2.6450e-06]],\n",
       " \n",
       "          [[ 8.9258e-06,  1.2117e-05,  1.1821e-05,  1.2416e-05,  3.1069e-06],\n",
       "           [ 5.5321e-06,  1.0386e-05,  1.5393e-05,  1.8906e-05,  8.1435e-06],\n",
       "           [ 1.9073e-06,  3.2857e-06,  8.5458e-06,  1.7650e-05,  1.2040e-05],\n",
       "           [ 4.4685e-06,  6.2063e-06,  7.1600e-06,  9.9911e-06,  8.5533e-06],\n",
       "           [ 1.2590e-05,  5.2154e-06,  4.2524e-06,  8.2012e-06,  8.4266e-06]],\n",
       " \n",
       "          [[ 3.1739e-06,  8.2068e-06,  8.6650e-06,  1.0751e-05,  3.1977e-06],\n",
       "           [-3.6508e-07,  5.3272e-06,  1.2338e-05,  1.7479e-05,  7.7914e-06],\n",
       "           [-1.5497e-06,  1.4398e-06,  8.4490e-06,  1.6816e-05,  1.0461e-05],\n",
       "           [ 2.4587e-06,  5.7220e-06,  7.2159e-06,  9.8422e-06,  7.6890e-06],\n",
       "           [ 8.0913e-06,  4.0680e-06,  4.7833e-06,  8.6129e-06,  8.9612e-06]]]]),\n",
       " tensor([ 2.5369e-05, -5.3123e-06, -8.2999e-06, -9.5125e-06, -1.4011e-05,\n",
       "          1.2361e-05]),\n",
       " tensor([[[[ 3.6210e-06,  3.6769e-06,  4.3514e-06,  2.9076e-06,  3.1292e-06],\n",
       "           [ 3.7551e-06,  9.1195e-06,  3.1040e-06,  5.1688e-06,  2.9188e-06],\n",
       "           [ 3.4831e-06,  5.2080e-06,  3.1721e-06,  5.0236e-06,  2.6152e-06],\n",
       "           [ 2.1011e-06,  3.5730e-06,  9.4855e-07,  4.6268e-06,  5.5283e-06],\n",
       "           [ 5.1484e-06,  5.7557e-06,  1.6652e-06,  5.6312e-06,  1.9763e-06]],\n",
       " \n",
       "          [[ 3.9674e-06,  5.4091e-06,  3.2876e-06,  5.4576e-06,  3.5204e-06],\n",
       "           [ 3.1143e-06,  4.4727e-06,  3.1888e-06,  7.9405e-06,  5.7500e-06],\n",
       "           [ 4.1304e-06,  2.9691e-06,  2.3153e-06,  3.5623e-06,  9.8348e-07],\n",
       "           [ 3.4720e-06,  2.4568e-06,  4.9546e-07,  1.9968e-06,  8.8010e-07],\n",
       "           [ 2.8713e-06,  1.3076e-06,  8.6427e-07,  2.0675e-06, -2.3209e-06]],\n",
       " \n",
       "          [[ 7.0930e-06,  6.2846e-06,  5.9716e-06,  3.0100e-06,  3.0249e-06],\n",
       "           [ 4.2170e-06,  3.1898e-06,  7.2420e-06,  8.0164e-06,  5.0478e-06],\n",
       "           [ 2.4885e-06,  5.5966e-06,  2.7604e-06,  1.9744e-06,  7.3109e-06],\n",
       "           [ 4.4517e-06,  4.9016e-06,  4.2208e-06,  2.4140e-06,  7.5325e-06],\n",
       "           [ 5.5209e-06,  5.4035e-06,  4.9025e-06,  3.8110e-06,  8.8462e-06]],\n",
       " \n",
       "          [[ 5.3272e-06,  1.0356e-06,  6.5099e-07,  2.8647e-06,  3.5949e-06],\n",
       "           [ 4.5598e-06,  1.9372e-07,  7.9721e-07, -6.6869e-07, -3.3416e-06],\n",
       "           [ 7.4804e-06,  8.5607e-06,  1.2837e-05,  7.9572e-06,  7.1526e-07],\n",
       "           [ 5.3719e-06,  4.7423e-06,  1.1871e-05,  1.2279e-05,  8.2236e-06],\n",
       "           [ 9.8534e-07,  3.0454e-06,  4.9882e-06,  3.9525e-06,  5.2936e-06]],\n",
       " \n",
       "          [[ 4.3884e-06,  1.8775e-06,  2.8387e-06,  5.3309e-06,  1.1772e-06],\n",
       "           [ 4.6585e-06,  2.2054e-06,  6.9775e-06,  1.6810e-06, -8.3074e-07],\n",
       "           [ 7.6573e-06,  7.3314e-06,  1.4998e-05,  7.5232e-06,  6.6776e-07],\n",
       "           [ 2.8424e-06,  8.5048e-06,  1.3754e-05,  9.4883e-06,  9.5554e-06],\n",
       "           [ 9.4995e-07,  3.4613e-06,  6.3162e-06,  2.6226e-06,  9.2499e-06]],\n",
       " \n",
       "          [[ 8.1882e-06,  9.1568e-06,  1.4484e-05,  1.1075e-05,  5.2303e-06],\n",
       "           [ 7.0482e-06,  9.2499e-06,  1.1358e-05,  9.4105e-06,  7.6853e-06],\n",
       "           [ 4.4107e-06,  8.4750e-06,  1.0666e-05,  1.1016e-05,  1.0956e-05],\n",
       "           [ 6.9067e-06,  3.2857e-06,  6.2957e-07,  7.4357e-06,  9.8422e-06],\n",
       "           [ 2.8163e-06,  1.1213e-06, -2.8485e-06, -1.0505e-06,  3.6508e-06]]],\n",
       " \n",
       " \n",
       "         [[[-1.9372e-06, -2.8834e-06, -7.7561e-06,  2.5965e-06, -1.4231e-06],\n",
       "           [-1.4380e-06, -2.6599e-06, -2.6524e-06, -2.4512e-06, -2.4661e-06],\n",
       "           [-3.9507e-06, -4.4871e-06, -4.8950e-06, -4.3437e-06, -8.5728e-06],\n",
       "           [-8.0513e-06, -6.2389e-06, -7.6266e-06, -2.7521e-06, -6.0908e-07],\n",
       "           [-6.9290e-06, -7.0632e-06, -8.0094e-06, -9.0413e-06, -3.3202e-06]],\n",
       " \n",
       "          [[-1.1008e-06,  1.6391e-07,  1.7192e-06,  2.7865e-06, -1.6093e-06],\n",
       "           [-2.6827e-06, -5.2154e-08,  2.3625e-06,  3.6731e-06, -9.0525e-07],\n",
       "           [-1.6689e-06,  2.5630e-06,  5.6862e-06,  4.1984e-06,  3.0920e-07],\n",
       "           [-3.2419e-06,  9.3132e-07,  1.6242e-06,  4.4703e-08, -1.7062e-06],\n",
       "           [-4.8429e-06, -2.1830e-06,  2.8312e-07, -1.2401e-06, -1.5460e-07]],\n",
       " \n",
       "          [[ 2.2575e-06, -7.0781e-07, -3.4720e-06, -1.2815e-06, -5.8524e-06],\n",
       "           [ 7.7486e-07,  4.9714e-06, -2.1271e-06, -1.8273e-06, -5.7295e-06],\n",
       "           [ 4.0717e-06,  6.2250e-06, -2.4587e-07,  2.4214e-07, -1.5441e-06],\n",
       "           [ 4.4908e-06,  3.4347e-06, -6.7800e-07, -4.3660e-06, -4.4145e-06],\n",
       "           [-7.9349e-07,  1.4007e-06, -3.2224e-06, -7.4506e-07, -1.9372e-06]],\n",
       " \n",
       "          [[-7.7561e-06, -8.6203e-06, -1.0695e-05, -8.0466e-06, -4.3381e-06],\n",
       "           [-1.6168e-05, -1.4991e-05, -9.9652e-06, -1.4916e-05, -1.2629e-05],\n",
       "           [-1.4322e-05, -1.2020e-05, -1.7401e-05, -1.2748e-05, -1.3962e-05],\n",
       "           [-1.3374e-05, -1.3731e-05, -1.8716e-05, -2.0429e-05, -2.0150e-05],\n",
       "           [-6.7204e-06, -7.6033e-06, -1.0130e-05, -1.0647e-05, -5.4091e-06]],\n",
       " \n",
       "          [[-5.3421e-06, -4.3418e-06, -4.5579e-06, -9.1568e-06, -7.4506e-07],\n",
       "           [-7.9237e-06, -3.6620e-06, -8.2776e-06, -5.8785e-06, -6.0536e-06],\n",
       "           [-9.5293e-06, -3.8203e-06, -9.5665e-06, -7.6219e-06, -5.1707e-06],\n",
       "           [-6.1011e-06, -3.6731e-06, -9.1493e-06, -8.7023e-06, -8.7619e-06],\n",
       "           [-3.3602e-06, -3.8482e-06, -1.0302e-05, -6.4969e-06, -2.0973e-06]],\n",
       " \n",
       "          [[-4.6492e-06, -7.1712e-07, -1.9381e-06, -6.8871e-06, -4.8652e-06],\n",
       "           [ 1.2480e-07,  2.2277e-06,  1.2852e-06, -1.0468e-06, -2.3916e-06],\n",
       "           [ 1.0440e-06,  4.5225e-06,  4.0345e-06,  5.9605e-08, -2.0079e-06],\n",
       "           [ 2.9057e-06,  1.2629e-06,  1.9819e-06, -2.2538e-06, -2.5705e-06],\n",
       "           [-4.2841e-08,  1.4752e-06,  4.2841e-06, -4.6641e-06, -7.7151e-06]]],\n",
       " \n",
       " \n",
       "         [[[-3.5400e-06, -5.7230e-06, -9.3207e-06, -5.7174e-06, -5.4538e-06],\n",
       "           [-2.8759e-06, -7.7859e-06, -1.0103e-05, -7.4001e-06, -7.6592e-06],\n",
       "           [-6.1169e-06, -5.8711e-06, -9.3281e-06, -1.1721e-05, -8.2664e-06],\n",
       "           [-4.4294e-06, -3.5726e-06, -9.9726e-06, -1.0556e-05, -5.4650e-06],\n",
       "           [-9.7579e-06, -8.3148e-06, -7.9796e-06, -1.0524e-05, -8.8811e-06]],\n",
       " \n",
       "          [[-8.8941e-06, -4.7586e-06,  3.4794e-06, -9.7230e-07,  9.8348e-07],\n",
       "           [-1.2591e-05, -5.5619e-06, -5.7742e-07, -8.3598e-07, -3.6545e-06],\n",
       "           [-1.0461e-05, -6.6459e-06, -3.6564e-06, -4.4256e-06, -2.7269e-06],\n",
       "           [-6.9141e-06, -5.6834e-06, -4.5635e-06, -5.2154e-06, -3.2447e-06],\n",
       "           [-1.9632e-06, -2.9914e-06, -9.3132e-08, -2.5593e-06, -5.7183e-07]],\n",
       " \n",
       "          [[ 1.7583e-06,  5.0813e-06, -3.1971e-06,  3.0547e-07,  8.1919e-06],\n",
       "           [ 3.2764e-06,  3.1246e-06, -2.7865e-06, -2.8070e-06, -1.3206e-06],\n",
       "           [-5.4725e-06, -2.6003e-06, -1.9297e-06, -6.3702e-06,  5.9232e-07],\n",
       "           [-3.7216e-06, -3.4682e-06, -5.9083e-06, -7.2460e-06, -1.3146e-05],\n",
       "           [-5.8860e-06, -5.4874e-06, -3.8929e-06, -6.4820e-06, -1.0926e-05]],\n",
       " \n",
       "          [[-3.7700e-06, -2.5965e-06, -1.1288e-06, -3.5539e-06, -6.2957e-06],\n",
       "           [ 1.9819e-06,  4.2799e-06,  7.3016e-07, -3.4422e-06, -3.4012e-06],\n",
       "           [-3.8221e-06, -1.0058e-06, -5.1036e-06, -9.4622e-07,  4.7758e-06],\n",
       "           [-1.0055e-05, -8.8885e-06, -5.6997e-06, -1.4342e-07,  5.7295e-06],\n",
       "           [-8.1367e-06, -6.4299e-06, -4.0531e-06, -8.4788e-06, -1.1297e-05]],\n",
       " \n",
       "          [[ 7.4506e-07, -3.7868e-06, -9.1926e-06, -9.1270e-06, -8.9370e-06],\n",
       "           [-6.7055e-07,  1.6205e-07, -3.1367e-06, -2.9355e-06, -2.1458e-06],\n",
       "           [-3.6880e-06, -4.7199e-06, -1.0419e-05, -2.0713e-06,  1.4417e-06],\n",
       "           [-1.0738e-05, -9.9763e-06, -5.7220e-06, -1.2018e-05, -1.3217e-05],\n",
       "           [-1.5015e-05, -1.2087e-05, -8.6338e-06, -1.2379e-05, -1.5706e-05]],\n",
       " \n",
       "          [[-1.0114e-05, -6.2399e-07,  2.5503e-06,  1.3858e-06,  1.2640e-05],\n",
       "           [-1.4633e-05, -8.3447e-06, -4.6603e-06, -1.3411e-07,  1.2122e-05],\n",
       "           [-1.2010e-05, -1.3240e-05, -1.1794e-05, -8.3055e-06, -2.2352e-06],\n",
       "           [-1.2778e-05, -1.0587e-05, -7.6974e-06, -7.2680e-06, -7.1079e-06],\n",
       "           [-3.3490e-06, -8.1211e-07, -3.9451e-06, -3.9488e-06, -8.2552e-06]]],\n",
       " \n",
       " \n",
       "         ...,\n",
       " \n",
       " \n",
       "         [[[ 3.4571e-06, -1.9707e-06, -2.6152e-06,  6.5006e-07, -5.2452e-06],\n",
       "           [-6.1840e-07, -1.6717e-06,  1.2293e-06, -2.7418e-06, -1.4529e-07],\n",
       "           [-3.4794e-06, -3.4645e-06, -1.4966e-06, -3.6545e-06, -2.6375e-06],\n",
       "           [-2.2613e-06, -5.4725e-06,  1.9148e-06, -4.3623e-06, -1.0282e-06],\n",
       "           [-3.3975e-06, -2.9262e-06, -3.5465e-06, -5.0217e-06, -4.8801e-06]],\n",
       " \n",
       "          [[-7.8529e-06, -1.3467e-06,  1.0561e-06,  1.1781e-07, -8.4937e-07],\n",
       "           [-3.8892e-06,  2.0955e-06,  2.7120e-06,  1.7621e-06,  8.8476e-08],\n",
       "           [-6.2138e-06,  1.1921e-07,  2.1532e-06,  6.4075e-07,  2.1369e-06],\n",
       "           [-7.4152e-06, -6.7800e-07, -6.1281e-07, -1.5609e-06,  3.7521e-07],\n",
       "           [-6.5677e-06, -1.4976e-06, -4.3958e-07, -1.7788e-06, -1.4529e-07]],\n",
       " \n",
       "          [[ 5.7369e-06,  1.9297e-06, -9.2387e-07, -2.1607e-07,  1.5199e-06],\n",
       "           [ 5.7630e-06,  7.8604e-07,  7.4133e-07,  1.1772e-06, -2.1905e-06],\n",
       "           [ 1.9001e-06, -5.2098e-06, -2.2873e-06,  3.3900e-06, -1.7807e-06],\n",
       "           [-1.5125e-06, -6.2734e-06, -2.1830e-06, -7.0781e-07, -3.4645e-06],\n",
       "           [-2.0228e-06, -8.1845e-06, -5.6848e-06, -5.8301e-07, -4.4350e-06]],\n",
       " \n",
       "          [[-1.7950e-05, -1.6248e-05, -1.0510e-05, -1.0535e-05, -2.4643e-06],\n",
       "           [-1.1086e-05, -1.0714e-05, -1.3102e-05, -1.1562e-05, -2.0503e-06],\n",
       "           [ 2.3469e-06, -1.1213e-06, -9.7975e-06, -9.6150e-06, -4.8056e-06],\n",
       "           [ 1.0330e-05,  6.3358e-06, -2.9430e-06, -6.0219e-06, -9.7603e-06],\n",
       "           [ 2.5183e-06,  9.8720e-07, -8.4657e-07,  2.8685e-07, -3.4992e-06]],\n",
       " \n",
       "          [[-1.0529e-05, -7.0855e-06, -1.0788e-05, -8.3074e-06, -3.3416e-06],\n",
       "           [-8.9258e-06, -1.3307e-05, -1.5641e-05, -8.3875e-06, -6.5342e-06],\n",
       "           [ 1.7136e-06, -6.8694e-06, -9.2313e-06, -8.8578e-06, -7.7039e-06],\n",
       "           [ 4.4778e-06,  2.2510e-06, -2.5257e-06, -5.5507e-07, -1.0718e-05],\n",
       "           [ 2.4587e-06, -2.7306e-06, -7.9721e-07, -2.7445e-06, -4.9137e-06]],\n",
       " \n",
       "          [[-6.2883e-06, -1.8589e-06, -3.3677e-06, -2.5406e-06, -5.2042e-06],\n",
       "           [ 2.3842e-07,  4.3437e-06, -3.6694e-07, -4.6492e-06, -1.2565e-05],\n",
       "           [-2.2501e-06,  2.4959e-07, -1.9930e-06, -4.3735e-06, -1.1358e-05],\n",
       "           [-9.8068e-06, -6.4336e-06, -3.8892e-06, -3.7700e-06, -7.4804e-06],\n",
       "           [-1.2262e-05, -8.7135e-06, -5.9195e-06, -2.3991e-06, -4.6687e-06]]],\n",
       " \n",
       " \n",
       "         [[[-6.7055e-08,  3.3155e-07, -3.8743e-07,  1.6540e-06,  2.2911e-06],\n",
       "           [ 1.3364e-07, -1.0282e-06, -5.1130e-07,  2.1011e-06,  2.3991e-06],\n",
       "           [ 5.0664e-07,  1.0487e-06,  2.6971e-06,  2.5146e-06,  2.7809e-06],\n",
       "           [ 1.3579e-06,  1.3639e-06, -2.9616e-07,  1.5832e-06,  2.6971e-06],\n",
       "           [ 1.9446e-06,  2.5295e-06,  2.4363e-06,  2.0973e-06,  2.6710e-06]],\n",
       " \n",
       "          [[ 7.4580e-06,  9.6504e-06,  7.4394e-06,  7.0408e-06,  4.9025e-06],\n",
       "           [ 9.0823e-06,  9.9083e-06,  8.0829e-06,  7.4282e-06,  6.0424e-06],\n",
       "           [ 8.9929e-06,  8.6613e-06,  6.4373e-06,  7.1861e-06,  7.3314e-06],\n",
       "           [ 8.4415e-06,  6.6813e-06,  5.0589e-06,  6.2585e-06,  5.5264e-06],\n",
       "           [ 9.6262e-06,  6.0108e-06,  6.3106e-06,  3.6918e-06,  3.6024e-06]],\n",
       " \n",
       "          [[ 7.3649e-06,  3.9972e-06,  2.7036e-06, -6.7055e-08,  3.6061e-06],\n",
       "           [ 6.0499e-06,  2.9411e-06,  2.7046e-06,  6.7055e-08,  2.0396e-06],\n",
       "           [ 4.6939e-06,  2.6971e-06,  2.2314e-06,  3.5712e-06,  4.5896e-06],\n",
       "           [ 5.7081e-06,  4.2357e-06,  5.0664e-06,  4.7609e-06,  6.0499e-06],\n",
       "           [ 6.2585e-06,  3.7840e-06,  3.3155e-06,  2.8722e-06,  3.6582e-06]],\n",
       " \n",
       "          [[ 1.8477e-06,  3.4943e-06,  4.0587e-06,  1.2927e-06,  1.2964e-06],\n",
       "           [-1.5777e-06, -9.8348e-07,  1.9576e-06,  1.9185e-06,  1.9744e-06],\n",
       "           [ 2.9057e-07,  2.5071e-06,  1.9409e-06,  2.3730e-06,  3.3975e-06],\n",
       "           [ 3.7178e-06,  6.9677e-06,  5.5637e-06,  2.8871e-06,  1.5646e-06],\n",
       "           [-3.0808e-06, -3.3099e-06,  3.2932e-06,  3.1069e-06,  3.9395e-06]],\n",
       " \n",
       "          [[ 1.7434e-06,  1.8217e-06,  3.0510e-06, -8.4564e-07, -1.8403e-06],\n",
       "           [ 3.5502e-06,  1.2815e-06,  2.3320e-06,  9.1456e-07, -1.6391e-07],\n",
       "           [ 6.0201e-06,  2.2345e-06, -2.2352e-07, -8.4192e-07,  2.2203e-06],\n",
       "           [ 3.3006e-06,  5.2936e-06,  7.6089e-06,  5.5619e-06,  2.6077e-06],\n",
       "           [-1.9558e-06, -1.1362e-06,  1.2256e-06,  1.5870e-06,  4.1537e-06]],\n",
       " \n",
       "          [[ 2.0791e-05,  1.9316e-05,  1.8988e-05,  1.4201e-05,  1.5687e-05],\n",
       "           [ 1.8787e-05,  1.8634e-05,  1.7101e-05,  1.4190e-05,  1.7993e-05],\n",
       "           [ 1.5087e-05,  1.3508e-05,  1.1265e-05,  1.1086e-05,  1.6574e-05],\n",
       "           [ 1.3478e-05,  1.1943e-05,  9.5740e-06,  1.0889e-05,  1.7412e-05],\n",
       "           [ 1.5836e-05,  1.1832e-05,  8.1677e-06,  7.0743e-06,  1.2573e-05]]],\n",
       " \n",
       " \n",
       "         [[[ 5.4762e-07,  8.7731e-07,  1.1623e-06,  8.2143e-07,  9.8348e-07],\n",
       "           [ 4.0233e-07,  4.4465e-07,  6.0722e-07,  5.5879e-08,  2.4587e-07],\n",
       "           [ 1.2144e-06,  1.0729e-06,  1.0906e-06,  9.3877e-07,  3.6322e-07],\n",
       "           [ 1.1958e-06,  9.7230e-07,  1.0580e-06,  1.0505e-06,  6.2585e-07],\n",
       "           [ 1.1958e-06,  9.4622e-07,  9.2015e-07,  7.4878e-07,  6.9290e-07]],\n",
       " \n",
       "          [[ 7.0129e-07,  8.2422e-07,  6.3889e-07,  9.1642e-07,  1.4864e-06],\n",
       "           [ 6.1886e-07,  4.7311e-07,  5.1968e-07,  7.3388e-07,  1.6764e-06],\n",
       "           [ 8.9407e-08,  6.7055e-08,  9.6858e-08,  4.6939e-07,  1.4380e-06],\n",
       "           [ 2.2352e-08,  8.0094e-08,  3.3574e-07,  3.3528e-07,  1.0449e-06],\n",
       "           [ 4.4703e-08, -5.9605e-08,  3.2410e-07,  4.1351e-07,  8.9407e-07]],\n",
       " \n",
       "          [[ 1.3970e-07,  3.8184e-07,  6.7428e-07,  6.9290e-07,  1.2070e-06],\n",
       "           [ 4.4145e-07,  2.6822e-07,  6.5938e-07,  1.2182e-06,  1.2899e-06],\n",
       "           [ 3.3714e-07,  6.0443e-07,  1.4585e-06,  1.4305e-06,  1.7323e-06],\n",
       "           [ 5.1409e-07,  8.9407e-07,  1.2070e-06,  1.8179e-06,  1.8440e-06],\n",
       "           [ 6.3702e-07,  1.6876e-06,  1.3188e-06,  1.9213e-06,  1.4752e-06]],\n",
       " \n",
       "          [[ 1.7993e-06,  2.1905e-06,  8.5123e-07,  1.5646e-07, -3.3528e-08],\n",
       "           [ 2.5257e-06,  2.5528e-06,  1.9558e-06,  1.2610e-06,  3.4366e-07],\n",
       "           [ 6.2399e-07, -2.2352e-08,  2.9057e-07,  4.2096e-07,  5.8115e-07],\n",
       "           [ 6.8545e-07,  4.6380e-07,  1.3201e-07,  7.4506e-09, -2.9802e-08],\n",
       "           [ 9.8720e-07,  9.1456e-07,  6.5193e-07,  4.1351e-07,  1.5646e-07]],\n",
       " \n",
       "          [[ 8.4937e-07,  8.2701e-07,  4.3958e-07,  4.5821e-07,  0.0000e+00],\n",
       "           [ 1.4417e-06,  1.4305e-06,  2.0117e-06,  1.2964e-06,  1.1558e-06],\n",
       "           [ 3.0175e-07,  4.4703e-08,  4.3586e-07,  7.1526e-07,  4.7311e-07],\n",
       "           [ 4.1351e-07,  4.2841e-07,  2.2352e-08,  2.6263e-07,  1.7881e-07],\n",
       "           [ 8.2701e-07,  1.1399e-06,  1.3709e-06,  1.2070e-06,  7.9442e-07]],\n",
       " \n",
       "          [[ 1.7881e-06,  1.6838e-06,  1.7639e-06,  2.7567e-06,  2.8312e-06],\n",
       "           [ 6.7055e-07,  9.4809e-07,  1.5739e-06,  3.4047e-06,  3.1814e-06],\n",
       "           [ 1.7323e-07,  1.2899e-07,  8.3633e-07,  1.9595e-06,  2.8536e-06],\n",
       "           [ 1.6391e-07,  3.2224e-07,  8.7358e-07,  1.4976e-06,  2.4009e-06],\n",
       "           [ 0.0000e+00,  3.5763e-07,  1.3486e-06,  1.8775e-06,  2.3376e-06]]]]),\n",
       " tensor([ 1.2718e-05, -1.7690e-05, -2.1499e-05, -9.0823e-06, -2.3276e-05,\n",
       "          2.8254e-05, -2.6189e-06,  3.9563e-06, -7.5772e-06,  1.1949e-05,\n",
       "          1.4201e-05,  1.7874e-05,  2.1691e-05, -1.3478e-05,  1.4343e-05,\n",
       "          2.1681e-06]),\n",
       " tensor([[ 1.3746e-06,  5.8301e-07,  4.4703e-07,  ...,  3.4925e-10,\n",
       "           3.4925e-10, -1.3970e-09],\n",
       "         [ 0.0000e+00,  0.0000e+00,  5.0291e-08,  ...,  5.5879e-09,\n",
       "           1.1176e-08,  5.5879e-09],\n",
       "         [-5.5134e-07, -2.8871e-07, -1.7342e-06,  ...,  2.7940e-09,\n",
       "           5.5879e-09,  1.1176e-08],\n",
       "         ...,\n",
       "         [ 3.0175e-07,  4.3027e-07,  3.9116e-07,  ...,  1.1176e-08,\n",
       "          -1.1176e-08, -5.5879e-09],\n",
       "         [ 1.1176e-08, -1.1176e-08, -5.5879e-09,  ..., -5.5879e-09,\n",
       "          -5.5879e-09,  1.1176e-08],\n",
       "         [ 9.8720e-08,  3.1665e-08,  5.8115e-07,  ...,  1.1176e-08,\n",
       "          -1.3970e-09,  5.5879e-09]]),\n",
       " tensor([ 8.1956e-07, -3.7253e-09, -2.6245e-05, -4.5703e-06, -2.4904e-06,\n",
       "         -2.7498e-05,  4.1965e-06, -1.9312e-05, -2.4345e-06,  9.7994e-06,\n",
       "         -2.9180e-05,  9.8534e-06, -9.0152e-06,  7.7114e-07,  2.4475e-06,\n",
       "         -2.1763e-05,  6.6236e-06, -1.1176e-08, -5.4445e-06, -1.1694e-05,\n",
       "         -1.8775e-06,  1.1176e-08, -1.5461e-05, -2.9467e-06,  5.3458e-06,\n",
       "          5.9307e-06, -6.3004e-07,  1.5534e-06,  5.3439e-06,  9.0897e-07,\n",
       "          2.3738e-05,  6.6264e-06,  3.6322e-06,  5.5879e-09, -9.1065e-06,\n",
       "         -2.7876e-05,  4.1351e-06, -2.8908e-06, -1.1034e-05,  1.1628e-05,\n",
       "          1.1176e-08,  0.0000e+00, -6.3833e-06, -1.0226e-05, -1.2929e-05,\n",
       "          1.1530e-06, -7.3053e-06,  7.3574e-07, -1.1917e-05,  4.6976e-06,\n",
       "          7.5623e-07,  4.0308e-06, -1.7693e-05, -7.9162e-07, -5.2163e-06,\n",
       "         -1.3717e-05, -1.2288e-05,  2.9430e-07,  1.5340e-05, -6.9276e-06,\n",
       "          1.3934e-05, -1.0293e-05, -2.7008e-06,  2.5057e-05, -4.2226e-06,\n",
       "         -1.6056e-06,  5.2433e-06,  1.7993e-06, -8.1658e-06,  1.1176e-08,\n",
       "         -7.1079e-06,  2.7493e-06, -4.2692e-06,  4.6734e-06, -2.3060e-06,\n",
       "          1.1176e-08,  7.6555e-06,  2.8405e-06,  1.1630e-05,  1.5585e-05,\n",
       "          1.1176e-08,  1.1176e-08,  3.6862e-06,  2.0387e-05,  7.5353e-06,\n",
       "         -2.9504e-06, -2.2203e-06,  4.6771e-06,  9.7789e-07,  3.1274e-06,\n",
       "         -7.6145e-06, -1.1125e-05, -2.0204e-05,  1.5292e-05, -4.3120e-06,\n",
       "          2.8983e-06, -6.0722e-07,  1.5348e-06,  4.3139e-06,  1.3635e-06,\n",
       "          3.9712e-06,  1.1020e-05, -8.3158e-06,  3.3211e-05, -1.2629e-06,\n",
       "          5.1130e-06, -1.7259e-05,  3.8520e-06,  5.5879e-09,  5.2527e-07,\n",
       "          6.8154e-06,  9.6560e-06,  1.8317e-05, -1.7928e-06,  8.3679e-07,\n",
       "         -8.6613e-08, -1.2804e-05,  3.1497e-06, -2.7940e-09,  1.1753e-05]),\n",
       " tensor([[-1.5907e-06,  4.4703e-07, -6.0983e-06,  ..., -1.1735e-07,\n",
       "           0.0000e+00, -3.0976e-06],\n",
       "         [ 2.2724e-07, -1.1176e-08, -1.0845e-06,  ...,  2.2352e-08,\n",
       "           2.2352e-08, -3.5763e-07],\n",
       "         [-3.1777e-06, -1.3411e-07, -2.8759e-06,  ...,  6.7055e-08,\n",
       "           1.1176e-08, -8.1584e-07],\n",
       "         ...,\n",
       "         [-2.2352e-08,  5.5879e-09, -3.1777e-06,  ..., -2.2352e-08,\n",
       "          -5.5879e-09,  2.2352e-08],\n",
       "         [ 6.0275e-06, -2.2352e-08,  1.0459e-05,  ..., -2.7940e-08,\n",
       "           5.5879e-09,  3.3081e-06],\n",
       "         [ 1.3970e-09,  2.2352e-08,  1.1176e-08,  ...,  5.5879e-09,\n",
       "          -5.5879e-09, -1.1176e-08]]),\n",
       " tensor([-6.8414e-05,  4.7386e-06, -4.6305e-05, -1.8036e-05,  5.2370e-05,\n",
       "         -1.4752e-05,  1.1064e-05, -2.9521e-06,  2.2352e-08, -6.7353e-06,\n",
       "          2.1618e-05, -5.7796e-05, -1.3039e-06,  2.2352e-08,  1.4380e-06,\n",
       "          3.7253e-08, -7.9945e-06,  1.3970e-09,  2.2333e-05,  1.1176e-08,\n",
       "          6.0573e-06, -1.7442e-05, -2.5418e-05, -5.1148e-06, -3.3916e-05,\n",
       "          1.1176e-08, -1.0798e-05,  1.1176e-08, -1.2156e-05, -4.4961e-05,\n",
       "          5.5879e-09,  2.2352e-08,  1.0122e-05,  1.1176e-08,  9.6381e-06,\n",
       "         -5.9530e-06,  1.1176e-08,  2.0745e-07,  2.2063e-05,  4.6827e-06,\n",
       "          3.7201e-05,  2.2352e-08, -7.6145e-06,  1.1176e-08, -9.2387e-06,\n",
       "          3.3721e-05, -3.0847e-05,  2.2352e-08,  7.5050e-05,  4.4256e-05,\n",
       "         -1.2241e-05, -9.0301e-06,  4.3905e-05, -3.7074e-05, -8.3931e-06,\n",
       "          6.9998e-06,  2.2352e-08, -1.0207e-05, -3.4444e-05,  2.6558e-05,\n",
       "          3.8132e-05, -1.5543e-05,  3.2485e-06,  5.0869e-05, -1.6641e-05,\n",
       "         -1.4901e-07,  2.2352e-08, -1.1746e-05,  4.7684e-06, -2.4620e-05,\n",
       "         -3.3369e-06,  1.6935e-05,  6.6859e-06, -1.3575e-05, -1.8451e-05,\n",
       "         -4.7825e-05,  1.1533e-05, -4.6868e-05, -1.2740e-06,  1.7658e-05,\n",
       "          2.5816e-05, -1.2957e-05,  9.5382e-05,  2.2352e-08]),\n",
       " tensor([[-3.5921e-06,  1.8999e-07, -7.1004e-06,  ..., -6.9849e-10,\n",
       "          -5.6438e-06,  1.1176e-08],\n",
       "         [ 3.0771e-06,  1.1176e-08,  1.4994e-06,  ...,  2.2352e-08,\n",
       "           2.9430e-06,  2.2352e-08],\n",
       "         [-2.2240e-06, -6.7055e-08, -1.0133e-06,  ...,  2.2352e-08,\n",
       "          -3.0771e-06,  1.3970e-09],\n",
       "         ...,\n",
       "         [-2.2352e-08,  2.2352e-08,  1.1176e-08,  ...,  2.2352e-08,\n",
       "           2.7940e-09, -2.2352e-08],\n",
       "         [ 1.1176e-08, -1.1176e-08, -1.1176e-08,  ..., -2.2352e-08,\n",
       "          -5.5879e-09,  1.1176e-08],\n",
       "         [ 6.9849e-10, -2.2352e-08, -1.1176e-08,  ...,  6.9849e-10,\n",
       "           2.2352e-08, -5.5879e-09]]),\n",
       " tensor([-6.4187e-05,  3.2034e-05,  2.5593e-06,  1.1176e-08,  1.4846e-04,\n",
       "          2.2352e-08, -8.1522e-05,  1.4602e-04,  2.2352e-08,  1.1176e-08,\n",
       "          1.1176e-08,  2.2352e-08, -1.5887e-04,  2.2352e-08,  5.5879e-09,\n",
       "          2.2352e-08,  2.2352e-08,  1.1908e-04,  9.8782e-05,  1.1176e-08,\n",
       "         -1.3523e-05,  5.5879e-09,  1.8626e-09, -4.9195e-05,  3.8333e-06,\n",
       "          1.1176e-08,  9.2827e-05,  1.0744e-04, -3.4109e-05,  1.2225e-05,\n",
       "          2.7940e-09,  2.2352e-08, -1.3608e-04,  5.8971e-05,  4.3806e-05,\n",
       "          3.9404e-05,  2.2352e-08,  1.1176e-08,  2.2352e-08,  1.1171e-04,\n",
       "          2.2352e-08, -2.4357e-04, -1.6180e-04,  2.2352e-08,  2.2352e-08,\n",
       "         -4.8921e-05,  1.8055e-04,  1.1176e-08,  1.1176e-08,  2.2352e-08,\n",
       "         -5.2653e-05, -7.6607e-05,  2.2352e-08,  2.2352e-08,  1.1176e-08,\n",
       "          1.8873e-04,  1.2420e-05,  2.2352e-08,  1.1176e-08,  1.1176e-08,\n",
       "         -1.2903e-04,  3.0652e-05, -8.4497e-05, -1.8120e-05,  2.7940e-09,\n",
       "          7.6588e-05,  4.9692e-05,  3.2526e-05,  1.1176e-08, -5.0247e-05,\n",
       "          6.7443e-05, -7.2848e-05,  2.2352e-08,  1.4438e-04, -1.5170e-04,\n",
       "          2.2352e-08, -8.3905e-05, -3.4869e-05,  1.2168e-04,  2.2352e-08,\n",
       "          2.1464e-04,  2.2352e-08,  2.2352e-08,  2.2352e-08]),\n",
       " tensor([[ 1.0654e-06, -2.0117e-07, -2.0117e-07,  ...,  2.2352e-08,\n",
       "           1.1176e-08, -2.2352e-08],\n",
       "         [-6.3330e-07, -4.0978e-08, -3.0175e-07,  ...,  2.2352e-08,\n",
       "          -2.2352e-08,  5.5879e-09],\n",
       "         [-3.2689e-07,  2.4587e-07,  1.4156e-07,  ..., -2.2352e-08,\n",
       "           5.5879e-09,  1.1176e-08],\n",
       "         ...,\n",
       "         [ 5.5879e-07,  5.8115e-07,  2.1011e-06,  ...,  2.2352e-08,\n",
       "           2.7940e-09, -5.5879e-09],\n",
       "         [ 1.4901e-07, -1.1213e-06, -2.8722e-06,  ...,  1.1176e-08,\n",
       "          -2.2352e-08, -1.1176e-08],\n",
       "         [ 2.6822e-07, -7.5996e-07, -2.5034e-06,  ..., -1.3970e-09,\n",
       "           1.1176e-08, -2.2352e-08]]),\n",
       " tensor([ 6.8247e-05, -3.0488e-05,  1.8010e-04, -7.6361e-05,  1.6396e-04,\n",
       "         -1.2738e-04, -7.5828e-06, -4.2414e-05, -1.2784e-04, -1.6353e-04,\n",
       "         -1.1911e-04,  1.4213e-04, -1.0646e-04,  9.4227e-05,  7.2371e-05,\n",
       "          4.5329e-05,  8.0742e-05, -4.2103e-05, -6.9134e-05,  1.4811e-04,\n",
       "         -6.7491e-05, -1.1613e-04, -2.9027e-05,  3.5405e-05, -1.8508e-04,\n",
       "         -1.7062e-05, -2.2575e-04,  5.3287e-05,  7.9341e-05,  2.4600e-04,\n",
       "         -6.8009e-05,  3.3863e-05, -8.1733e-06, -2.1014e-04, -8.6170e-05,\n",
       "         -2.6926e-04,  1.7778e-04,  3.5351e-05,  1.1818e-04,  3.1091e-05,\n",
       "          8.3700e-05, -5.5805e-05, -5.7260e-05, -6.9812e-05,  3.0991e-05,\n",
       "          2.9266e-05, -9.2320e-05,  1.5585e-04, -4.3597e-05, -2.5169e-05,\n",
       "          7.6536e-05,  1.2534e-04, -2.8370e-04, -2.1514e-07,  3.6491e-05,\n",
       "         -8.2597e-05, -3.5807e-05,  1.9298e-04,  1.2222e-04, -1.3088e-04,\n",
       "         -1.3433e-05,  1.2396e-04,  6.2011e-05, -3.6236e-05,  2.2798e-05,\n",
       "         -4.0084e-05,  4.6805e-05,  4.6939e-07,  9.3669e-05, -6.5200e-05,\n",
       "         -7.2911e-05,  3.4641e-05, -9.9613e-05,  2.8931e-05,  4.5903e-05,\n",
       "         -1.0539e-04, -2.0429e-05,  1.0127e-04, -1.5377e-04, -7.5504e-05,\n",
       "         -3.6836e-05,  1.1598e-04, -1.9445e-04, -1.3083e-04, -1.5807e-04,\n",
       "         -1.1212e-04,  3.2857e-05, -7.1593e-05,  2.3979e-04,  8.9109e-05,\n",
       "          5.6343e-05, -6.3308e-05,  4.1375e-05,  1.6655e-04,  5.5276e-05,\n",
       "         -1.5266e-04,  1.2517e-05,  1.7675e-04, -2.1347e-04, -2.0675e-06,\n",
       "         -6.0741e-05, -1.7560e-04,  1.6866e-05,  1.1763e-04,  2.4997e-04,\n",
       "          1.0859e-04, -1.9379e-05,  2.6591e-05,  4.6983e-05, -1.3547e-04,\n",
       "          2.5153e-04,  1.7567e-04, -3.0868e-05, -5.5818e-05,  7.0140e-05,\n",
       "         -1.8741e-04,  1.5646e-05,  9.2464e-05,  2.2456e-05,  1.5109e-04,\n",
       "          2.1559e-04,  1.9123e-04,  7.5914e-05, -4.0643e-05, -9.1644e-05,\n",
       "          1.1094e-04, -2.1535e-04,  8.3745e-05,  9.0078e-06, -1.5797e-04,\n",
       "         -1.0819e-04, -6.0652e-07,  8.9407e-06, -2.3619e-04, -1.3060e-04,\n",
       "         -2.4441e-04, -1.9296e-04,  1.6965e-04,  1.4598e-04,  3.2611e-05,\n",
       "          5.6659e-05, -9.1486e-05, -1.5783e-04, -8.3461e-05,  1.0782e-04,\n",
       "         -9.9689e-05, -3.0063e-05,  3.7812e-05,  2.6137e-05, -4.1876e-05,\n",
       "          1.1510e-04, -1.3584e-04, -2.9013e-05,  1.7709e-04,  7.6853e-05,\n",
       "          1.4743e-05,  2.1569e-04, -1.8132e-04,  1.2940e-04, -4.2263e-05,\n",
       "          3.3848e-05, -9.8750e-05,  1.6633e-04, -2.8098e-05, -9.2013e-05,\n",
       "          5.1685e-05, -1.3618e-05,  7.3761e-06,  1.8765e-04, -4.7363e-05,\n",
       "          9.9412e-05,  5.8714e-05,  9.1426e-05,  1.3892e-04,  9.6761e-05,\n",
       "          3.8683e-05,  9.3989e-05,  1.8387e-04, -8.4408e-05,  6.7372e-05,\n",
       "         -1.0230e-04, -6.4366e-05,  8.6650e-06,  2.1383e-06,  6.3699e-05,\n",
       "         -1.2030e-04, -1.1561e-04,  8.0418e-05,  8.0727e-05,  1.3581e-04,\n",
       "          7.8801e-05, -2.4691e-05, -6.8694e-05, -3.7238e-05,  1.0433e-04,\n",
       "          6.1169e-06,  1.2994e-04,  2.6038e-04,  1.0752e-04,  1.3169e-04,\n",
       "         -8.0187e-06,  1.0778e-04,  1.5413e-04,  6.5386e-05,  1.1635e-04,\n",
       "         -6.8024e-06, -4.3586e-05,  2.2718e-04,  1.4748e-04,  1.0540e-04,\n",
       "          6.2752e-05,  2.8018e-05,  2.9624e-05, -1.6545e-04, -1.1392e-04,\n",
       "         -9.0022e-05,  2.6047e-04,  2.2490e-04,  3.2190e-05,  9.6776e-05,\n",
       "          9.8929e-05,  6.7905e-05, -6.4299e-06,  1.0847e-04,  5.0254e-06,\n",
       "          2.5545e-04,  4.0233e-07, -9.7007e-05,  3.1970e-05, -1.3152e-04,\n",
       "          1.5214e-05, -1.0741e-04, -1.8232e-04,  1.5104e-04,  1.4044e-05,\n",
       "          1.5369e-04, -2.1180e-04,  4.0419e-05, -1.5612e-04,  2.7925e-05,\n",
       "         -4.0814e-05,  1.3175e-04, -1.4647e-05,  2.0919e-04,  1.3415e-04,\n",
       "         -7.3366e-05,  2.1011e-06,  1.1061e-04,  2.8409e-05,  2.9916e-05,\n",
       "          1.7441e-04, -1.5279e-05,  3.7128e-05,  1.5262e-04, -2.1756e-04,\n",
       "         -1.5400e-04]),\n",
       " tensor([[ 5.6580e-05, -3.6086e-05, -1.9141e-04,  ...,  9.5243e-05,\n",
       "          -1.4128e-04, -7.3001e-05],\n",
       "         [-1.0410e-05, -2.8014e-06,  2.8837e-05,  ..., -7.3239e-06,\n",
       "           1.3039e-07,  1.3851e-05],\n",
       "         [-9.5367e-07, -1.7714e-06, -1.6797e-05,  ...,  1.0245e-07,\n",
       "          -2.3376e-06, -4.5262e-06],\n",
       "         ...,\n",
       "         [-3.8061e-05,  2.8027e-05,  1.4959e-04,  ..., -5.8958e-05,\n",
       "           1.0420e-04,  5.0936e-05],\n",
       "         [ 2.7683e-05, -1.7725e-05, -7.6380e-05,  ...,  5.3871e-05,\n",
       "          -5.9977e-05, -3.4397e-05],\n",
       "         [-4.0894e-05,  2.7079e-05,  1.4063e-04,  ..., -7.0505e-05,\n",
       "           9.3561e-05,  4.5703e-05]]),\n",
       " tensor([-1.4294e-03,  1.0959e-04, -7.8062e-05, -7.9951e-04,  7.6922e-04,\n",
       "          1.5287e-03, -1.5468e-03,  1.0728e-03, -6.2455e-04,  9.9804e-04])]"
      ]
     },
     "execution_count": 84,
     "metadata": {},
     "output_type": "execute_result"
    }
   ],
   "source": [
    "dis0_1 = []\n",
    "dis0_2 = []\n",
    "for key in net0.state_dict().keys():\n",
    "    dis0_1.append(net0.state_dict()[key]-net1.state_dict()[key])\n",
    "    dis0_2.append(net0.state_dict()[key]-net2.state_dict()[key])\n",
    "dis0_1"
   ]
  },
  {
   "cell_type": "markdown",
   "id": "8a42523a",
   "metadata": {},
   "source": [
    "## train all in one"
   ]
  },
  {
   "cell_type": "code",
   "execution_count": 119,
   "id": "fb4b8576",
   "metadata": {},
   "outputs": [],
   "source": [
    "# train_dl_global,test_dl,train_ds_global,test_ds\n",
    "# next(iter(train_dl_global))"
   ]
  },
  {
   "cell_type": "code",
   "execution_count": 103,
   "id": "b0640e14",
   "metadata": {},
   "outputs": [],
   "source": [
    "# train_ds = dl_obj(datadir, dataidxs=dataidxs, train=True, transform=transform_train, download=True)\n",
    "# test_ds = dl_obj(datadir, train=False, transform=transform_test, download=True)\n",
    "\n",
    "# train_dl = data.DataLoader(dataset=train_ds, batch_size=train_bs, drop_last=True, shuffle=True)\n",
    "# test_dl = data.DataLoader(dataset=test_ds, batch_size=test_bs, shuffle=False)\n",
    "\n",
    "train_dl_global,test_dl,train_ds_global,test_ds = get_dataloader(\"cifar10\", './', 64, 32, noise_level=0)\n",
    "net_global = ModelFedCon(\"simple-cnn\",256,10)\n",
    "net_global = net_global.cuda()\n",
    "op_=optim.Adam(filter(lambda p: p.requires_grad, net_global.parameters()), lr=lr, weight_decay=1e-5)\n",
    "criterion = nn.CrossEntropyLoss().cuda()\n",
    "loss_li=[]\n",
    "acc_li = []\n",
    "epochs = 100\n",
    "for epoch in range(epochs):\n",
    "    for idx, (X,Y) in enumerate(train_dl_global):\n",
    "        X, Y = X.cuda(), Y.cuda()\n",
    "        X.requires_grad = False\n",
    "        Y.requires_grad = False\n",
    "        Y = Y.long()\n",
    "        \n",
    "        _,_,out = net_global(X)\n",
    "        loss_= criterion(out,Y)\n",
    "        loss_li.append(loss_.data.cpu().numpy())\n",
    "\n",
    "        op_.zero_grad()\n",
    "        loss_.backward()\n",
    "        op_.step()\n",
    "    test_acc, test_loss = compute_accuracy(net_global, test_dl, device='cuda')\n",
    "    acc_li.append(test_acc)"
   ]
  },
  {
   "cell_type": "code",
   "execution_count": 234,
   "id": "e429d8cc",
   "metadata": {},
   "outputs": [],
   "source": [
    "# len(loss_li) 781 "
   ]
  },
  {
   "cell_type": "code",
   "execution_count": 104,
   "id": "9f6ff7a6",
   "metadata": {},
   "outputs": [
    {
     "name": "stderr",
     "output_type": "stream",
     "text": [
      "WARNING:matplotlib.legend:No handles with labels found to put in legend.\n"
     ]
    },
    {
     "data": {
      "image/png": "[encoded data removed]",
      "text/plain": [
       "<Figure size 432x288 with 1 Axes>"
      ]
     },
     "metadata": {
      "needs_background": "light"
     },
     "output_type": "display_data"
    }
   ],
   "source": [
    "plt.plot(range(len(loss_li)),loss_li,label=\"_loss_at_all_epochs\")\n",
    "for i in range(100):\n",
    "    plt.axvline(x=781*i,color='r')\n",
    "# for i in range(10):\n",
    "#     plt.plot(range(781),loss_li[781*i:781*i+781],label=str(i)+\"_loss_at_all_epochs\")\n",
    "# plt.plot(range(epochs),acc_li,label=\"epoch_acc\",linestyle='dashed')\n",
    "# plt.plot(range(781),loss_li[781*2:781*2+781],label=\"_loss_at_all_epochs\")\n",
    "plt.title(\"all_in_one_client_batch_64_epoch_100_loss\")\n",
    "plt.xlabel(\"batchs_in_all_epochs_red_split_batch\")\n",
    "plt.ylabel(\"loss\")\n",
    "plt.legend()\n",
    "# plt.savefig(\"./all_in_one_client_batch_64_epoch_100_loss.png\",dpi=330)\n",
    "plt.show()"
   ]
  },
  {
   "cell_type": "code",
   "execution_count": null,
   "id": "b776df77",
   "metadata": {},
   "outputs": [],
   "source": []
  },
  {
   "cell_type": "code",
   "execution_count": 106,
   "id": "ac3febf2",
   "metadata": {},
   "outputs": [
    {
     "data": {
      "image/png": "[encoded data removed]",
      "text/plain": [
       "<Figure size 432x288 with 1 Axes>"
      ]
     },
     "metadata": {
      "needs_background": "light"
     },
     "output_type": "display_data"
    }
   ],
   "source": [
    "plt.plot(range(epochs),acc_li,label=\"epoch_acc\",linestyle='dashed')\n",
    "plt.title(\"all_in_one_client_64_epoch_100_acc\")\n",
    "plt.xlabel(\"epochs\")\n",
    "plt.ylabel(\"acc\")\n",
    "plt.legend()\n",
    "plt.title(\"./sgd_all_in_one_std_per_batch\")\n",
    "# plt.savefig(\"./all_in_one_client_64_epoch_100_acc.png\",dpi=330)\n",
    "plt.show()"
   ]
  },
  {
   "cell_type": "markdown",
   "id": "703ed007",
   "metadata": {},
   "source": [
    "## description about one batch"
   ]
  },
  {
   "cell_type": "code",
   "execution_count": 167,
   "id": "6b03ae4b",
   "metadata": {},
   "outputs": [
    {
     "data": {
      "image/png": "[encoded data removed]",
      "text/plain": [
       "<Figure size 432x288 with 1 Axes>"
      ]
     },
     "metadata": {
      "needs_background": "light"
     },
     "output_type": "display_data"
    }
   ],
   "source": [
    "batch_st = []\n",
    "batch_mi = []\n",
    "batch_ma = []\n",
    "for i in range(100):\n",
    "    mi = np.min(loss_li[781*i:781*i+781])\n",
    "    ma = np.max(loss_li[781*i:781*i+781])\n",
    "    st = np.std(loss_li[781*i:781*i+781])\n",
    "#     print(mi,ma,st)\n",
    "    batch_mi.append(mi)\n",
    "    batch_ma.append(ma)\n",
    "    batch_st.append(st)\n",
    "# plt.plot(range(10),batch_ma)\n",
    "# plt.plot(range(10),batch_mi)\n",
    "plt.plot(range(100),batch_st)\n",
    "plt.title(\"sgd_all_in_one_std_per_batch\")\n",
    "plt.xlabel(\"epochs\")\n",
    "plt.ylabel(\"std_of_loss\")\n",
    "plt.savefig(\"./sgd_all_in_one_std_per_batch\")\n",
    "plt.show()"
   ]
  },
  {
   "cell_type": "code",
   "execution_count": 168,
   "id": "bc1483f5",
   "metadata": {},
   "outputs": [
    {
     "data": {
      "image/png": "[encoded data removed]",
      "text/plain": [
       "<Figure size 432x288 with 1 Axes>"
      ]
     },
     "metadata": {
      "needs_background": "light"
     },
     "output_type": "display_data"
    }
   ],
   "source": [
    "plt.plot(range(100),batch_ma,label='batch_max')\n",
    "plt.plot(range(100),batch_mi,label='batch_min')\n",
    "plt.title(\"sgd_all_in_one_min_max_per_batch\")\n",
    "plt.xlabel(\"epochs\")\n",
    "plt.ylabel(\"loss\")\n",
    "plt.savefig(\"./sgd_all_in_one_min_max_per_batch\")\n",
    "plt.legend()\n",
    "plt.show()"
   ]
  },
  {
   "cell_type": "markdown",
   "id": "9dedf47f",
   "metadata": {},
   "source": [
    "## loop"
   ]
  },
  {
   "cell_type": "code",
   "execution_count": 19,
   "id": "3c2b4fb2",
   "metadata": {},
   "outputs": [
    {
     "name": "stdout",
     "output_type": "stream",
     "text": [
      "59\n"
     ]
    }
   ],
   "source": [
    "import copy\n",
    "n_parties = 10\n",
    "data_train_per_client_one_batch = {i:{} for i in range(n_parties)}\n",
    "data_test_per_client_one_batch = {i:{} for i in range(n_parties)}\n",
    "train_batch_size = 64\n",
    "test_batch_size = 32\n",
    "\n",
    "leng = []\n",
    "for i in range(n_parties):\n",
    "    train_dl_local, test_dl_local, train_ds_local, test_ds_local = get_dataloader(\"cifar10\", './', train_batch_size, test_batch_size, dataidxs=net_dataidx_map[i])\n",
    "    leng.append(len(train_ds_local)//train_batch_size)\n",
    "minimum_batch_num = min(leng)\n",
    "print(minimum_batch_num)"
   ]
  },
  {
   "cell_type": "code",
   "execution_count": 26,
   "id": "c160f013",
   "metadata": {
    "scrolled": true
   },
   "outputs": [
    {
     "name": "stdout",
     "output_type": "stream",
     "text": [
      "finish one batch on 10 clients,start aggregating\n",
      "finish one batch on 10 clients,start aggregating\n",
      "finish one batch on 10 clients,start aggregating\n",
      "finish one batch on 10 clients,start aggregating\n",
      "finish one batch on 10 clients,start aggregating\n",
      "finish one batch on 10 clients,start aggregating\n",
      "finish one batch on 10 clients,start aggregating\n",
      "finish one batch on 10 clients,start aggregating\n",
      "finish one batch on 10 clients,start aggregating\n",
      "finish one batch on 10 clients,start aggregating\n",
      "finish one batch on 10 clients,start aggregating\n",
      "finish one batch on 10 clients,start aggregating\n",
      "finish one batch on 10 clients,start aggregating\n",
      "finish one batch on 10 clients,start aggregating\n",
      "finish one batch on 10 clients,start aggregating\n",
      "finish one batch on 10 clients,start aggregating\n",
      "finish one batch on 10 clients,start aggregating\n",
      "finish one batch on 10 clients,start aggregating\n",
      "finish one batch on 10 clients,start aggregating\n",
      "finish one batch on 10 clients,start aggregating\n",
      "finish one batch on 10 clients,start aggregating\n",
      "finish one batch on 10 clients,start aggregating\n",
      "finish one batch on 10 clients,start aggregating\n",
      "finish one batch on 10 clients,start aggregating\n",
      "finish one batch on 10 clients,start aggregating\n",
      "finish one batch on 10 clients,start aggregating\n",
      "finish one batch on 10 clients,start aggregating\n",
      "finish one batch on 10 clients,start aggregating\n",
      "finish one batch on 10 clients,start aggregating\n",
      "finish one batch on 10 clients,start aggregating\n",
      "finish one batch on 10 clients,start aggregating\n",
      "finish one batch on 10 clients,start aggregating\n",
      "finish one batch on 10 clients,start aggregating\n",
      "finish one batch on 10 clients,start aggregating\n",
      "finish one batch on 10 clients,start aggregating\n",
      "finish one batch on 10 clients,start aggregating\n",
      "finish one batch on 10 clients,start aggregating\n",
      "finish one batch on 10 clients,start aggregating\n",
      "finish one batch on 10 clients,start aggregating\n",
      "finish one batch on 10 clients,start aggregating\n",
      "finish one batch on 10 clients,start aggregating\n",
      "finish one batch on 10 clients,start aggregating\n",
      "finish one batch on 10 clients,start aggregating\n",
      "finish one batch on 10 clients,start aggregating\n",
      "finish one batch on 10 clients,start aggregating\n",
      "finish one batch on 10 clients,start aggregating\n",
      "finish one batch on 10 clients,start aggregating\n",
      "finish one batch on 10 clients,start aggregating\n",
      "finish one batch on 10 clients,start aggregating\n",
      "finish one batch on 10 clients,start aggregating\n",
      "finish one batch on 10 clients,start aggregating\n",
      "finish one batch on 10 clients,start aggregating\n",
      "finish one batch on 10 clients,start aggregating\n",
      "finish one batch on 10 clients,start aggregating\n",
      "finish one batch on 10 clients,start aggregating\n",
      "finish one batch on 10 clients,start aggregating\n",
      "finish one batch on 10 clients,start aggregating\n",
      "finish one batch on 10 clients,start aggregating\n",
      "finish one batch on 10 clients,start aggregating\n"
     ]
    }
   ],
   "source": [
    "lr = 0.01\n",
    "li_acc = list([] for i in range(n_parties+1))\n",
    "# one epoch\n",
    "criterion = nn.CrossEntropyLoss().cuda()\n",
    "net_global = ModelFedCon(\"simple-cnn\",256,10)\n",
    "net_global = net_global.cuda()\n",
    "fed_avg_freqs = [1/train_batch_size for i in range(n_parties)]\n",
    "\n",
    "nets = [copy.deepcopy(net_global) for i in range(10)]\n",
    "optimizers = [optim.SGD(filter(lambda p: p.requires_grad, nets[i].parameters()), lr=lr, weight_decay=1e-5) for i in range(n_parties)]\n",
    "loss = list([] for i in range(minimum_batch_num))\n",
    "for bat in range(minimum_batch_num):\n",
    "    for i in range(n_parties):\n",
    "        train_dl_local, test_dl_local, train_ds_local, test_ds_local = get_dataloader(\"cifar10\", './', train_batch_size, test_batch_size, dataidxs=net_dataidx_map[i])\n",
    "\n",
    "        for idx, (X,Y) in enumerate(train_dl_local):\n",
    "\n",
    "            if idx == bat:\n",
    "                data_train_per_client_one_batch[i]['X']=copy.copy(X)\n",
    "                data_train_per_client_one_batch[i]['Y']=copy.copy(Y)\n",
    "                break\n",
    "        for idx, (X,Y) in enumerate(test_dl_local):\n",
    "\n",
    "            if idx == bat:\n",
    "                data_test_per_client_one_batch[i]['X']=copy.copy(X)\n",
    "                data_test_per_client_one_batch[i]['Y']=copy.copy(Y)\n",
    "                break\n",
    "        # train\n",
    "        data_train_per_client_one_batch[i]['X']=data_train_per_client_one_batch[i]['X'].cuda()\n",
    "        data_train_per_client_one_batch[i]['Y']=data_train_per_client_one_batch[i]['Y'].cuda()\n",
    "        data_train_per_client_one_batch[i]['X'].requires_grad = False\n",
    "        data_train_per_client_one_batch[i]['Y'].requires_grad = False\n",
    "        data_train_per_client_one_batch[i]['Y'] = data_train_per_client_one_batch[i]['Y'].long()\n",
    "        _,_,out = nets[i](data_train_per_client_one_batch[i]['X'])\n",
    "        loss_ = criterion(out,data_train_per_client_one_batch[i]['Y'])\n",
    "        loss[bat].append(loss_.data.cpu().numpy())\n",
    "\n",
    "        \n",
    "#         if bat!=0:\n",
    "#             with torch.no_grad():\n",
    "#                 loss_.set_(torch.Tensor([sum(loss[bat-1])/10]).cuda())\n",
    "        \n",
    "        optimizers[i].zero_grad()\n",
    "        loss_.backward()\n",
    "        optimizers[i].step()\n",
    "        \n",
    "    print(f\"finish one batch on {n_parties} clients,start aggregating\")\n",
    "    global_w = net_global.state_dict()\n",
    "    for net_id, net in enumerate(nets):\n",
    "        net_para = net.state_dict()\n",
    "        if net_id == 0:\n",
    "            for key in net_para:\n",
    "                global_w[key] = net_para[key] * fed_avg_freqs[net_id]\n",
    "        else:\n",
    "            for key in net_para:\n",
    "                global_w[key] += net_para[key] *fed_avg_freqs[net_id]\n",
    "    net_global.load_state_dict(global_w)\n",
    "    \n",
    "    # test on local and global\n",
    "    test_acc, test_loss = compute_accuracy(net_global, test_dl_local, device='cuda')\n",
    "    li_acc[n_parties].append(test_acc)\n",
    "    for i in range(n_parties):\n",
    "        test_acc, test_loss = compute_accuracy(nets[i], test_dl_local, device='cuda')\n",
    "        li_acc[i].append(test_acc)\n",
    "    "
   ]
  },
  {
   "cell_type": "code",
   "execution_count": 27,
   "id": "9ee8a9b2",
   "metadata": {},
   "outputs": [
    {
     "data": {
      "image/png": "[encoded data removed]",
      "text/plain": [
       "<Figure size 432x288 with 1 Axes>"
      ]
     },
     "metadata": {
      "needs_background": "light"
     },
     "output_type": "display_data"
    }
   ],
   "source": [
    "for i in range(10):\n",
    "    plt.plot(range(minimum_batch_num),li_acc[i],label=str(i)+\"_th_client\")\n",
    "plt.xlabel(\"batch\")\n",
    "plt.ylabel(\"test_acc\")\n",
    "plt.legend()\n",
    "# plt.savefig(\"./acc_per_batch_ten_clients.png\")\n",
    "plt.show()"
   ]
  },
  {
   "cell_type": "code",
   "execution_count": 28,
   "id": "3818165a",
   "metadata": {},
   "outputs": [
    {
     "data": {
      "image/png": "[encoded data removed]",
      "text/plain": [
       "<Figure size 432x288 with 1 Axes>"
      ]
     },
     "metadata": {
      "needs_background": "light"
     },
     "output_type": "display_data"
    }
   ],
   "source": [
    "for i in range(5):\n",
    "    plt.plot(range(10),loss[i*5],label=str(i)+\"_th_batch\")\n",
    "plt.legend()\n",
    "plt.show()"
   ]
  },
  {
   "cell_type": "code",
   "execution_count": 232,
   "id": "5fa8b3b0",
   "metadata": {},
   "outputs": [
    {
     "data": {
      "text/plain": [
       "[0.1, 0.1, 0.0999, 0.1, 0.1, 0.1, 0.1, 0.1, 0.1, 0.1]"
      ]
     },
     "execution_count": 232,
     "metadata": {},
     "output_type": "execute_result"
    }
   ],
   "source": [
    "li_acc = []\n",
    "for i in range(10):\n",
    "    test_acc, test_loss = compute_accuracy(nets[i], test_dl_global, device='cuda')\n",
    "    li_acc.append(test_acc)\n",
    "li_acc"
   ]
  },
  {
   "cell_type": "code",
   "execution_count": 211,
   "id": "adf645a9",
   "metadata": {},
   "outputs": [
    {
     "data": {
      "text/plain": [
       "[<matplotlib.lines.Line2D at 0x7f98c6a614e0>]"
      ]
     },
     "execution_count": 211,
     "metadata": {},
     "output_type": "execute_result"
    },
    {
     "data": {
      "image/png": "[encoded data removed]",
      "text/plain": [
       "<Figure size 432x288 with 1 Axes>"
      ]
     },
     "metadata": {
      "needs_background": "light"
     },
     "output_type": "display_data"
    }
   ],
   "source": [
    "plt.plot(range(10),li_acc)"
   ]
  },
  {
   "cell_type": "code",
   "execution_count": 227,
   "id": "434f768f",
   "metadata": {},
   "outputs": [
    {
     "data": {
      "text/plain": [
       "tensor([-0.0970, -0.0952,  0.0750, -0.0262,  0.0147, -0.0675], device='cuda:0')"
      ]
     },
     "execution_count": 227,
     "metadata": {},
     "output_type": "execute_result"
    }
   ],
   "source": [
    "nets[0].state_dict()['features.conv1.bias']"
   ]
  },
  {
   "cell_type": "code",
   "execution_count": 228,
   "id": "3bd4d1d8",
   "metadata": {},
   "outputs": [
    {
     "data": {
      "text/plain": [
       "tensor([-0.0955, -0.0933,  0.0759, -0.0248,  0.0176, -0.0647], device='cuda:0')"
      ]
     },
     "execution_count": 228,
     "metadata": {},
     "output_type": "execute_result"
    }
   ],
   "source": [
    "nets[1].state_dict()['features.conv1.bias']"
   ]
  },
  {
   "cell_type": "code",
   "execution_count": 229,
   "id": "3ec5dca8",
   "metadata": {},
   "outputs": [
    {
     "data": {
      "text/plain": [
       "tensor([-0.0965, -0.0945,  0.0747, -0.0252,  0.0161, -0.0663], device='cuda:0')"
      ]
     },
     "execution_count": 229,
     "metadata": {},
     "output_type": "execute_result"
    }
   ],
   "source": [
    "nets[2].state_dict()['features.conv1.bias']"
   ]
  },
  {
   "cell_type": "code",
   "execution_count": 230,
   "id": "83dc9503",
   "metadata": {},
   "outputs": [
    {
     "data": {
      "text/plain": [
       "tensor([-0.0969, -0.0948,  0.0746, -0.0252,  0.0149, -0.0669], device='cuda:0')"
      ]
     },
     "execution_count": 230,
     "metadata": {},
     "output_type": "execute_result"
    }
   ],
   "source": [
    "nets[3].state_dict()['features.conv1.bias']"
   ]
  },
  {
   "cell_type": "code",
   "execution_count": 231,
   "id": "72e442ab",
   "metadata": {},
   "outputs": [
    {
     "data": {
      "text/plain": [
       "tensor([-0.0961, -0.0937,  0.0753, -0.0247,  0.0156, -0.0657], device='cuda:0')"
      ]
     },
     "execution_count": 231,
     "metadata": {},
     "output_type": "execute_result"
    }
   ],
   "source": [
    "nets[4].state_dict()['features.conv1.bias']"
   ]
  },
  {
   "cell_type": "markdown",
   "id": "4e74b023",
   "metadata": {},
   "source": [
    "## aggregate the same data, and train all in one "
   ]
  },
  {
   "cell_type": "code",
   "execution_count": 280,
   "id": "5b088514",
   "metadata": {},
   "outputs": [],
   "source": [
    "# normalize = transforms.Normalize(mean=[x / 255.0 for x in [125.3, 123.0, 113.9]],\n",
    "#                                  std=[x / 255.0 for x in [63.0, 62.1, 66.7]])\n",
    "# transform_train = transforms.Compose([\n",
    "#     transforms.ToTensor(),\n",
    "#     transforms.Lambda(lambda x: F.pad(\n",
    "#         Variable(x.unsqueeze(0), requires_grad=False),\n",
    "#         (4, 4, 4, 4), mode='reflect').data.squeeze()),\n",
    "#     transforms.ToPILImage(),\n",
    "#     transforms.ColorJitter(brightness=noise_level),\n",
    "#     transforms.RandomCrop(32),\n",
    "#     transforms.RandomHorizontalFlip(),\n",
    "#     transforms.ToTensor(),\n",
    "#     normalize\n",
    "# ])\n",
    "# # data prep for test set\n",
    "# transform_test = transforms.Compose([\n",
    "#     transforms.ToTensor(),\n",
    "#     normalize])\n",
    "\n",
    "# dl_obj = CIFAR10_truncated\n",
    "\n",
    "# # train_ds = dl_obj(datadir, dataidxs=dataidxs, train=True, transform=transform_train, download=True)\n",
    "# test_ds = dl_obj(\"./\", train=False, transform=transform_test, download=True)\n",
    "\n",
    "# # train_dl = data.DataLoader(dataset=train_ds, batch_size=train_bs, drop_last=True, shuffle=True)\n",
    "# test_dl = data.DataLoader(dataset=test_ds, batch_size=32, shuffle=False)\n",
    "\n",
    "# cifar_dataobj = CIFAR10(\"./\", True, transform_train, False)\n",
    "# cifar_dataobj"
   ]
  },
  {
   "cell_type": "code",
   "execution_count": 289,
   "id": "b4a1ebba",
   "metadata": {
    "scrolled": true
   },
   "outputs": [
    {
     "ename": "TypeError",
     "evalue": "new(): invalid data type 'str'",
     "output_type": "error",
     "traceback": [
      "\u001b[0;31m---------------------------------------------------------------------------\u001b[0m",
      "\u001b[0;31mTypeError\u001b[0m                                 Traceback (most recent call last)",
      "\u001b[0;32m/tmp/ipykernel_19839/2382498341.py\u001b[0m in \u001b[0;36m<module>\u001b[0;34m\u001b[0m\n\u001b[1;32m     43\u001b[0m     \u001b[0magg_target_dic\u001b[0m\u001b[0;34m[\u001b[0m\u001b[0mbat\u001b[0m\u001b[0;34m]\u001b[0m \u001b[0;34m=\u001b[0m \u001b[0mtorch\u001b[0m\u001b[0;34m.\u001b[0m\u001b[0mconcat\u001b[0m\u001b[0;34m(\u001b[0m\u001b[0my\u001b[0m\u001b[0;34m)\u001b[0m\u001b[0;34m\u001b[0m\u001b[0m\n\u001b[1;32m     44\u001b[0m \u001b[0;34m\u001b[0m\u001b[0m\n\u001b[0;32m---> 45\u001b[0;31m \u001b[0mx\u001b[0m \u001b[0;34m=\u001b[0m \u001b[0mtuple\u001b[0m\u001b[0;34m(\u001b[0m\u001b[0magg_dic\u001b[0m\u001b[0;34m[\u001b[0m\u001b[0mi\u001b[0m\u001b[0;34m]\u001b[0m\u001b[0;34m[\u001b[0m\u001b[0;34m'X'\u001b[0m\u001b[0;34m]\u001b[0m \u001b[0;32mfor\u001b[0m \u001b[0mi\u001b[0m \u001b[0;32min\u001b[0m \u001b[0mrange\u001b[0m\u001b[0;34m(\u001b[0m\u001b[0mminest_batch_num\u001b[0m\u001b[0;34m)\u001b[0m\u001b[0;34m)\u001b[0m\u001b[0;34m\u001b[0m\u001b[0m\n\u001b[0m\u001b[1;32m     46\u001b[0m \u001b[0my\u001b[0m \u001b[0;34m=\u001b[0m \u001b[0mtuple\u001b[0m\u001b[0;34m(\u001b[0m\u001b[0magg_target_dic\u001b[0m\u001b[0;34m[\u001b[0m\u001b[0mi\u001b[0m\u001b[0;34m]\u001b[0m\u001b[0;34m[\u001b[0m\u001b[0;34m'Y'\u001b[0m\u001b[0;34m]\u001b[0m \u001b[0;32mfor\u001b[0m \u001b[0mi\u001b[0m \u001b[0;32min\u001b[0m \u001b[0mrange\u001b[0m\u001b[0;34m(\u001b[0m\u001b[0mminest_batch_num\u001b[0m\u001b[0;34m)\u001b[0m\u001b[0;34m)\u001b[0m\u001b[0;34m\u001b[0m\u001b[0m\n\u001b[1;32m     47\u001b[0m \u001b[0magg_57_batch\u001b[0m \u001b[0;34m=\u001b[0m \u001b[0mtorch\u001b[0m\u001b[0;34m.\u001b[0m\u001b[0mconcat\u001b[0m\u001b[0;34m(\u001b[0m\u001b[0mx\u001b[0m\u001b[0;34m)\u001b[0m\u001b[0;34m\u001b[0m\u001b[0m\n",
      "\u001b[0;32m/tmp/ipykernel_19839/2382498341.py\u001b[0m in \u001b[0;36m<genexpr>\u001b[0;34m(.0)\u001b[0m\n\u001b[1;32m     43\u001b[0m     \u001b[0magg_target_dic\u001b[0m\u001b[0;34m[\u001b[0m\u001b[0mbat\u001b[0m\u001b[0;34m]\u001b[0m \u001b[0;34m=\u001b[0m \u001b[0mtorch\u001b[0m\u001b[0;34m.\u001b[0m\u001b[0mconcat\u001b[0m\u001b[0;34m(\u001b[0m\u001b[0my\u001b[0m\u001b[0;34m)\u001b[0m\u001b[0;34m\u001b[0m\u001b[0m\n\u001b[1;32m     44\u001b[0m \u001b[0;34m\u001b[0m\u001b[0m\n\u001b[0;32m---> 45\u001b[0;31m \u001b[0mx\u001b[0m \u001b[0;34m=\u001b[0m \u001b[0mtuple\u001b[0m\u001b[0;34m(\u001b[0m\u001b[0magg_dic\u001b[0m\u001b[0;34m[\u001b[0m\u001b[0mi\u001b[0m\u001b[0;34m]\u001b[0m\u001b[0;34m[\u001b[0m\u001b[0;34m'X'\u001b[0m\u001b[0;34m]\u001b[0m \u001b[0;32mfor\u001b[0m \u001b[0mi\u001b[0m \u001b[0;32min\u001b[0m \u001b[0mrange\u001b[0m\u001b[0;34m(\u001b[0m\u001b[0mminest_batch_num\u001b[0m\u001b[0;34m)\u001b[0m\u001b[0;34m)\u001b[0m\u001b[0;34m\u001b[0m\u001b[0m\n\u001b[0m\u001b[1;32m     46\u001b[0m \u001b[0my\u001b[0m \u001b[0;34m=\u001b[0m \u001b[0mtuple\u001b[0m\u001b[0;34m(\u001b[0m\u001b[0magg_target_dic\u001b[0m\u001b[0;34m[\u001b[0m\u001b[0mi\u001b[0m\u001b[0;34m]\u001b[0m\u001b[0;34m[\u001b[0m\u001b[0;34m'Y'\u001b[0m\u001b[0;34m]\u001b[0m \u001b[0;32mfor\u001b[0m \u001b[0mi\u001b[0m \u001b[0;32min\u001b[0m \u001b[0mrange\u001b[0m\u001b[0;34m(\u001b[0m\u001b[0mminest_batch_num\u001b[0m\u001b[0;34m)\u001b[0m\u001b[0;34m)\u001b[0m\u001b[0;34m\u001b[0m\u001b[0m\n\u001b[1;32m     47\u001b[0m \u001b[0magg_57_batch\u001b[0m \u001b[0;34m=\u001b[0m \u001b[0mtorch\u001b[0m\u001b[0;34m.\u001b[0m\u001b[0mconcat\u001b[0m\u001b[0;34m(\u001b[0m\u001b[0mx\u001b[0m\u001b[0;34m)\u001b[0m\u001b[0;34m\u001b[0m\u001b[0m\n",
      "\u001b[0;31mTypeError\u001b[0m: new(): invalid data type 'str'"
     ]
    }
   ],
   "source": [
    "\n",
    "train_batch_size = 64\n",
    "test_batch_size = 32\n",
    "minest_batch_num = 57\n",
    "n_parties = 10\n",
    "\n",
    "li_acc = list([] for i in range(n_parties))\n",
    "data_train_per_client_one_batch = {i:{} for i in range(n_parties)}\n",
    "data_test_per_client_one_batch = {i:{} for i in range(n_parties)}\n",
    "# one epoch\n",
    "criterion = nn.CrossEntropyLoss().cuda()\n",
    "\n",
    "net_global = ModelFedCon(\"simple-cnn\",256,10)\n",
    "net_global = net_global.cuda()\n",
    "nets = [copy.deepcopy(net_global) for i in range(10)]\n",
    "\n",
    "optimizers = [optim.SGD(filter(lambda p: p.requires_grad, nets[i].parameters()), lr=lr, weight_decay=1e-5) for i in range(n_parties)]\n",
    "loss = list([] for i in range(minest_batch_num))\n",
    "\n",
    "agg_dic = {i:{} for i in range(minest_batch_num)}\n",
    "agg_target_dic = {i:{} for i in range(minest_batch_num)}\n",
    "\n",
    "for bat in range(minest_batch_num):\n",
    "    \n",
    "    for i in range(n_parties):\n",
    "        train_dl_local, test_dl_local, train_ds_local, test_ds_local = get_dataloader(\"cifar10\", './', train_batch_size, test_batch_size, dataidxs=net_dataidx_map[i])\n",
    "\n",
    "        for idx, (X,Y) in enumerate(train_dl_local):\n",
    "\n",
    "            if idx == bat:\n",
    "                data_train_per_client_one_batch[i]['X']=copy.copy(X)\n",
    "                data_train_per_client_one_batch[i]['Y']=copy.copy(Y)\n",
    "                break\n",
    "        for idx, (X,Y) in enumerate(test_dl_local):\n",
    "\n",
    "            if idx == bat:\n",
    "                data_test_per_client_one_batch[i]['X']=copy.copy(X)\n",
    "                data_test_per_client_one_batch[i]['Y']=copy.copy(Y)\n",
    "                break\n",
    "                \n",
    "    x = tuple(data_train_per_client_one_batch[i]['X'] for i in range(n_parties))\n",
    "    y = tuple(data_train_per_client_one_batch[i]['Y'] for i in range(n_parties))\n",
    "    agg_dic[bat] = torch.concat(x)\n",
    "    agg_target_dic[bat] = torch.concat(y)\n",
    "\n",
    "x = tuple(agg_dic[i] for i in range(minest_batch_num))\n",
    "y = tuple(agg_target_dic[i] for i in range(minest_batch_num))\n",
    "agg_57_batch = torch.concat(x)\n",
    "agg_57_batch_target = torch.concat(y)"
   ]
  },
  {
   "cell_type": "code",
   "execution_count": 299,
   "id": "3efab1e9",
   "metadata": {},
   "outputs": [],
   "source": [
    "# x = tuple(agg_dic[i] for i in range(minest_batch_num))\n",
    "# y = tuple(agg_target_dic[i] for i in range(minest_batch_num))\n",
    "# agg_57_batch = torch.concat(x)\n",
    "# agg_57_batch_target = torch.concat(y)\n"
   ]
  },
  {
   "cell_type": "code",
   "execution_count": 300,
   "id": "8a5979f0",
   "metadata": {},
   "outputs": [
    {
     "data": {
      "text/plain": [
       "torch.Size([36480, 3, 32, 32])"
      ]
     },
     "execution_count": 300,
     "metadata": {},
     "output_type": "execute_result"
    }
   ],
   "source": [
    "agg_57_batch[0*64:0*64+64]\n",
    "# agg_57_batch.shape"
   ]
  },
  {
   "cell_type": "code",
   "execution_count": 301,
   "id": "70c799c2",
   "metadata": {},
   "outputs": [
    {
     "data": {
      "text/plain": [
       "36480"
      ]
     },
     "execution_count": 301,
     "metadata": {},
     "output_type": "execute_result"
    }
   ],
   "source": [
    "57*640"
   ]
  },
  {
   "cell_type": "code",
   "execution_count": 306,
   "id": "9eeff103",
   "metadata": {},
   "outputs": [],
   "source": [
    "# train_ds = dl_obj(datadir, dataidxs=dataidxs, train=True, transform=transform_train, download=True)\n",
    "# test_ds = dl_obj(datadir, train=False, transform=transform_test, download=True)\n",
    "\n",
    "# train_dl = data.DataLoader(dataset=train_ds, batch_size=train_bs, drop_last=True, shuffle=True)\n",
    "# test_dl = data.DataLoader(dataset=test_ds, batch_size=test_bs, shuffle=False)\n",
    "\n",
    "train_dl_global,test_dl,train_ds_global,test_ds = get_dataloader(\"cifar10\", './', 64, 32, noise_level=0)\n",
    "\n",
    "net_agg = ModelFedCon(\"simple-cnn\",256,10)\n",
    "net_agg = net_agg.cuda()\n",
    "op_agg=optim.SGD(filter(lambda p: p.requires_grad, net_agg.parameters()), lr=lr, weight_decay=1e-5)\n",
    "criterion = nn.CrossEntropyLoss().cuda()\n",
    "loss_li_agg=[]\n",
    "acc_li_agg = []\n",
    "epochs = 100\n",
    "\n",
    "for epoch in range(epochs):\n",
    "    for i in range(570):\n",
    "        X, Y = agg_57_batch[i*64:i*64+64].cuda(), agg_57_batch_target[i*64:i*64+64].cuda()\n",
    "        X.requires_grad = False\n",
    "        Y.requires_grad = False\n",
    "        Y = Y.long()\n",
    "        \n",
    "        _,_,out = net_agg(X)\n",
    "        loss_agg= criterion(out,Y)\n",
    "        loss_li_agg.append(loss_agg.data.cpu().numpy())\n",
    "\n",
    "        op_agg.zero_grad()\n",
    "        loss_agg.backward()\n",
    "        op_agg.step()\n",
    "    test_acc, test_loss = compute_accuracy(net_agg, test_dl, device='cuda')\n",
    "    acc_li_agg.append(test_acc)"
   ]
  },
  {
   "cell_type": "code",
   "execution_count": 307,
   "id": "95b9750f",
   "metadata": {},
   "outputs": [
    {
     "data": {
      "image/png": "[encoded data removed]",
      "text/plain": [
       "<Figure size 432x288 with 1 Axes>"
      ]
     },
     "metadata": {
      "needs_background": "light"
     },
     "output_type": "display_data"
    }
   ],
   "source": [
    "plt.plot(range(epochs),acc_li_agg)\n",
    "plt.xlabel(\"epochs\")\n",
    "plt.ylabel(\"test_acc\")\n",
    "plt.title(\"agg_57_batch_in_one_test_acc\")\n",
    "plt.savefig(\"agg_57_batch_in_one_test_acc.png\",dpi=330)\n",
    "plt.show()"
   ]
  },
  {
   "cell_type": "markdown",
   "id": "9be1e62c",
   "metadata": {},
   "source": [
    "## train seperately only one batch\n"
   ]
  },
  {
   "cell_type": "code",
   "execution_count": 18,
   "id": "466c2a97",
   "metadata": {},
   "outputs": [],
   "source": [
    "import copy\n",
    "import collections"
   ]
  },
  {
   "cell_type": "code",
   "execution_count": 19,
   "id": "f1540d9a",
   "metadata": {},
   "outputs": [
    {
     "data": {
      "text/plain": [
       "torch.Size([640, 3, 32, 32])"
      ]
     },
     "metadata": {},
     "output_type": "display_data"
    },
    {
     "data": {
      "text/plain": [
       "tensor([5, 4, 1, 0, 0, 5, 5, 0, 0, 2, 5, 4, 5, 5, 5, 2, 1, 2, 0, 0, 5, 5, 3, 5,\n",
       "        4, 0, 4, 5, 0, 2, 2, 5, 2, 5, 0, 1, 0, 4, 5, 5, 5, 5, 0, 5, 2, 1, 5, 2,\n",
       "        1, 4, 0, 0, 0, 0, 5, 5, 5, 5, 5, 0, 5, 1, 2, 0, 1, 9, 8, 0, 2, 8, 2, 2,\n",
       "        9, 1, 9, 1, 1, 0, 9, 6, 2, 9, 9, 9, 9, 9, 9, 9, 9, 1, 9, 9, 0, 9, 0, 9,\n",
       "        9, 9, 9, 9, 2, 8, 8, 9, 9, 7, 0, 9, 9, 9, 9, 9, 1, 9, 8, 1, 9, 2, 1, 1,\n",
       "        1, 9, 9, 0, 1, 1, 2, 9, 1, 9, 1, 9, 1, 2, 1, 8, 1, 7, 7, 0, 9, 9, 7, 1,\n",
       "        5, 9, 7, 7, 7, 7, 9, 8, 0, 1, 5, 7, 7, 5, 7, 7, 9, 2, 1, 8, 8, 9, 8, 7,\n",
       "        7, 7, 7, 9, 9, 9, 6, 9, 8, 5, 9, 7, 9, 5, 9, 5, 7, 4, 7, 7, 8, 1, 7, 9,\n",
       "        2, 6, 0, 0, 0, 8, 3, 0, 3, 8, 8, 0, 0, 0, 0, 0, 8, 0, 0, 0, 3, 0, 5, 8,\n",
       "        0, 0, 0, 0, 0, 8, 0, 3, 0, 3, 3, 0, 0, 0, 6, 3, 0, 3, 3, 0, 0, 0, 3, 0,\n",
       "        0, 3, 8, 8, 0, 3, 8, 3, 8, 0, 0, 5, 0, 0, 0, 0, 4, 0, 6, 4, 6, 4, 4, 1,\n",
       "        3, 6, 0, 6, 6, 4, 6, 1, 6, 1, 3, 4, 4, 2, 4, 3, 0, 6, 6, 4, 4, 4, 6, 6,\n",
       "        1, 4, 6, 4, 4, 6, 6, 6, 4, 6, 6, 4, 6, 2, 6, 4, 3, 4, 6, 4, 0, 4, 4, 6,\n",
       "        6, 6, 4, 2, 6, 6, 1, 6, 3, 3, 3, 4, 9, 3, 3, 3, 3, 3, 3, 6, 3, 3, 6, 3,\n",
       "        9, 3, 3, 3, 3, 3, 6, 3, 6, 3, 3, 3, 6, 6, 3, 6, 3, 6, 3, 6, 3, 3, 0, 8,\n",
       "        3, 3, 3, 3, 9, 6, 6, 3, 2, 6, 9, 3, 6, 3, 8, 3, 9, 3, 6, 3, 7, 3, 3, 3,\n",
       "        2, 6, 2, 5, 7, 2, 0, 2, 1, 7, 5, 7, 7, 0, 2, 0, 7, 0, 5, 2, 1, 7, 1, 7,\n",
       "        2, 7, 1, 6, 7, 1, 1, 6, 5, 5, 1, 7, 7, 5, 4, 1, 2, 0, 1, 7, 7, 2, 7, 2,\n",
       "        7, 1, 2, 2, 6, 2, 7, 7, 7, 1, 1, 2, 4, 7, 2, 1, 0, 0, 1, 0, 3, 1, 6, 3,\n",
       "        3, 6, 6, 8, 5, 1, 8, 6, 3, 5, 5, 1, 5, 1, 6, 1, 9, 6, 6, 5, 8, 3, 1, 3,\n",
       "        1, 5, 2, 1, 5, 8, 1, 2, 1, 9, 3, 0, 4, 5, 2, 6, 8, 1, 3, 1, 8, 8, 1, 1,\n",
       "        0, 0, 1, 3, 6, 1, 8, 0, 0, 8, 8, 8, 2, 2, 9, 9, 8, 8, 8, 9, 9, 4, 2, 9,\n",
       "        8, 9, 8, 9, 5, 8, 8, 8, 2, 8, 8, 8, 0, 0, 8, 4, 9, 4, 4, 8, 5, 2, 5, 5,\n",
       "        8, 8, 8, 2, 9, 8, 5, 8, 2, 5, 8, 9, 2, 8, 8, 5, 8, 8, 9, 8, 5, 8, 5, 8,\n",
       "        6, 4, 6, 7, 4, 1, 3, 3, 5, 5, 5, 4, 7, 4, 7, 7, 7, 4, 8, 7, 8, 4, 3, 8,\n",
       "        4, 8, 8, 6, 6, 7, 4, 6, 3, 2, 7, 7, 7, 7, 5, 3, 6, 6, 5, 8, 4, 4, 4, 7,\n",
       "        4, 6, 7, 4, 7, 7, 4, 2, 3, 4, 7, 5, 6, 7, 6, 6])"
      ]
     },
     "metadata": {},
     "output_type": "display_data"
    }
   ],
   "source": [
    "n_parties = 10\n",
    "train_batch_size = 64\n",
    "test_batch_size = 32\n",
    "data_train_per_client_one_batch = {i:{} for i in range(n_parties)}\n",
    "data_test_per_client_one_batch = {i:{} for i in range(n_parties)}\n",
    "\n",
    "for i in range(n_parties):\n",
    "    train_dl_local, test_dl_local, train_ds_local, test_ds_local = get_dataloader(\"cifar10\", './', train_batch_size, test_batch_size, dataidxs=net_dataidx_map[i])\n",
    "\n",
    "    for idx, (X,Y) in enumerate(train_dl_local):\n",
    "\n",
    "        if idx == 0:\n",
    "            data_train_per_client_one_batch[i]['X']=copy.copy(X)\n",
    "            data_train_per_client_one_batch[i]['Y']=copy.copy(Y)\n",
    "            break\n",
    "    for idx, (X,Y) in enumerate(test_dl_local):\n",
    "\n",
    "        if idx == 0:\n",
    "            data_test_per_client_one_batch[i]['X']=copy.copy(X)\n",
    "            data_test_per_client_one_batch[i]['Y']=copy.copy(Y)\n",
    "            break\n",
    "\n",
    "x = tuple(data_train_per_client_one_batch[i]['X'] for i in range(n_parties))\n",
    "y = tuple(data_train_per_client_one_batch[i]['Y'] for i in range(n_parties))\n",
    "agg = torch.concat(x)\n",
    "agg_target = torch.concat(y)\n",
    "display(agg.shape,agg_target)\n"
   ]
  },
  {
   "cell_type": "code",
   "execution_count": 22,
   "id": "055f568b",
   "metadata": {},
   "outputs": [
    {
     "data": {
      "image/png": "[encoded data removed]",
      "text/plain": [
       "<Figure size 432x288 with 1 Axes>"
      ]
     },
     "metadata": {
      "needs_background": "light"
     },
     "output_type": "display_data"
    }
   ],
   "source": [
    "plt.hist(list(agg_target.numpy()))\n",
    "plt.show()"
   ]
  },
  {
   "cell_type": "code",
   "execution_count": 24,
   "id": "ada3d1d3",
   "metadata": {},
   "outputs": [
    {
     "data": {
      "text/plain": [
       "Counter({5: 62, 4: 52, 1: 63, 0: 81, 2: 51, 3: 72, 9: 66, 8: 67, 6: 68, 7: 58})"
      ]
     },
     "execution_count": 24,
     "metadata": {},
     "output_type": "execute_result"
    }
   ],
   "source": [
    "\n",
    "collections.Counter(list(agg_target.numpy()))"
   ]
  },
  {
   "cell_type": "code",
   "execution_count": 63,
   "id": "4418d0a0",
   "metadata": {},
   "outputs": [],
   "source": [
    "lr = 0.01\n",
    "net_global = ModelFedCon(\"simple-cnn\",256,10)\n",
    "net_global = net_global.cuda()\n",
    "criterion = nn.CrossEntropyLoss().cuda()\n",
    "\n",
    "net0 = copy.deepcopy(net_global)\n",
    "optimizer0=optim.SGD(filter(lambda p: p.requires_grad, net0.parameters()), lr=lr, weight_decay=1e-5)\n",
    "nets = [copy.deepcopy(net_global) for i in range(10)]\n",
    "optimizers = [optim.SGD(filter(lambda p: p.requires_grad, nets[i].parameters()), lr=lr, weight_decay=1e-5) for i in range(10)]\n"
   ]
  },
  {
   "cell_type": "code",
   "execution_count": 64,
   "id": "7800b4ab",
   "metadata": {},
   "outputs": [],
   "source": [
    "n_parties = 10\n",
    "epochs = 500\n",
    "loss = list([] for i in range(11))\n",
    "\n",
    "for i in range(epochs):\n",
    "    loss_collector = []\n",
    "    for j in range(n_parties):\n",
    "        _,_,out = nets[j](data_train_per_client_one_batch[j]['X'].cuda())\n",
    "        loss_ = criterion(out,data_train_per_client_one_batch[j]['Y'].cuda())\n",
    "        loss[j].append(loss_.data.cpu().numpy())\n",
    "        \n",
    "#         with torch.no_grad():\n",
    "#             loss_.set_(torch.Tensor(loss[j]))\n",
    "        \n",
    "        optimizers[j].zero_grad()\n",
    "        loss_.backward()\n",
    "        optimizers[j].step()\n",
    "        \n",
    "    _,_,out0 = net0(agg.cuda())\n",
    "    loss0= criterion(out0,agg_target.cuda())\n",
    "    loss[10].append(loss0.data.cpu().numpy())\n",
    "    \n",
    "    optimizer0.zero_grad()\n",
    "    loss0.backward()\n",
    "    optimizer0.step()"
   ]
  },
  {
   "cell_type": "markdown",
   "id": "cfe793f9",
   "metadata": {},
   "source": [
    "## train aggregation"
   ]
  },
  {
   "cell_type": "code",
   "execution_count": 97,
   "id": "7f584d51",
   "metadata": {},
   "outputs": [],
   "source": [
    "for i in range(500):\n",
    "    _,_,out0 = net0(agg.cuda())\n",
    "    loss0= criterion(out0,agg_target.cuda())\n",
    "    loss[10].append(loss0.data.cpu().numpy())\n",
    "    \n",
    "    optimizer0.zero_grad()\n",
    "    loss0.backward()\n",
    "    optimizer0.step()\n"
   ]
  },
  {
   "cell_type": "code",
   "execution_count": 98,
   "id": "05185c2e",
   "metadata": {},
   "outputs": [
    {
     "data": {
      "image/png": "[encoded data removed]",
      "text/plain": [
       "<Figure size 432x288 with 1 Axes>"
      ]
     },
     "metadata": {
      "needs_background": "light"
     },
     "output_type": "display_data"
    }
   ],
   "source": [
    "# loss[10]\n",
    "plt.plot(range(4500),loss[10],label=\"all_batch_in_one\",linestyle='dashed')\n",
    "plt.legend()\n",
    "plt.show()"
   ]
  },
  {
   "cell_type": "code",
   "execution_count": 100,
   "id": "cbf8aa0e",
   "metadata": {},
   "outputs": [
    {
     "data": {
      "image/png": "[encoded data removed]",
      "text/plain": [
       "<Figure size 432x288 with 1 Axes>"
      ]
     },
     "metadata": {
      "needs_background": "light"
     },
     "output_type": "display_data"
    }
   ],
   "source": [
    "plt.plot(range(500),loss[0],label=\"0-client\")\n",
    "plt.plot(range(500),loss[1],label=\"1-client\")\n",
    "plt.plot(range(500),loss[2],label=\"2-client\")\n",
    "plt.plot(range(500),loss[3],label=\"3-client\")\n",
    "plt.plot(range(500),loss[4],label=\"4-client\")\n",
    "plt.plot(range(500),loss[5],label=\"5-client\")\n",
    "plt.plot(range(500),loss[6],label=\"6-client\")\n",
    "plt.plot(range(500),loss[7],label=\"7-client\")\n",
    "plt.plot(range(500),loss[8],label=\"8-client\")\n",
    "plt.plot(range(500),loss[9],label=\"9-client\")\n",
    "plt.plot(range(4500),loss[10],label=\"all\",linestyle='dashed')\n",
    "plt.legend(loc=1)\n",
    "# plt.savefig(\"./ten_client_one_batch_256.png\",dpi=330)\n",
    "plt.show()"
   ]
  },
  {
   "cell_type": "code",
   "execution_count": 67,
   "id": "541b861f",
   "metadata": {},
   "outputs": [
    {
     "data": {
      "text/plain": [
       "[0.12890625,\n",
       " 0.1345352564102564,\n",
       " 0.10004006410256411,\n",
       " 0.11975160256410257,\n",
       " 0.10943509615384615,\n",
       " 0.12061298076923077,\n",
       " 0.10679086538461538,\n",
       " 0.10072115384615385,\n",
       " 0.10400641025641026,\n",
       " 0.09997996794871795,\n",
       " 0.10004006410256411]"
      ]
     },
     "execution_count": 67,
     "metadata": {},
     "output_type": "execute_result"
    }
   ],
   "source": [
    "device = 'cuda'\n",
    "train_dl_global, test_dl_global, _, _ = get_dataloader(\"cifar10\", './', 256, 32)\n",
    "train_acc_li = []\n",
    "test_acc_li = []\n",
    "train_acc0, train_loss0 = compute_accuracy(net0, train_dl_global, device=device)\n",
    "test_acc0, test_loss0 = compute_accuracy(net0, test_dl_global, device=device)\n",
    "for i in range(10):\n",
    "    train_acc, train_loss = compute_accuracy(nets[i], train_dl_global, device=device)\n",
    "    test_acc, test_loss = compute_accuracy(nets[i], test_dl_global, device=device)\n",
    "    train_acc_li.append(train_acc)\n",
    "    test_acc_li.append(test_acc)\n",
    "\n",
    "train_acc_li.append(train_acc0)\n",
    "test_acc_li.append(test_acc0)\n",
    "train_acc_li"
   ]
  },
  {
   "cell_type": "code",
   "execution_count": 101,
   "id": "2ca48b3c",
   "metadata": {},
   "outputs": [],
   "source": [
    "train_acc0, train_loss0 = compute_accuracy(net0, train_dl_global, device=device)\n",
    "test_acc0, test_loss0 = compute_accuracy(net0, test_dl_global, device=device)\n"
   ]
  },
  {
   "cell_type": "code",
   "execution_count": 102,
   "id": "eb6fe5da",
   "metadata": {},
   "outputs": [],
   "source": [
    "train_acc_li[10]=train_acc0\n",
    "test_acc_li[10]=test_acc0"
   ]
  },
  {
   "cell_type": "code",
   "execution_count": 96,
   "id": "1e90ed94",
   "metadata": {},
   "outputs": [
    {
     "data": {
      "image/png": "[encoded data removed]",
      "text/plain": [
       "<Figure size 432x288 with 1 Axes>"
      ]
     },
     "metadata": {
      "needs_background": "light"
     },
     "output_type": "display_data"
    }
   ],
   "source": [
    "plt.plot(range(11),test_acc_li,label=\"test_acc_li\",marker='*')\n",
    "plt.plot(range(11),train_acc_li,label=\"train_acc_li\",marker='o')\n",
    "plt.legend()\n",
    "# plt.savefig(\"./with_avg.png\",dpi=330)\n",
    "plt.show()"
   ]
  },
  {
   "cell_type": "code",
   "execution_count": null,
   "id": "06aaa2f4",
   "metadata": {},
   "outputs": [],
   "source": []
  },
  {
   "cell_type": "code",
   "execution_count": null,
   "id": "f002a863",
   "metadata": {},
   "outputs": [],
   "source": []
  },
  {
   "cell_type": "markdown",
   "id": "f799434d",
   "metadata": {},
   "source": [
    "\n",
    "## original"
   ]
  },
  {
   "cell_type": "code",
   "execution_count": 160,
   "id": "2bed2e06",
   "metadata": {},
   "outputs": [],
   "source": [
    "agg = torch.concat((x0,x1))\n",
    "agg.shape\n",
    "agg_target = torch.concat((y0,y1))\n",
    "agg_target\n",
    "\n",
    "net0=copy.deepcopy(net_global)\n",
    "net1=copy.deepcopy(net_global)\n",
    "net2=copy.deepcopy(net_global)\n",
    "net3=copy.deepcopy(net_global)\n",
    "lr=0.01\n",
    "optimizer_0 = optim.SGD(filter(lambda p: p.requires_grad, net0.parameters()), lr=lr, weight_decay=1e-5)\n",
    "optimizer_1 = optim.SGD(filter(lambda p: p.requires_grad, net1.parameters()), lr=lr, weight_decay=1e-5)\n",
    "optimizer_2 = optim.SGD(filter(lambda p: p.requires_grad, net2.parameters()), lr=lr,weight_decay=1e-5)\n",
    "li_loss0 = []\n",
    "li_loss1 = []\n",
    "li_loss2 = []\n",
    "li_loss = []\n",
    "for i in range(1000):\n",
    "    _,_,out0 = net0(agg)\n",
    "    loss_0= criterion(out0,agg_target)\n",
    "    li_loss0.append(loss_0.data)\n",
    "\n",
    "    optimizer_0.zero_grad()\n",
    "    loss_0.backward()\n",
    "    optimizer_0.step()\n",
    "\n",
    "    _,_,out1 = net1(x0)\n",
    "    loss_1= criterion(out1,y0)\n",
    "    li_loss1.append(loss_1.data)\n",
    "\n",
    "    _,_,out2 = net2(x1)\n",
    "    loss_2= criterion(out2,y1)\n",
    "    li_loss2.append(loss_2.data)\n",
    "\n",
    "#     with torch.no_grad():\n",
    "#         loss = torch.div(loss_1+loss_2,2)\n",
    "#     li_loss.append(loss.data)\n",
    "\n",
    "#     with torch.no_grad():\n",
    "#         loss_1.set_(loss)\n",
    "\n",
    "#     with torch.no_grad():\n",
    "#         loss_2.set_(loss)\n",
    "        \n",
    "    optimizer_1.zero_grad()\n",
    "    loss_1.backward()\n",
    "    optimizer_1.step()\n",
    "    \n",
    "    optimizer_2.zero_grad()\n",
    "    loss_2.backward()\n",
    "    optimizer_2.step()"
   ]
  },
  {
   "cell_type": "code",
   "execution_count": 157,
   "id": "26015282",
   "metadata": {},
   "outputs": [],
   "source": [
    "# [i-j for i,j in zip(li_loss,li_loss0)]"
   ]
  },
  {
   "cell_type": "code",
   "execution_count": 159,
   "id": "ff883366",
   "metadata": {},
   "outputs": [
    {
     "data": {
      "image/png": "[encoded data removed]",
      "text/plain": [
       "<Figure size 432x288 with 1 Axes>"
      ]
     },
     "metadata": {
      "needs_background": "light"
     },
     "output_type": "display_data"
    }
   ],
   "source": [
    "plt.plot(range(1000),li_loss,label=\"avg_loss_backward\")\n",
    "plt.plot(range(1000),li_loss0,label=\"all_in_one\")\n",
    "plt.plot(range(1000),li_loss1,label=\"batch1\")\n",
    "plt.plot(range(1000),li_loss2,label=\"batch2\")\n",
    "plt.legend()\n",
    "# plt.savefig(\"./with_avg.png\",dpi=330)\n",
    "plt.show()"
   ]
  },
  {
   "cell_type": "code",
   "execution_count": 161,
   "id": "bd54e8f3",
   "metadata": {},
   "outputs": [
    {
     "data": {
      "image/png": "[encoded data removed]",
      "text/plain": [
       "<Figure size 432x288 with 1 Axes>"
      ]
     },
     "metadata": {
      "needs_background": "light"
     },
     "output_type": "display_data"
    }
   ],
   "source": [
    "plt.plot(range(1000),li_loss0,label=\"all_in_one\")\n",
    "plt.plot(range(1000),li_loss1,label=\"batch1_without_avg\")\n",
    "plt.plot(range(1000),li_loss2,label=\"batch2_without_avg\")\n",
    "plt.legend()\n",
    "# plt.savefig(\"./without_avg.png\",dpi=330)\n",
    "plt.show()"
   ]
  },
  {
   "cell_type": "code",
   "execution_count": 173,
   "id": "e902d614",
   "metadata": {},
   "outputs": [
    {
     "data": {
      "text/plain": [
       "torch.Size([64])"
      ]
     },
     "execution_count": 173,
     "metadata": {},
     "output_type": "execute_result"
    }
   ],
   "source": [
    "agg_target.shape"
   ]
  },
  {
   "cell_type": "code",
   "execution_count": 174,
   "id": "afee11f6",
   "metadata": {},
   "outputs": [
    {
     "data": {
      "text/plain": [
       "torch.Size([32])"
      ]
     },
     "execution_count": 174,
     "metadata": {},
     "output_type": "execute_result"
    }
   ],
   "source": [
    "y0.shape"
   ]
  },
  {
   "cell_type": "code",
   "execution_count": 175,
   "id": "521269d1",
   "metadata": {},
   "outputs": [
    {
     "data": {
      "text/plain": [
       "torch.Size([32])"
      ]
     },
     "execution_count": 175,
     "metadata": {},
     "output_type": "execute_result"
    }
   ],
   "source": [
    "y1.shape"
   ]
  },
  {
   "cell_type": "code",
   "execution_count": null,
   "id": "37585d01",
   "metadata": {},
   "outputs": [],
   "source": []
  },
  {
   "cell_type": "code",
   "execution_count": 176,
   "id": "e5b1eab7",
   "metadata": {},
   "outputs": [
    {
     "data": {
      "text/plain": [
       "tensor(7.9264, grad_fn=<NllLossBackward0>)"
      ]
     },
     "execution_count": 176,
     "metadata": {},
     "output_type": "execute_result"
    }
   ],
   "source": [
    "_,_,out0 = net0(agg)\n",
    "criterion(out0,agg_target)"
   ]
  },
  {
   "cell_type": "code",
   "execution_count": 177,
   "id": "5f45cbed",
   "metadata": {},
   "outputs": [
    {
     "data": {
      "text/plain": [
       "tensor(11.6212, grad_fn=<NllLossBackward0>)"
      ]
     },
     "execution_count": 177,
     "metadata": {},
     "output_type": "execute_result"
    }
   ],
   "source": [
    "_,_,out1 = net1(agg)\n",
    "criterion(out1,agg_target)"
   ]
  },
  {
   "cell_type": "code",
   "execution_count": 178,
   "id": "d9e6d0b5",
   "metadata": {},
   "outputs": [
    {
     "data": {
      "text/plain": [
       "tensor(13.8740, grad_fn=<NllLossBackward0>)"
      ]
     },
     "execution_count": 178,
     "metadata": {},
     "output_type": "execute_result"
    }
   ],
   "source": [
    "_,_,out2 = net2(agg)\n",
    "criterion(out2,agg_target)"
   ]
  },
  {
   "cell_type": "code",
   "execution_count": 185,
   "id": "f3094fea",
   "metadata": {},
   "outputs": [],
   "source": [
    "device = 'cpu'\n",
    "# train_acc, train_loss = compute_accuracy(global_model, train_dl_global, device=device)\n",
    "test_acc, conf_matrix, _ = compute_accuracy(net2, test_dl_local, get_confusion_matrix=True, device=device)"
   ]
  },
  {
   "cell_type": "code",
   "execution_count": 186,
   "id": "f976f09e",
   "metadata": {},
   "outputs": [
    {
     "data": {
      "text/plain": [
       "0.1235"
      ]
     },
     "execution_count": 186,
     "metadata": {},
     "output_type": "execute_result"
    }
   ],
   "source": [
    "test_acc"
   ]
  },
  {
   "cell_type": "code",
   "execution_count": 187,
   "id": "a237fdf2",
   "metadata": {},
   "outputs": [
    {
     "data": {
      "text/plain": [
       "array([[797, 203,   0,   0,   0,   0,   0,   0,   0,   0],\n",
       "       [562, 438,   0,   0,   0,   0,   0,   0,   0,   0],\n",
       "       [639, 361,   0,   0,   0,   0,   0,   0,   0,   0],\n",
       "       [577, 423,   0,   0,   0,   0,   0,   0,   0,   0],\n",
       "       [633, 367,   0,   0,   0,   0,   0,   0,   0,   0],\n",
       "       [680, 320,   0,   0,   0,   0,   0,   0,   0,   0],\n",
       "       [485, 515,   0,   0,   0,   0,   0,   0,   0,   0],\n",
       "       [743, 257,   0,   0,   0,   0,   0,   0,   0,   0],\n",
       "       [650, 350,   0,   0,   0,   0,   0,   0,   0,   0],\n",
       "       [550, 450,   0,   0,   0,   0,   0,   0,   0,   0]])"
      ]
     },
     "execution_count": 187,
     "metadata": {},
     "output_type": "execute_result"
    }
   ],
   "source": [
    "conf_matrix"
   ]
  },
  {
   "cell_type": "code",
   "execution_count": 74,
   "id": "18dedaf0",
   "metadata": {},
   "outputs": [],
   "source": [
    "# im = Image.fromarray(X[0].numpy()).resize((256,256), Image.ANTIALIAS)\n",
    "# im"
   ]
  },
  {
   "cell_type": "code",
   "execution_count": 75,
   "id": "b9a236b1",
   "metadata": {},
   "outputs": [],
   "source": [
    "# cifar_dataobj = CIFAR10(\"./\", True, None, None, False)"
   ]
  },
  {
   "cell_type": "code",
   "execution_count": 76,
   "id": "47dd12a3",
   "metadata": {},
   "outputs": [],
   "source": [
    "# cifar_dataobj.data[0].shape"
   ]
  },
  {
   "cell_type": "code",
   "execution_count": 77,
   "id": "d5efd07a",
   "metadata": {},
   "outputs": [],
   "source": [
    "# im = Image.fromarray(cifar_dataobj.data[0]).resize((256,256), Image.ANTIALIAS)\n",
    "# im"
   ]
  },
  {
   "cell_type": "code",
   "execution_count": 86,
   "id": "a81a8278",
   "metadata": {},
   "outputs": [],
   "source": [
    "# y=cifar_dataobj.targets[0]\n",
    "# y"
   ]
  },
  {
   "cell_type": "code",
   "execution_count": 87,
   "id": "c6eacb02",
   "metadata": {},
   "outputs": [],
   "source": [
    "# net(cifar_dataobj.data[0])\n",
    "# transform = transforms.Compose([\n",
    "#     transforms.ToTensor()\n",
    "# ])\n",
    "#   \n",
    "# tensor = transform(X[0].numpy())"
   ]
  },
  {
   "cell_type": "code",
   "execution_count": 149,
   "id": "5b7dfe58",
   "metadata": {},
   "outputs": [
    {
     "name": "stdout",
     "output_type": "stream",
     "text": [
      "tensor(148.5636, grad_fn=<AddBackward0>)\n"
     ]
    }
   ],
   "source": [
    "ll = []\n",
    "for i in range(len(X)):\n",
    "    _,_,y_=net(X[i])\n",
    "    loss = criterion(y_, Y[i])\n",
    "    ll.append(loss)\n",
    "ll\n",
    "print(sum(ll))"
   ]
  },
  {
   "cell_type": "code",
   "execution_count": 150,
   "id": "ba4e1141",
   "metadata": {},
   "outputs": [
    {
     "data": {
      "text/plain": [
       "tensor(2.3213, grad_fn=<DivBackward0>)"
      ]
     },
     "execution_count": 150,
     "metadata": {},
     "output_type": "execute_result"
    }
   ],
   "source": [
    "sum(ll)/64"
   ]
  },
  {
   "cell_type": "code",
   "execution_count": 179,
   "id": "dee94cfd",
   "metadata": {},
   "outputs": [],
   "source": [
    "optimizer = optim.Adam(filter(lambda p: p.requires_grad, net.parameters()), lr=lr,\n",
    "                              weight_decay=1e-5)\n",
    "criterion = nn.CrossEntropyLoss() # .cuda()"
   ]
  },
  {
   "cell_type": "code",
   "execution_count": 198,
   "id": "599b75f7",
   "metadata": {},
   "outputs": [
    {
     "data": {
      "text/plain": [
       "tensor(2.3078, grad_fn=<NllLossBackward0>)"
      ]
     },
     "execution_count": 198,
     "metadata": {},
     "output_type": "execute_result"
    }
   ],
   "source": [
    "x, target = X, Y\n",
    "x.requires_grad = False\n",
    "target.requires_grad = False\n",
    "target = target.long()\n",
    "_,_,out = net(x)\n",
    "loss = criterion(out, target)\n",
    "loss.backward()\n",
    "optimizer.zero_grad()\n",
    "optimizer.step()\n",
    "loss"
   ]
  },
  {
   "cell_type": "code",
   "execution_count": 199,
   "id": "962b0d78",
   "metadata": {},
   "outputs": [
    {
     "data": {
      "text/plain": [
       "tensor(2.3097, grad_fn=<NllLossBackward0>)"
      ]
     },
     "execution_count": 199,
     "metadata": {},
     "output_type": "execute_result"
    }
   ],
   "source": [
    "_,_,out = net(x)\n",
    "loss = criterion(out, target)\n",
    "loss"
   ]
  },
  {
   "cell_type": "code",
   "execution_count": 159,
   "id": "4c0b90c9",
   "metadata": {
    "scrolled": true
   },
   "outputs": [
    {
     "name": "stdout",
     "output_type": "stream",
     "text": [
      "tensor(2.2965, grad_fn=<NllLossBackward0>)\n",
      "tensor(2.3362, grad_fn=<NllLossBackward0>)\n",
      "tensor(2.3400, grad_fn=<NllLossBackward0>)\n",
      "tensor(2.3651, grad_fn=<NllLossBackward0>)\n",
      "tensor(2.2963, grad_fn=<NllLossBackward0>)\n",
      "tensor(2.3354, grad_fn=<NllLossBackward0>)\n",
      "tensor(2.3349, grad_fn=<NllLossBackward0>)\n",
      "tensor(2.2943, grad_fn=<NllLossBackward0>)\n",
      "tensor(2.2961, grad_fn=<NllLossBackward0>)\n",
      "tensor(2.3358, grad_fn=<NllLossBackward0>)\n",
      "tensor(2.3602, grad_fn=<NllLossBackward0>)\n",
      "tensor(2.3369, grad_fn=<NllLossBackward0>)\n",
      "tensor(2.2987, grad_fn=<NllLossBackward0>)\n",
      "tensor(2.2990, grad_fn=<NllLossBackward0>)\n",
      "tensor(2.2928, grad_fn=<NllLossBackward0>)\n",
      "tensor(2.2903, grad_fn=<NllLossBackward0>)\n",
      "tensor(2.3377, grad_fn=<NllLossBackward0>)\n",
      "tensor(2.2992, grad_fn=<NllLossBackward0>)\n",
      "tensor(2.2868, grad_fn=<NllLossBackward0>)\n",
      "tensor(2.3558, grad_fn=<NllLossBackward0>)\n",
      "tensor(2.3402, grad_fn=<NllLossBackward0>)\n",
      "tensor(2.2929, grad_fn=<NllLossBackward0>)\n",
      "tensor(2.2981, grad_fn=<NllLossBackward0>)\n",
      "tensor(2.3362, grad_fn=<NllLossBackward0>)\n",
      "tensor(2.2955, grad_fn=<NllLossBackward0>)\n",
      "tensor(2.3580, grad_fn=<NllLossBackward0>)\n",
      "tensor(2.2953, grad_fn=<NllLossBackward0>)\n",
      "tensor(2.3646, grad_fn=<NllLossBackward0>)\n",
      "tensor(2.2952, grad_fn=<NllLossBackward0>)\n",
      "tensor(2.3344, grad_fn=<NllLossBackward0>)\n",
      "tensor(2.3346, grad_fn=<NllLossBackward0>)\n",
      "tensor(2.3623, grad_fn=<NllLossBackward0>)\n",
      "tensor(2.2973, grad_fn=<NllLossBackward0>)\n",
      "tensor(2.2914, grad_fn=<NllLossBackward0>)\n",
      "tensor(2.2924, grad_fn=<NllLossBackward0>)\n",
      "tensor(2.3387, grad_fn=<NllLossBackward0>)\n",
      "tensor(2.3362, grad_fn=<NllLossBackward0>)\n",
      "tensor(2.3377, grad_fn=<NllLossBackward0>)\n",
      "tensor(2.3583, grad_fn=<NllLossBackward0>)\n",
      "tensor(2.3368, grad_fn=<NllLossBackward0>)\n",
      "tensor(2.2959, grad_fn=<NllLossBackward0>)\n",
      "tensor(2.3376, grad_fn=<NllLossBackward0>)\n",
      "tensor(2.2934, grad_fn=<NllLossBackward0>)\n",
      "tensor(2.3590, grad_fn=<NllLossBackward0>)\n",
      "tensor(2.2944, grad_fn=<NllLossBackward0>)\n",
      "tensor(2.2940, grad_fn=<NllLossBackward0>)\n",
      "tensor(2.3368, grad_fn=<NllLossBackward0>)\n",
      "tensor(2.3602, grad_fn=<NllLossBackward0>)\n",
      "tensor(2.3023, grad_fn=<NllLossBackward0>)\n",
      "tensor(2.3604, grad_fn=<NllLossBackward0>)\n",
      "tensor(2.2954, grad_fn=<NllLossBackward0>)\n",
      "tensor(2.2965, grad_fn=<NllLossBackward0>)\n",
      "tensor(2.3012, grad_fn=<NllLossBackward0>)\n",
      "tensor(2.3613, grad_fn=<NllLossBackward0>)\n",
      "tensor(2.3052, grad_fn=<NllLossBackward0>)\n",
      "tensor(2.3376, grad_fn=<NllLossBackward0>)\n",
      "tensor(2.2959, grad_fn=<NllLossBackward0>)\n",
      "tensor(2.3413, grad_fn=<NllLossBackward0>)\n",
      "tensor(2.2919, grad_fn=<NllLossBackward0>)\n",
      "tensor(2.3595, grad_fn=<NllLossBackward0>)\n",
      "tensor(2.2944, grad_fn=<NllLossBackward0>)\n",
      "tensor(2.3365, grad_fn=<NllLossBackward0>)\n",
      "tensor(2.3346, grad_fn=<NllLossBackward0>)\n",
      "tensor(2.2935, grad_fn=<NllLossBackward0>)\n"
     ]
    }
   ],
   "source": [
    "X.requires_grad = False\n",
    "Y.requires_grad = False\n",
    "Y = Y.long()\n",
    "for i in range(len(X)):\n",
    "    _,_,y_=net(X[i])\n",
    "    loss = criterion(y_, Y[i])\n",
    "    print(loss)a\n",
    "#     with torch.no_grad():\n",
    "#         loss.set_(torch.Tensor([10])[0])\n",
    "#     print(loss)\n",
    "    loss.backward()\n",
    "    optimizer.zero_grad()\n",
    "    optimizer.step()"
   ]
  }
 ],
 "metadata": {
  "kernelspec": {
   "display_name": "Python 3 (ipykernel)",
   "language": "python",
   "name": "python3"
  },
  "language_info": {
   "codemirror_mode": {
    "name": "ipython",
    "version": 3
   },
   "file_extension": ".py",
   "mimetype": "text/x-python",
   "name": "python",
   "nbconvert_exporter": "python",
   "pygments_lexer": "ipython3",
   "version": "3.7.0"
  }
 },
 "nbformat": 4,
 "nbformat_minor": 5
}
