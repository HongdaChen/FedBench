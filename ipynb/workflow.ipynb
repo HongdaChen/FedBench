{
 "cells": [
  {
   "cell_type": "markdown",
   "id": "9b3a0248",
   "metadata": {},
   "source": [
    "## THIS PROGRM NEED cifar-10-batches-py IN THE SAME DIRECTORY\n",
    "\n",
    "AND cifar-10-batches-py HAS THE FOLLOWING CONTENTS will be override except the two files:\n",
    "\n",
    "- `batches.meta` \n",
    "- `test_batch`\n",
    "- data_batch_1  \n",
    "- data_batch_2  \n",
    "- data_batch_3  \n",
    "- data_batch_4  \n",
    "- data_batch_5"
   ]
  },
  {
   "cell_type": "code",
   "execution_count": 1,
   "id": "86e06a42",
   "metadata": {},
   "outputs": [],
   "source": [
    "import torch\n",
    "import os\n",
    "from collections import Counter\n",
    "import numpy as np\n",
    "import pickle\n",
    "import copy\n",
    "from torch.utils.data import Dataset\n",
    "from PIL import Image\n",
    "import tarfile\n",
    "import shutil\n",
    "from typing import Any, Callable, Optional, Tuple\n",
    "import torchvision\n",
    "from torchvision import datasets, transforms\n",
    "from torchvision.datasets import CIFAR10, CIFAR100, SVHN, FashionMNIST, MNIST\n"
   ]
  },
  {
   "cell_type": "markdown",
   "id": "0f101a42",
   "metadata": {},
   "source": [
    "## Partition Data"
   ]
  },
  {
   "cell_type": "code",
   "execution_count": 2,
   "id": "2344c718",
   "metadata": {},
   "outputs": [],
   "source": [
    "def partition_data(dataset, datadir, partition, n_parties, beta=0.4):\n",
    "    if dataset == 'cifar10':\n",
    "        X_train, y_train, X_test, y_test = load_cifar10_data(datadir)\n",
    "    elif dataset == 'cifar100':\n",
    "        X_train, y_train, X_test, y_test = load_cifar100_data(datadir)\n",
    "    elif dataset == 'tinyimagenet':\n",
    "        X_train, y_train, X_test, y_test = load_tinyimagenet_data(datadir)\n",
    "\n",
    "    n_train = y_train.shape[0]\n",
    "\n",
    "    if partition == \"homo\" or partition == \"iid\":\n",
    "        idxs = np.random.permutation(n_train)\n",
    "        batch_idxs = np.array_split(idxs, n_parties)\n",
    "        net_dataidx_map = {i: batch_idxs[i] for i in range(n_parties)}\n",
    "\n",
    "\n",
    "    elif partition == \"noniid-labeldir\" or partition == \"noniid\":\n",
    "        min_size = 0\n",
    "        min_require_size = 10\n",
    "        K = 10\n",
    "        if dataset == 'cifar100':\n",
    "            K = 100\n",
    "        elif dataset == 'tinyimagenet':\n",
    "            K = 200\n",
    "            # min_require_size = 100\n",
    "\n",
    "        N = y_train.shape[0]\n",
    "        net_dataidx_map = {}\n",
    "\n",
    "        while min_size < min_require_size:\n",
    "            idx_batch = [[] for _ in range(n_parties)]\n",
    "            for k in range(K):\n",
    "                idx_k = np.where(y_train == k)[0]\n",
    "                np.random.shuffle(idx_k)\n",
    "                proportions = np.random.dirichlet(np.repeat(beta, n_parties))\n",
    "                proportions = np.array([p * (len(idx_j) < N / n_parties) for p, idx_j in zip(proportions, idx_batch)])\n",
    "                proportions = proportions / proportions.sum()\n",
    "                proportions = (np.cumsum(proportions) * len(idx_k)).astype(int)[:-1]\n",
    "                idx_batch = [idx_j + idx.tolist() for idx_j, idx in zip(idx_batch, np.split(idx_k, proportions))]\n",
    "                min_size = min([len(idx_j) for idx_j in idx_batch])\n",
    "                # if K == 2 and n_parties <= 10:\n",
    "                #     if np.min(proportions) < 200:\n",
    "                #         min_size = 0\n",
    "                #         break\n",
    "\n",
    "        for j in range(n_parties):\n",
    "            np.random.shuffle(idx_batch[j])\n",
    "            net_dataidx_map[j] = idx_batch[j]\n",
    "\n",
    "    traindata_cls_counts = record_net_data_stats(y_train, net_dataidx_map)\n",
    "    return (X_train, y_train, X_test, y_test, net_dataidx_map, traindata_cls_counts)\n",
    "\n",
    "def load_cifar10_data(datadir):\n",
    "    transform = transforms.Compose([transforms.ToTensor()])\n",
    "\n",
    "    cifar10_train_ds = CIFAR10_truncated(datadir, train=True, download=True, transform=transform)\n",
    "    cifar10_test_ds = CIFAR10_truncated(datadir, train=False, download=True, transform=transform)\n",
    "\n",
    "    X_train, y_train = cifar10_train_ds.data, cifar10_train_ds.target\n",
    "    X_test, y_test = cifar10_test_ds.data, cifar10_test_ds.target\n",
    "\n",
    "    # y_train = y_train.numpy()\n",
    "    # y_test = y_test.numpy()\n",
    "\n",
    "    return (X_train, y_train, X_test, y_test)\n",
    "\n",
    "def load_cifar100_data(datadir):\n",
    "    transform = transforms.Compose([transforms.ToTensor()])\n",
    "\n",
    "    cifar100_train_ds = CIFAR100_truncated(datadir, train=True, download=True, transform=transform)\n",
    "    cifar100_test_ds = CIFAR100_truncated(datadir, train=False, download=True, transform=transform)\n",
    "\n",
    "    X_train, y_train = cifar100_train_ds.data, cifar100_train_ds.target\n",
    "    X_test, y_test = cifar100_test_ds.data, cifar100_test_ds.target\n",
    "\n",
    "    # y_train = y_train.numpy()\n",
    "    # y_test = y_test.numpy()\n",
    "\n",
    "    return (X_train, y_train, X_test, y_test)\n",
    "\n",
    "def record_net_data_stats(y_train, net_dataidx_map):\n",
    "    net_cls_counts = {}\n",
    "\n",
    "    for net_i, dataidx in net_dataidx_map.items():\n",
    "        unq, unq_cnt = np.unique(y_train[dataidx], return_counts=True)\n",
    "        tmp = {unq[i]: unq_cnt[i] for i in range(len(unq))}\n",
    "        net_cls_counts[net_i] = tmp\n",
    "\n",
    "    data_list=[]\n",
    "    for net_id, data in net_cls_counts.items():\n",
    "        n_total=0\n",
    "        for class_id, n_data in data.items():\n",
    "            n_total += n_data\n",
    "        data_list.append(n_total)\n",
    "    print('mean:', np.mean(data_list))\n",
    "    print('std:', np.std(data_list))\n",
    "    print('Data statistics: %s' % str(net_cls_counts))\n",
    "\n",
    "    return net_cls_counts"
   ]
  },
  {
   "cell_type": "code",
   "execution_count": 3,
   "id": "c949780c",
   "metadata": {},
   "outputs": [],
   "source": [
    "def get_dataloader(dataset, datadir, train_bs, test_bs, dataidxs=None, noise_level=0):\n",
    "    if dataset in ('cifar10', 'cifar100'):\n",
    "        if dataset == 'cifar10':\n",
    "            dl_obj = CIFAR10_truncated\n",
    "\n",
    "        train_ds = dl_obj(datadir, dataidxs=dataidxs, train=True, download=False)\n",
    "        test_ds = dl_obj(datadir, train=False, download=False)\n",
    "\n",
    "        train_dl = torch.utils.data.DataLoader(dataset=train_ds, batch_size=train_bs, drop_last=False, shuffle=False)\n",
    "        test_dl = torch.utils.data.DataLoader(dataset=test_ds, batch_size=test_bs, shuffle=False)\n",
    "\n",
    "    elif dataset == 'tinyimagenet':\n",
    "        dl_obj = ImageFolder_custom\n",
    "    \n",
    "        train_ds = dl_obj(datadir+'./train/', dataidxs=dataidxs)\n",
    "        test_ds = dl_obj(datadir+'./val/')\n",
    "\n",
    "        train_dl = data.DataLoader(dataset=train_ds, batch_size=train_bs, drop_last=False, shuffle=True)\n",
    "        test_dl = data.DataLoader(dataset=test_ds, batch_size=test_bs, shuffle=False)\n",
    "\n",
    "\n",
    "    return train_dl, test_dl, train_ds, test_ds"
   ]
  },
  {
   "cell_type": "code",
   "execution_count": 4,
   "id": "cd60721e",
   "metadata": {},
   "outputs": [],
   "source": [
    "class CIFAR10_truncated(torch.utils.data.Dataset):\n",
    "\n",
    "    def __init__(self, root, dataidxs=None, train=True, transform=None, target_transform=None, download=False):\n",
    "\n",
    "        self.root = root\n",
    "        self.dataidxs = dataidxs\n",
    "        self.train = train\n",
    "        self.transform = transform\n",
    "        self.target_transform = target_transform\n",
    "        self.download = download\n",
    "\n",
    "        self.data, self.target = self.__build_truncated_dataset__()\n",
    "\n",
    "    def __build_truncated_dataset__(self):\n",
    "\n",
    "        cifar_dataobj = CIFAR10(self.root, self.train, self.transform, self.target_transform, self.download)\n",
    "\n",
    "        if torchvision.__version__ == '0.2.1':\n",
    "            if self.train:\n",
    "                data, target = cifar_dataobj.train_data, np.array(cifar_dataobj.train_labels)\n",
    "            else:\n",
    "                data, target = cifar_dataobj.test_data, np.array(cifar_dataobj.test_labels)\n",
    "        else:\n",
    "            data = cifar_dataobj.data\n",
    "            target = np.array(cifar_dataobj.targets)\n",
    "\n",
    "        if self.dataidxs is not None:\n",
    "            data = data[self.dataidxs]\n",
    "            target = target[self.dataidxs]\n",
    "\n",
    "        return data, target\n",
    "\n",
    "    def __getitem__(self, index):\n",
    "        \"\"\"\n",
    "        Args:\n",
    "            index (int): Index\n",
    "\n",
    "        Returns:\n",
    "            tuple: (image, target) where target is index of the target class.\n",
    "        \"\"\"\n",
    "        img, target = self.data[index], self.target[index]\n",
    "        # img = Image.fromarray(img)\n",
    "        # print(\"cifar10 img:\", img)\n",
    "        # print(\"cifar10 target:\", target)\n",
    "\n",
    "        if self.transform is not None:\n",
    "            img = self.transform(img)\n",
    "\n",
    "        if self.target_transform is not None:\n",
    "            target = self.target_transform(target)\n",
    "\n",
    "        return img, target\n",
    "\n",
    "    def __len__(self):\n",
    "        return len(self.data)"
   ]
  },
  {
   "cell_type": "code",
   "execution_count": 5,
   "id": "108c9f12",
   "metadata": {},
   "outputs": [
    {
     "name": "stdout",
     "output_type": "stream",
     "text": [
      "Files already downloaded and verified\n",
      "Files already downloaded and verified\n",
      "mean: 5000.0\n",
      "std: 1165.398901664147\n",
      "Data statistics: {0: {0: 953, 1: 142, 2: 141, 3: 75, 4: 695, 5: 819, 7: 2482}, 1: {0: 16, 1: 43, 2: 902, 3: 1650, 4: 86, 5: 182, 7: 693, 8: 110, 9: 6}, 2: {0: 9, 1: 8, 2: 290, 3: 769, 4: 841, 5: 283, 6: 119, 7: 1044, 8: 1014, 9: 58}, 3: {0: 395, 1: 1200, 2: 48, 3: 68, 4: 896, 5: 681, 6: 90, 7: 17, 8: 1351, 9: 301}, 4: {0: 504, 1: 2917, 2: 570, 3: 721, 4: 121, 5: 356}, 5: {0: 1262, 1: 71, 2: 325, 3: 119, 4: 1560, 5: 14, 6: 1, 7: 85, 8: 366}, 6: {0: 9, 1: 273, 2: 1657, 3: 40, 4: 1, 5: 130, 6: 1911, 7: 21, 8: 1160}, 7: {0: 722, 1: 3, 2: 281, 3: 738, 4: 22, 5: 974, 6: 624, 7: 1, 8: 82, 9: 878}, 8: {0: 1127, 1: 153, 2: 680, 3: 500, 4: 698, 5: 1139, 6: 92, 7: 23, 8: 1, 9: 3665}, 9: {0: 3, 1: 190, 2: 106, 3: 320, 4: 80, 5: 422, 6: 2163, 7: 634, 8: 916, 9: 92}}\n"
     ]
    }
   ],
   "source": [
    "seed = 0\n",
    "np.random.seed(seed)\n",
    "torch.manual_seed(seed)\n",
    "if torch.cuda.is_available():\n",
    "    torch.cuda.manual_seed(seed)\n",
    "################# the alpha controlls the partition ###################### \n",
    "alpha = 0.5\n",
    "all_clients = 10\n",
    "\n",
    "X_train, y_train, X_test, y_test, net_dataidx_map, traindata_cls_counts = partition_data(\n",
    "\"cifar10\", \"../data\", \"noniid\", all_clients, beta=alpha)"
   ]
  },
  {
   "cell_type": "code",
   "execution_count": 6,
   "id": "b09e98da",
   "metadata": {},
   "outputs": [],
   "source": [
    "copy_sta = copy.deepcopy(traindata_cls_counts)"
   ]
  },
  {
   "cell_type": "code",
   "execution_count": 7,
   "id": "33f01125",
   "metadata": {},
   "outputs": [],
   "source": [
    "with open(\"traindata_cls_counts.pkl\",\"wb\") as file:\n",
    "    pickle.dump(traindata_cls_counts,file)"
   ]
  },
  {
   "cell_type": "code",
   "execution_count": 8,
   "id": "101c8af0",
   "metadata": {},
   "outputs": [
    {
     "name": "stdout",
     "output_type": "stream",
     "text": [
      "/home/aikedaer/Desktop/DatasetCondensation (copy)/ipynb\r\n"
     ]
    }
   ],
   "source": [
    "!pwd"
   ]
  },
  {
   "cell_type": "code",
   "execution_count": 9,
   "id": "60f43e05",
   "metadata": {},
   "outputs": [
    {
     "data": {
      "text/plain": [
       "{0: 953, 1: 142, 2: 141, 3: 75, 4: 695, 5: 819, 7: 2482}"
      ]
     },
     "execution_count": 9,
     "metadata": {},
     "output_type": "execute_result"
    }
   ],
   "source": [
    "with open(\"traindata_cls_counts.pkl\",\"rb\") as file:\n",
    "    stat = pickle.load(file)\n",
    "stat[0]"
   ]
  },
  {
   "cell_type": "code",
   "execution_count": 14,
   "id": "4ccd1dbf",
   "metadata": {},
   "outputs": [],
   "source": [
    "## put the data that after partition into disk from memory, so CAREFULLY DO IT TO NOT OVERWRITE THE EXISTING DATA\n",
    "## WARNING: CHECK HTE PATH NO DATA\n",
    "keep_avg_align = False\n",
    "for client in range(10):\n",
    "    \n",
    "    ## ds mean all the data, only dl is related to batchsize\n",
    "    train_dl_local, test_dl_local, train_ds, test_ds = get_dataloader(\"cifar10\", \n",
    "                                                                      '../data', 64, 32,\n",
    "                                                                      dataidxs=net_dataidx_map[client])\n",
    "\n",
    "\n",
    "    transform_type = torchvision.transforms.Compose([\n",
    "        transforms.ToTensor()\n",
    "    ])\n",
    "    \n",
    "    data_ = [transform_type(i) for i in train_ds.data]\n",
    "    data_ = np.vstack(data_).reshape(-1, 3, 32, 32).transpose((0,2,3,1))\n",
    "    labels_=list(train_ds.target)\n",
    "    origin_lab = np.array(labels_)\n",
    "    \n",
    "    transform_aug = torchvision.transforms.Compose([\n",
    "        transforms.ToTensor(),\n",
    "        torchvision.transforms.ToPILImage(),\n",
    "        torchvision.transforms.RandomHorizontalFlip(),\n",
    "        torchvision.transforms.RandomRotation(32),\n",
    "        torchvision.transforms.ToTensor()\n",
    "    ])\n",
    "    # i stands for labels\n",
    "    for i in range(10):\n",
    "        data_index = np.argwhere(origin_lab==i).reshape(-1)\n",
    "        if i not in Counter(train_ds.target).keys():\n",
    "            # add 20 noise to those who lossing classes\n",
    "            for j in range(20):\n",
    "                t_d = data_[0].shape\n",
    "                noise = torch.randn(t_d).reshape((1,32,32,3)).numpy()\n",
    "                data_=np.concatenate((data_, noise))\n",
    "                labels_.append(i)\n",
    "                copy_sta[client][i] = 1 if j==0 else copy_sta[client][i]+1\n",
    "        elif traindata_cls_counts[client][i]<20:\n",
    "            # add 10 aug images to those who has less than 10 images' classes, switch to dataset using transform\n",
    "            num_da = traindata_cls_counts[client][i]\n",
    "            while copy_sta[client][i]<20:\n",
    "                for j in data_index:\n",
    "                    aug = transform_aug(data_[j]).cpu().numpy().transpose((1,2,0)).reshape((1,32,32,3))\n",
    "                    \n",
    "                    data_=np.concatenate((data_, aug))\n",
    "                    labels_.append(i)\n",
    "                    copy_sta[client][i]+=1\n",
    "        ### keep align with the avg num class\n",
    "        if keep_avg_align:\n",
    "            data_index_new = np.argwhere(np.array(labels_)==i).reshape(-1)\n",
    "            mean_num_client = int(np.array(list(traindata_cls_counts[client].values())).mean())\n",
    "            while copy_sta[client][i] < mean_num_client:\n",
    "                choice_index = np.random.choice(data_index_new)\n",
    "                aug = transform_aug(data_[choice_index]).cpu().numpy().transpose((1,2,0)).reshape((1,32,32,3))\n",
    "                data_=np.concatenate((data_, aug))\n",
    "                labels_.append(i)\n",
    "                copy_sta[client][i]+=1\n",
    "                \n",
    "            \n",
    "    num = data_.shape[0]\n",
    "    step = num//5\n",
    "    data_ = data_.reshape(num,-1)\n",
    "    os.makedirs(\"cifar-10-batches-py\",exist_ok=True)\n",
    "    for i in range(5):\n",
    "        dic = {}\n",
    "        dic['data']=data_[step*i:step*(i+1)]\n",
    "        dic['labels']=labels_[step*i:step*(i+1)]\n",
    "        with open(\"cifar-10-batches-py/data_batch_\"+str(i+1),\"wb\") as f:\n",
    "            pickle.dump(dic,f)\n",
    "\n",
    "    # compress file to tar.gz\n",
    "    def Converter(path, tar):\n",
    "        with tarfile.open(tar, \"w:gz\") as t:\n",
    "            for root, dirs, files in os.walk(path):\n",
    "                for file in files:\n",
    "                    t.add(os.path.join(root, file))\n",
    "\n",
    "    Converter(\"cifar-10-batches-py\", \"cifar-10-python.tar.gz\")\n",
    "    # move to new dir\n",
    "    ne_path = \"data/cifar10/avg-align-alpha-\"+str(alpha)+\"/partition_client_\"+str(client+1)\n",
    "    os.makedirs(ne_path) #,exist_ok=True) in order to not override the origional data\n",
    "    shutil.move(\"cifar-10-python.tar.gz\",ne_path)"
   ]
  },
  {
   "cell_type": "code",
   "execution_count": 243,
   "id": "60eefb11",
   "metadata": {},
   "outputs": [
    {
     "data": {
      "text/plain": [
       "'/home/aikedaer/Desktop/FedMOON/ipynb'"
      ]
     },
     "execution_count": 243,
     "metadata": {},
     "output_type": "execute_result"
    }
   ],
   "source": [
    "os.getcwd()"
   ]
  },
  {
   "cell_type": "code",
   "execution_count": 4,
   "id": "61ca5294",
   "metadata": {},
   "outputs": [],
   "source": [
    "## uncompress\n",
    "import subprocess\n",
    "current_dir = os.getcwd()\n",
    "print(current_dir)\n",
    "for client in range(10):\n",
    "    xpath = \"data/cifar10/avg-align-alpha-\"+str(alpha)+\"/partition_client_\"+str(client+1)\n",
    "    os.chdir(xpath)\n",
    "    subprocess.run([\"tar\",\"-xzvf\",\"cifar-10-python.tar.gz\"])\n",
    "    os.chdir(current_dir)"
   ]
  },
  {
   "cell_type": "code",
   "execution_count": 17,
   "id": "7c28c777",
   "metadata": {},
   "outputs": [
    {
     "data": {
      "image/png": "[encoded data removed]",
      "text/plain": [
       "<Figure size 1800x720 with 10 Axes>"
      ]
     },
     "metadata": {
      "needs_background": "light"
     },
     "output_type": "display_data"
    },
    {
     "data": {
      "image/png": "[encoded data removed]",
      "text/plain": [
       "<Figure size 1800x720 with 10 Axes>"
      ]
     },
     "metadata": {
      "needs_background": "light"
     },
     "output_type": "display_data"
    }
   ],
   "source": [
    "## related to the partition alpha \n",
    "import matplotlib.pyplot as plt\n",
    "for flag in [\"former\",\"augmentation\"]:\n",
    "    if flag == \"former\":\n",
    "        x = traindata_cls_counts\n",
    "    else:\n",
    "        x = copy_sta\n",
    "    fig, ax = plt.subplots(2, 5, sharex='col', sharey='row',figsize=(25,10))\n",
    "    for i in range(10):\n",
    "        if i==0:\n",
    "            ax[i//5,i%5].set_ylabel(\"Number of corresponding label\")\n",
    "        elif i>5:\n",
    "            ax[i//5,i%5].set_xlabel(\"Class_label\")\n",
    "        elif i==5:\n",
    "            ax[i//5,i%5].set_ylabel(\"Number of corresponding label\")\n",
    "            ax[i//5,i%5].set_xlabel(\"Class_label\")\n",
    "\n",
    "        ax[i//5,i%5].set_xlim(-1,10)\n",
    "        ax[i//5,i%5].bar(list(x[i].keys()),list(x[i].values()),width = 1)\n",
    "        ax[i//5,i%5].set_title(\"client-{0}\".format(i))\n",
    "        for m,n in zip(list(x[i].keys()),list(x[i].values())):\n",
    "            ax[i//5,i%5].text(m+0.05,n+0.05,'%d' %n, ha='center',va='bottom')\n",
    "    # plt.title(\"partition-\"+str(alpha)) not work\n",
    "    plt.savefig(\"data/cifar10/avg-align-alpha-\"+str(alpha)+\"/\"+flag+\"_partition.png\",dpi=330)\n",
    "    plt.show()"
   ]
  },
  {
   "cell_type": "markdown",
   "id": "0f7c4ace",
   "metadata": {},
   "source": [
    "## Create DataSet"
   ]
  },
  {
   "cell_type": "code",
   "execution_count": 84,
   "id": "ee17943e",
   "metadata": {},
   "outputs": [],
   "source": [
    "class MYCIFAR10(Dataset):\n",
    "    base_folder = \"cifar-10-batches-py\"\n",
    "    url = \"https://www.cs.toronto.edu/~kriz/cifar-10-python.tar.gz\"\n",
    "    filename = \"cifar-10-python.tar.gz\"\n",
    "    tgz_md5 = \"c58f30108f718f92721af3b95e74349a\"\n",
    "    train_list = [\n",
    "        [\"data_batch_1\", \"c99cafc152244af753f735de768cd75f\"],\n",
    "        [\"data_batch_2\", \"d4bba439e000b95fd0a9bffe97cbabec\"],\n",
    "        [\"data_batch_3\", \"54ebc095f3ab1f0389bbae665268c751\"],\n",
    "        [\"data_batch_4\", \"634d18415352ddfa80567beed471001a\"],\n",
    "        [\"data_batch_5\", \"482c414d41f54cd18b22e5b47cb7c3cb\"],\n",
    "    ]\n",
    "\n",
    "    test_list = [\n",
    "        [\"test_batch\", \"40351d587109b95175f43aff81a1287e\"],\n",
    "    ]\n",
    "    meta = {\n",
    "        \"filename\": \"batches.meta\",\n",
    "        \"key\": \"label_names\",\n",
    "        \"md5\": \"5ff9c542aee3614f3951f8cda6e48888\",\n",
    "    }\n",
    "\n",
    "    def __init__(\n",
    "            self,\n",
    "            root: str,\n",
    "            train: bool = True,\n",
    "            transform: Optional[Callable] = None,\n",
    "            target_transform: Optional[Callable] = None,\n",
    "            download: bool = False,\n",
    "    ) -> None:\n",
    "\n",
    "        #         super().__init__(root, transform=transform, target_transform=target_transform)\n",
    "        self.root = root\n",
    "        self.train = train  # training set or test set\n",
    "        self.transform = transform\n",
    "        self.target_transform = target_transform\n",
    "        self.downlod = download\n",
    "\n",
    "        if self.train:\n",
    "            downloaded_list = self.train_list\n",
    "        else:\n",
    "            downloaded_list = self.test_list\n",
    "\n",
    "        self.data: Any = []\n",
    "        self.targets = []\n",
    "\n",
    "        # now load the picked numpy arrays\n",
    "        for file_name, checksum in downloaded_list:\n",
    "            file_path = os.path.join(self.root, self.base_folder, file_name)\n",
    "            with open(file_path, \"rb\") as f:\n",
    "                entry = pickle.load(f, encoding=\"latin1\")\n",
    "                self.data.append(entry[\"data\"])\n",
    "                if \"labels\" in entry:\n",
    "                    self.targets.extend(entry[\"labels\"])\n",
    "                else:\n",
    "                    self.targets.extend(entry[\"fine_labels\"])\n",
    "\n",
    "        self.data = np.vstack(self.data).reshape(-1, 32, 32, 3)\n",
    "\n",
    "        self._load_meta()\n",
    "\n",
    "    def _load_meta(self) -> None:\n",
    "        path = os.path.join(self.root, self.base_folder, self.meta[\"filename\"])\n",
    "        with open(path, \"rb\") as infile:\n",
    "            data = pickle.load(infile, encoding=\"latin1\")\n",
    "            self.classes = data[self.meta[\"key\"]]\n",
    "        self.class_to_idx = {_class: i for i, _class in enumerate(self.classes)}\n",
    "\n",
    "    def __getitem__(self, index: int) -> Tuple[Any, Any]:\n",
    "\n",
    "        img, target = self.data[index], self.targets[index]\n",
    "\n",
    "        # doing this so that it is consistent with all other datasets\n",
    "        # to return a PIL Image\n",
    "        if not (isinstance(img, torch.Tensor) or isinstance(img, np.ndarray)):\n",
    "            img = Image.fromarray(img)\n",
    "\n",
    "        if self.transform is not None:\n",
    "            img = self.transform(img)\n",
    "\n",
    "        if self.target_transform is not None:\n",
    "            target = self.target_transform(target)\n",
    "\n",
    "        return img, target\n",
    "\n",
    "    def __len__(self) -> int:\n",
    "        return len(self.data)\n",
    "\n"
   ]
  },
  {
   "cell_type": "code",
   "execution_count": 85,
   "id": "7738d000",
   "metadata": {},
   "outputs": [],
   "source": [
    "client = 1\n",
    "data_path = \"data/avg-align-alpha-0.5/partition_client_\"+str(client)\n",
    "mean = [0.4914, 0.4822, 0.4465]\n",
    "std = [0.2023, 0.1994, 0.2010]\n",
    "transform = transforms.Compose([transforms.ToTensor(), transforms.Normalize(mean=mean, std=std)])\n",
    "dst_train = MYCIFAR10(data_path, train=True, download=True, transform=transforms.ToTensor()) # no augmentation\n",
    "# dst_test = MYCIFAR10(data_path, train=False, download=True, transform=transform)\n"
   ]
  },
  {
   "cell_type": "markdown",
   "id": "7b064d97",
   "metadata": {},
   "source": [
    "## Create DataLoader"
   ]
  },
  {
   "cell_type": "code",
   "execution_count": 86,
   "id": "37f57220",
   "metadata": {},
   "outputs": [],
   "source": [
    "testloader = torch.utils.data.DataLoader(dst_train, batch_size=256, shuffle=False, num_workers=0)"
   ]
  },
  {
   "cell_type": "markdown",
   "id": "73b32da3",
   "metadata": {},
   "source": [
    "## Visualize The Raw Data Ready To Distill"
   ]
  },
  {
   "cell_type": "code",
   "execution_count": 87,
   "id": "e1b0263a",
   "metadata": {},
   "outputs": [
    {
     "data": {
      "text/plain": [
       "torch.Size([3, 32, 32])"
      ]
     },
     "execution_count": 87,
     "metadata": {},
     "output_type": "execute_result"
    }
   ],
   "source": [
    "vis_train = MYCIFAR10(data_path, train=True, transform=transforms.ToTensor())\n",
    "vis_train[0][0].shape"
   ]
  },
  {
   "cell_type": "code",
   "execution_count": 2,
   "id": "510b98ca",
   "metadata": {},
   "outputs": [],
   "source": [
    "x = next(iter(testloader))[0][0]\n",
    "transforms.ToPILImage()(x).resize((256,256))"
   ]
  },
  {
   "cell_type": "code",
   "execution_count": 1,
   "id": "8db6a7a4",
   "metadata": {},
   "outputs": [],
   "source": [
    "for i in range(3740):\n",
    "    display(transforms.ToPILImage()(vis_train[i][0]).resize((256,256)))"
   ]
  },
  {
   "cell_type": "markdown",
   "id": "d321cd82",
   "metadata": {},
   "source": [
    "## Create Data-Condensation"
   ]
  },
  {
   "cell_type": "code",
   "execution_count": 132,
   "id": "64cd2c0c",
   "metadata": {},
   "outputs": [],
   "source": [
    "class CIFAR10_DIST(torch.utils.data.Dataset):\n",
    "\n",
    "    def __init__(self, root, client_num, experiment):\n",
    "        self.root = root\n",
    "        self.client_num = client_num\n",
    "        self.experiment = experiment\n",
    "        self.mean = [0.4914, 0.4822, 0.4465]\n",
    "        self.std = [0.2023, 0.1994, 0.2010]\n",
    "        self.train_ds_list = []\n",
    "        self.train_ds_label_list = []\n",
    "        normalize = transforms.Normalize(self.mean,self.std)\n",
    "        transform_train = transforms.Compose([transforms.ToTensor(), normalize])\n",
    "        # transform_train = transforms.Compose([\n",
    "        #     transforms.ToTensor(),\n",
    "        #     transforms.Lambda(lambda x: F.pad(\n",
    "        #         Variable(x.unsqueeze(0), requires_grad=False),\n",
    "        #         (4, 4, 4, 4), mode='reflect').data.squeeze()),\n",
    "        #     transforms.ToPILImage(),\n",
    "        #     transforms.ColorJitter(brightness=0),\n",
    "        #     transforms.RandomCrop(32),\n",
    "        #     transforms.RandomHorizontalFlip(),\n",
    "        #     transforms.ToTensor(),\n",
    "        #     normalize\n",
    "        # ])\n",
    "\n",
    "        self.data = self._constract()\n",
    "        self.target = self.train_ds_label_list\n",
    "\n",
    "        self.transform = transform_train\n",
    "        self.target_transform = None\n",
    "\n",
    "\n",
    "    def _constract(self):\n",
    "        for j in range(self.client_num):\n",
    "            if self.client_num !=1:\n",
    "                res = torch.load(os.path.join(self.root, \"client_\" + str(j + 1), \"res_DM_CIFAR10_ConvNet_1ipc_\"+ str(self.experiment) +\"_experiment.pt\"))\n",
    "            else:\n",
    "                res = torch.load(os.path.join(self.root, \"res_DM_CIFAR10_ConvNet_1ipc.pt\"))\n",
    "            # how many data\n",
    "            if self.client_num !=1:\n",
    "                num_data = len(res['data'][0][0])\n",
    "            else:\n",
    "                num_data = 100\n",
    "            for i in range(num_data):\n",
    "                if self.client_num != 1:\n",
    "                    if (res['data'][0][0][i] == torch.zeros((3, 32, 32)))[0][0][0] == True:\n",
    "                        continue\n",
    "                    image_syn_vis = res['data'][0][0][i]\n",
    "                else:\n",
    "                    image_syn_vis = res[0][i]\n",
    "                # for ch in range(3):\n",
    "                #     image_syn_vis[:, ch] = image_syn_vis[:, ch] * self.std[ch] + self.mean[ch]\n",
    "                # image_syn_vis[image_syn_vis < 0] = 0.0\n",
    "                # image_syn_vis[image_syn_vis > 1] = 1.0\n",
    "                self.train_ds_list.append(np.array(image_syn_vis))\n",
    "                if self.client_num != 1:\n",
    "                    self.train_ds_label_list.append(res['data'][0][1][i])\n",
    "                else:\n",
    "                    self.train_ds_label_list.append(res[1][i])\n",
    "\n",
    "        train_ds = np.vstack(self.train_ds_list).reshape((-1, 3, 32, 32))\n",
    "        train_ds = train_ds.transpose((0, 2, 3, 1))\n",
    "\n",
    "        return train_ds\n",
    "\n",
    "    def __getitem__(self, index):\n",
    "        \"\"\"\n",
    "        Args:\n",
    "            index (int): Index\n",
    "\n",
    "        Returns:\n",
    "            tuple: (image, target) where target is index of the target class.\n",
    "        \"\"\"\n",
    "        img, target = self.data[index], self.target[index]\n",
    "        # img = Image.fromarray(img)\n",
    "        # print(\"cifar10 img:\", img)\n",
    "        # print(\"cifar10 target:\", target)\n",
    "\n",
    "        if self.transform is not None:\n",
    "            img = self.transform(img)\n",
    "\n",
    "        if self.target_transform is not None:\n",
    "            target = self.target_transform(target)\n",
    "\n",
    "        return img, target\n",
    "\n",
    "    def __len__(self):\n",
    "        return len(self.data)\n",
    "\n"
   ]
  },
  {
   "cell_type": "code",
   "execution_count": 133,
   "id": "7efa98d8",
   "metadata": {},
   "outputs": [
    {
     "ename": "KeyError",
     "evalue": "0",
     "output_type": "error",
     "traceback": [
      "\u001b[0;31m---------------------------------------------------------------------------\u001b[0m",
      "\u001b[0;31mKeyError\u001b[0m                                  Traceback (most recent call last)",
      "\u001b[0;32m/tmp/ipykernel_443984/4103762872.py\u001b[0m in \u001b[0;36m<module>\u001b[0;34m\u001b[0m\n\u001b[0;32m----> 1\u001b[0;31m \u001b[0mdis\u001b[0m \u001b[0;34m=\u001b[0m \u001b[0mCIFAR10_DIST\u001b[0m\u001b[0;34m(\u001b[0m\u001b[0mroot\u001b[0m\u001b[0;34m=\u001b[0m\u001b[0;34m\"/home/aikedaer/Desktop/DatasetCondensation (copy)/res_hist\"\u001b[0m\u001b[0;34m,\u001b[0m\u001b[0mclient_num\u001b[0m\u001b[0;34m=\u001b[0m\u001b[0;36m1\u001b[0m\u001b[0;34m,\u001b[0m\u001b[0mexperiment\u001b[0m\u001b[0;34m=\u001b[0m\u001b[0;36m0\u001b[0m\u001b[0;34m)\u001b[0m\u001b[0;34m\u001b[0m\u001b[0m\n\u001b[0m\u001b[1;32m      2\u001b[0m \u001b[0mtrain_dl\u001b[0m \u001b[0;34m=\u001b[0m \u001b[0mtorch\u001b[0m\u001b[0;34m.\u001b[0m\u001b[0mutils\u001b[0m\u001b[0;34m.\u001b[0m\u001b[0mdata\u001b[0m\u001b[0;34m.\u001b[0m\u001b[0mDataLoader\u001b[0m\u001b[0;34m(\u001b[0m\u001b[0mdataset\u001b[0m\u001b[0;34m=\u001b[0m\u001b[0mdis\u001b[0m\u001b[0;34m,\u001b[0m \u001b[0mbatch_size\u001b[0m\u001b[0;34m=\u001b[0m\u001b[0;36m256\u001b[0m\u001b[0;34m,\u001b[0m \u001b[0mdrop_last\u001b[0m\u001b[0;34m=\u001b[0m\u001b[0;32mFalse\u001b[0m\u001b[0;34m,\u001b[0m \u001b[0mshuffle\u001b[0m\u001b[0;34m=\u001b[0m\u001b[0;32mFalse\u001b[0m\u001b[0;34m)\u001b[0m\u001b[0;34m\u001b[0m\u001b[0m\n",
      "\u001b[0;32m/tmp/ipykernel_443984/2361072234.py\u001b[0m in \u001b[0;36m__init__\u001b[0;34m(self, root, client_num, experiment)\u001b[0m\n\u001b[1;32m     24\u001b[0m         \u001b[0;31m# ])\u001b[0m\u001b[0;34m\u001b[0m\u001b[0;34m\u001b[0m\u001b[0m\n\u001b[1;32m     25\u001b[0m \u001b[0;34m\u001b[0m\u001b[0m\n\u001b[0;32m---> 26\u001b[0;31m         \u001b[0mself\u001b[0m\u001b[0;34m.\u001b[0m\u001b[0mdata\u001b[0m \u001b[0;34m=\u001b[0m \u001b[0mself\u001b[0m\u001b[0;34m.\u001b[0m\u001b[0m_constract\u001b[0m\u001b[0;34m(\u001b[0m\u001b[0;34m)\u001b[0m\u001b[0;34m\u001b[0m\u001b[0m\n\u001b[0m\u001b[1;32m     27\u001b[0m         \u001b[0mself\u001b[0m\u001b[0;34m.\u001b[0m\u001b[0mtarget\u001b[0m \u001b[0;34m=\u001b[0m \u001b[0mself\u001b[0m\u001b[0;34m.\u001b[0m\u001b[0mtrain_ds_label_list\u001b[0m\u001b[0;34m\u001b[0m\u001b[0m\n\u001b[1;32m     28\u001b[0m \u001b[0;34m\u001b[0m\u001b[0m\n",
      "\u001b[0;32m/tmp/ipykernel_443984/2361072234.py\u001b[0m in \u001b[0;36m_constract\u001b[0;34m(self)\u001b[0m\n\u001b[1;32m     48\u001b[0m                     \u001b[0mimage_syn_vis\u001b[0m \u001b[0;34m=\u001b[0m \u001b[0mres\u001b[0m\u001b[0;34m[\u001b[0m\u001b[0;34m'data'\u001b[0m\u001b[0;34m]\u001b[0m\u001b[0;34m[\u001b[0m\u001b[0;36m0\u001b[0m\u001b[0;34m]\u001b[0m\u001b[0;34m[\u001b[0m\u001b[0;36m0\u001b[0m\u001b[0;34m]\u001b[0m\u001b[0;34m[\u001b[0m\u001b[0mi\u001b[0m\u001b[0;34m]\u001b[0m\u001b[0;34m\u001b[0m\u001b[0m\n\u001b[1;32m     49\u001b[0m                 \u001b[0;32melse\u001b[0m\u001b[0;34m:\u001b[0m\u001b[0;34m\u001b[0m\u001b[0m\n\u001b[0;32m---> 50\u001b[0;31m                     \u001b[0mimage_syn_vis\u001b[0m \u001b[0;34m=\u001b[0m \u001b[0mres\u001b[0m\u001b[0;34m[\u001b[0m\u001b[0;36m0\u001b[0m\u001b[0;34m]\u001b[0m\u001b[0;34m[\u001b[0m\u001b[0mi\u001b[0m\u001b[0;34m]\u001b[0m\u001b[0;34m\u001b[0m\u001b[0m\n\u001b[0m\u001b[1;32m     51\u001b[0m                 \u001b[0;31m# for ch in range(3):\u001b[0m\u001b[0;34m\u001b[0m\u001b[0;34m\u001b[0m\u001b[0m\n\u001b[1;32m     52\u001b[0m                 \u001b[0;31m#     image_syn_vis[:, ch] = image_syn_vis[:, ch] * self.std[ch] + self.mean[ch]\u001b[0m\u001b[0;34m\u001b[0m\u001b[0;34m\u001b[0m\u001b[0m\n",
      "\u001b[0;31mKeyError\u001b[0m: 0"
     ]
    }
   ],
   "source": [
    "dis = CIFAR10_DIST(root=\"../res_hist\",client_num=10,experiment=0)\n",
    "train_dl = torch.utils.data.DataLoader(dataset=dis, batch_size=256, drop_last=False, shuffle=False)"
   ]
  },
  {
   "cell_type": "code",
   "execution_count": 3,
   "id": "ebb92dea",
   "metadata": {},
   "outputs": [],
   "source": [
    "res = torch.load(\"../res_hist/res_DM_CIFAR10_ConvNet_1ipc.pt\")\n",
    "res"
   ]
  },
  {
   "cell_type": "code",
   "execution_count": null,
   "id": "e3225e38",
   "metadata": {},
   "outputs": [],
   "source": [
    "# train fednew\n",
    "# writer = SummaryWriter(\"logs\")\n",
    "    \n",
    "for epoch in range(100):\n",
    "    epoch_loss_collector = []\n",
    "    for batch_idx, (x, target) in enumerate(train_dl):\n",
    "        x, target = x.cuda(), target.cuda()\n",
    "\n",
    "        optimizer.zero_grad()\n",
    "        x.requires_grad = False\n",
    "        target.requires_grad = False\n",
    "        target = target.long()\n",
    "\n",
    "        _, _, out = net(x)\n",
    "        loss = criterion(out, target)\n",
    "\n",
    "        loss.backward()\n",
    "        optimizer.step()\n",
    "\n",
    "        epoch_loss_collector.append(loss.item())\n",
    "\n",
    "    epoch_loss = sum(epoch_loss_collector) / len(epoch_loss_collector)\n",
    "    print('Epoch: %d Loss: %f' % (epoch, epoch_loss))\n",
    "\n",
    "\n",
    "# net.cuda()\n",
    "# train_acc, train_loss = compute_accuracy(net, train_dl_global, device=device)\n",
    "# test_acc, conf_matrix, _ = compute_accuracy(net, test_dl, get_confusion_matrix=True, device=device)\n",
    "# net.to('cpu')\n",
    "\n",
    "# print('>> Global Model Test accuracy: %f' % test_acc)\n",
    "# writer.add_scalar(\"Test_Acc\", test_acc, round)"
   ]
  }
 ],
 "metadata": {
  "kernelspec": {
   "display_name": "Python 3 (ipykernel)",
   "language": "python",
   "name": "python3"
  },
  "language_info": {
   "codemirror_mode": {
    "name": "ipython",
    "version": 3
   },
   "file_extension": ".py",
   "mimetype": "text/x-python",
   "name": "python",
   "nbconvert_exporter": "python",
   "pygments_lexer": "ipython3",
   "version": "3.7.0"
  }
 },
 "nbformat": 4,
 "nbformat_minor": 5
}
