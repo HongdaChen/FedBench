{
 "cells": [
  {
   "cell_type": "code",
   "execution_count": 1,
   "id": "ed867602",
   "metadata": {},
   "outputs": [],
   "source": [
    "import torch\n",
    "import torch.nn as nn\n",
    "import torch.nn.functional as F\n",
    "import math\n",
    "import torchvision\n",
    "import torchvision.models as models\n",
    "from torch.autograd import Variable\n",
    "import torch.utils.data as data\n",
    "import torchvision.transforms as transforms\n",
    "from torchvision.datasets import MNIST, EMNIST, CIFAR10,CIFAR100\n",
    "from PIL import Image\n",
    "import torch.optim as optim\n",
    "import numpy as np\n",
    "from sklearn.metrics import confusion_matrix\n",
    "# from resnetcifar import ResNet18_cifar10, ResNet50_cifar10\n",
    "import logging"
   ]
  },
  {
   "cell_type": "code",
   "execution_count": 2,
   "id": "20235f86",
   "metadata": {},
   "outputs": [],
   "source": [
    "def add_noise(inputs):\n",
    "     noise = torch.randn_like(inputs)*0.2\n",
    "     return inputs + noise"
   ]
  },
  {
   "cell_type": "code",
   "execution_count": 3,
   "id": "1f72cc6e",
   "metadata": {},
   "outputs": [],
   "source": [
    "# for inputs,labels in trainloader:\n",
    "#         noised_inputs=add_noise(inputs)\n",
    "#         opt.zero_grad()\n",
    "#         outputs = net(noised_inputs)\n",
    "#         loss = loss_fn(outputs,inputs)\n",
    "#         loss.backward()\n",
    "#         opt.step()"
   ]
  },
  {
   "cell_type": "code",
   "execution_count": 4,
   "id": "6f877252",
   "metadata": {},
   "outputs": [],
   "source": [
    "import torchvision.transforms as transforms\n",
    "from torchvision.datasets import MNIST, EMNIST, CIFAR10,CIFAR100\n",
    "from PIL import Image\n",
    "import numpy as np"
   ]
  },
  {
   "cell_type": "code",
   "execution_count": 5,
   "id": "6f3d90f8",
   "metadata": {},
   "outputs": [],
   "source": [
    "normalize = transforms.Normalize(mean=[x / 255.0 for x in [125.3, 123.0, 113.9]],\n",
    "                                             std=[x / 255.0 for x in [63.0, 62.1, 66.7]])\n",
    "transform_train = transforms.Compose([\n",
    "    transforms.ToTensor(),\n",
    "    transforms.Lambda(lambda x: F.pad(\n",
    "        Variable(x.unsqueeze(0), requires_grad=False),\n",
    "        (4, 4, 4, 4), mode='reflect').data.squeeze()),\n",
    "    transforms.ToPILImage(),\n",
    "    transforms.ColorJitter(brightness=0),\n",
    "    transforms.RandomCrop(32),\n",
    "    transforms.RandomHorizontalFlip(),\n",
    "    transforms.ToTensor(),\n",
    "    normalize\n",
    "])\n"
   ]
  },
  {
   "cell_type": "code",
   "execution_count": 6,
   "id": "9d70f2e8",
   "metadata": {},
   "outputs": [
    {
     "name": "stdout",
     "output_type": "stream",
     "text": [
      "Files already downloaded and verified\n",
      "Files already downloaded and verified\n"
     ]
    }
   ],
   "source": [
    "cifar_dataTrain_noise = CIFAR10(\"../data\", True, transform_train, None, True)\n",
    "cifar_dataTest_noise = CIFAR10(\"../data\", False, transform_train, None, True)"
   ]
  },
  {
   "cell_type": "code",
   "execution_count": 7,
   "id": "44dea88d",
   "metadata": {},
   "outputs": [
    {
     "name": "stdout",
     "output_type": "stream",
     "text": [
      "Files already downloaded and verified\n",
      "Files already downloaded and verified\n"
     ]
    }
   ],
   "source": [
    "transform = transforms.Compose([transforms.ToTensor()])\n",
    "cifar_dataTrain = CIFAR10(\"../data\", True, transform, None, True)\n",
    "cifar_dataTest = CIFAR10(\"../data\", False, transform, None, True)"
   ]
  },
  {
   "cell_type": "code",
   "execution_count": 8,
   "id": "9d685fea",
   "metadata": {},
   "outputs": [],
   "source": [
    "dataidx_n_1 = np.where(np.array(cifar_dataTrain_noise.targets)==1)\n",
    "data_n1 = [cifar_dataTrain_noise[dataidx_n_1[0][i]] for i in range(len(dataidx_n_1[0]))]\n",
    "\n",
    "dataidx_1 = np.where(np.array(cifar_dataTrain.targets)==1)\n",
    "data_1 = [cifar_dataTrain[dataidx_1[0][i]] for i in range(len(dataidx_1[0]))]\n"
   ]
  },
  {
   "cell_type": "code",
   "execution_count": 15,
   "id": "a05755db",
   "metadata": {},
   "outputs": [],
   "source": [
    "ny = 8\n",
    "display(transforms.ToPILImage()(data_1[ny][0]).resize((256,256)),transforms.ToPILImage()(data_n1[ny][0]).resize((256,256)))\n"
   ]
  },
  {
   "cell_type": "code",
   "execution_count": 54,
   "id": "84cf9f3c",
   "metadata": {},
   "outputs": [
    {
     "data": {
      "text/plain": [
       "2"
      ]
     },
     "execution_count": 54,
     "metadata": {},
     "output_type": "execute_result"
    }
   ],
   "source": [
    "aa = np.array([1,2,1,4])\n",
    "np.argwhere(aa==1).reshape(-1).sum()"
   ]
  },
  {
   "cell_type": "code",
   "execution_count": 21,
   "id": "8c75b48e",
   "metadata": {},
   "outputs": [
    {
     "data": {
      "text/plain": [
       "torch.Size([3, 32, 32])"
      ]
     },
     "execution_count": 21,
     "metadata": {},
     "output_type": "execute_result"
    }
   ],
   "source": [
    "nns = data_1[ny][0].cpu().numpy().transpose((0,2,1))\n",
    "nns = torch.tensor(nns)\n",
    "nns.shape"
   ]
  },
  {
   "cell_type": "code",
   "execution_count": 24,
   "id": "9b0ef600",
   "metadata": {},
   "outputs": [],
   "source": [
    "def add_noise(inputs):\n",
    "     noise = torch.randn_like(inputs)*0.2\n",
    "     return inputs + noise"
   ]
  },
  {
   "cell_type": "code",
   "execution_count": 14,
   "id": "a1c0d710",
   "metadata": {},
   "outputs": [],
   "source": [
    "ns = add_noise(nns)\n",
    "transforms.ToPILImage()(torch.randn((3,32,32))).resize((256,256))"
   ]
  },
  {
   "cell_type": "code",
   "execution_count": 13,
   "id": "adc90b5d",
   "metadata": {
    "scrolled": true
   },
   "outputs": [],
   "source": [
    "# ns = ns.cpu().numpy()\n",
    "# torch.randn_like(torch.tensor(ns))\n",
    "(torch.randn_like(torch.tensor(ns))*(i/10)).reshape((1,32,32,3)).numpy()"
   ]
  },
  {
   "cell_type": "code",
   "execution_count": 12,
   "id": "91e1b4dd",
   "metadata": {},
   "outputs": [],
   "source": [
    "(torch.randn_like(ns)*(i/10)).reshape((1,32, 32, 3)).cpu().numpy()"
   ]
  },
  {
   "cell_type": "code",
   "execution_count": 134,
   "id": "923b7bf1",
   "metadata": {},
   "outputs": [
    {
     "data": {
      "text/plain": [
       "{0: 953, 1: 142, 2: 141, 3: 75, 4: 695, 5: 819, 7: 2482}"
      ]
     },
     "execution_count": 134,
     "metadata": {},
     "output_type": "execute_result"
    }
   ],
   "source": [
    "import pickle\n",
    "with open(\"/home/aikedaer/Desktop/FedMOON/ipynb/traindata_cls_counts.pkl\",\"rb\") as file:\n",
    "    stat = pickle.load(file)\n",
    "stat[0]"
   ]
  },
  {
   "cell_type": "code",
   "execution_count": 109,
   "id": "815b348f",
   "metadata": {},
   "outputs": [
    {
     "data": {
      "text/plain": [
       "False"
      ]
     },
     "execution_count": 109,
     "metadata": {},
     "output_type": "execute_result"
    }
   ],
   "source": [
    "res = torch.load(\"/home/aikedaer/Desktop/DatasetCondensation (copy)/result_Rounds/client_1/res_DM_CIFAR10_ConvNet_10ipc_0_experiment.pt\")\n"
   ]
  },
  {
   "cell_type": "code",
   "execution_count": 140,
   "id": "4b383b76",
   "metadata": {},
   "outputs": [
    {
     "data": {
      "text/plain": [
       "torch.Size([100, 3, 32, 32])"
      ]
     },
     "execution_count": 140,
     "metadata": {},
     "output_type": "execute_result"
    }
   ],
   "source": [
    "res = torch.load(\"/home/aikedaer/Downloads/data.pt\")\n",
    "res[0].shape"
   ]
  },
  {
   "cell_type": "code",
   "execution_count": 11,
   "id": "c6d700d6",
   "metadata": {},
   "outputs": [],
   "source": [
    "res[0][0]"
   ]
  },
  {
   "cell_type": "code",
   "execution_count": 10,
   "id": "b33300fb",
   "metadata": {},
   "outputs": [],
   "source": [
    "for i in range(100):\n",
    "    display(transforms.ToPILImage()(res[0][i]).resize((256,256)))"
   ]
  },
  {
   "cell_type": "code",
   "execution_count": 102,
   "id": "0d6c1a39",
   "metadata": {},
   "outputs": [
    {
     "data": {
      "text/plain": [
       "tensor(4.4508)"
      ]
     },
     "execution_count": 102,
     "metadata": {},
     "output_type": "execute_result"
    }
   ],
   "source": [
    "res['data'][0][0][69].sum()"
   ]
  },
  {
   "cell_type": "code",
   "execution_count": 9,
   "id": "b9066707",
   "metadata": {},
   "outputs": [],
   "source": [
    "mean = [0.4914, 0.4822, 0.4465]\n",
    "std = [0.2023, 0.1994, 0.2010]\n",
    "\n",
    "for j in range(5):\n",
    "    \n",
    "    image_syn_vis = res['data'][j][0][0]\n",
    "    for ch in range(3):\n",
    "        image_syn_vis[:, ch] = image_syn_vis[:, ch]  * std[ch] + mean[ch]\n",
    "    image_syn_vis[image_syn_vis<0] = 0.0\n",
    "    image_syn_vis[image_syn_vis>1] = 1.0\n",
    "    \n",
    "    x = image_syn_vis\n",
    "    for i in range(0,100,10):\n",
    "        if i==0:\n",
    "            continue\n",
    "            \n",
    "        image_syn_vis = res['data'][j][0][i]\n",
    "        for ch in range(3):\n",
    "            image_syn_vis[:, ch] = image_syn_vis[:, ch]  * std[ch] + mean[ch]\n",
    "        image_syn_vis[image_syn_vis<0] = 0.0\n",
    "        image_syn_vis[image_syn_vis>1] = 1.0\n",
    "        y = image_syn_vis\n",
    "        \n",
    "        x=np.concatenate((x,y),axis=2)\n",
    "    display(transforms.ToPILImage()(torch.tensor(x)).resize((2560,256)))\n",
    "    print(res['data'][j][1])"
   ]
  },
  {
   "cell_type": "code",
   "execution_count": 8,
   "id": "7255477d",
   "metadata": {},
   "outputs": [],
   "source": [
    "import matplotlib.pyplot as plt\n",
    "plt.plot(range(25),res['accs_all_exps']['ConvNet'])\n",
    "plt.show()"
   ]
  },
  {
   "cell_type": "code",
   "execution_count": 7,
   "id": "d665e40c",
   "metadata": {},
   "outputs": [],
   "source": [
    "res = torch.load(\"/home/aikedaer/Downloads/data.pt\")\n",
    "for i in range(100):\n",
    "    display(transforms.ToPILImage()(res[0][i]).resize((256,256)))"
   ]
  },
  {
   "cell_type": "code",
   "execution_count": 6,
   "id": "b09d46fb",
   "metadata": {},
   "outputs": [],
   "source": [
    "pt = \"/home/aikedaer/Desktop/DatasetCondensation/result_rounds/client_1/res_DM_CIFAR10_ConvNet_1ipc_9_experiment.pt\"\n",
    "res = torch.load(pt)\n",
    "mean = [0.4914, 0.4822, 0.4465]\n",
    "std = [0.2023, 0.1994, 0.2010]\n",
    "\n",
    "for i in range(10):\n",
    "    image_syn_vis = res['data'][0][0][i]\n",
    "    for ch in range(3):\n",
    "        image_syn_vis[:, ch] = image_syn_vis[:, ch]  * std[ch] + mean[ch]\n",
    "    image_syn_vis[image_syn_vis<0] = 0.0\n",
    "    image_syn_vis[image_syn_vis>1] = 1.0\n",
    "    display(transforms.ToPILImage()(image_syn_vis).resize((64,64)))\n"
   ]
  },
  {
   "cell_type": "code",
   "execution_count": 20,
   "id": "a39524a8",
   "metadata": {},
   "outputs": [],
   "source": [
    "st = torch.load(\"/home/aikedaer/Desktop/FedMOON/models/fednew/global_model_pre.pth\")\n"
   ]
  },
  {
   "cell_type": "code",
   "execution_count": 5,
   "id": "37a60e65",
   "metadata": {},
   "outputs": [],
   "source": [
    "# st"
   ]
  },
  {
   "cell_type": "code",
   "execution_count": 4,
   "id": "cc67b315",
   "metadata": {},
   "outputs": [],
   "source": [
    "mean = [0.4914, 0.4822, 0.4465]\n",
    "std = [0.2023, 0.1994, 0.2010]\n",
    "\n",
    "for i in range(10):\n",
    "    image_syn_vis = st[i]\n",
    "    for ch in range(3):\n",
    "        image_syn_vis[:, ch] = image_syn_vis[:, ch]  * std[ch] + mean[ch]\n",
    "    image_syn_vis[image_syn_vis<0] = 0.0\n",
    "    image_syn_vis[image_syn_vis>1] = 1.0\n",
    "    display(transforms.ToPILImage()(image_syn_vis).resize((256,256)))"
   ]
  },
  {
   "cell_type": "code",
   "execution_count": 84,
   "id": "b1664893",
   "metadata": {},
   "outputs": [
    {
     "name": "stdout",
     "output_type": "stream",
     "text": [
      "module.features.conv1.weight\n",
      "module.features.conv1.bias\n",
      "module.features.conv2.weight\n",
      "module.features.conv2.bias\n",
      "module.features.fc1.weight\n",
      "module.features.fc1.bias\n",
      "module.features.fc2.weight\n",
      "module.features.fc2.bias\n",
      "module.l1.weight\n",
      "module.l1.bias\n",
      "module.l2.weight\n",
      "module.l2.bias\n",
      "module.l3.weight\n",
      "module.l3.bias\n"
     ]
    }
   ],
   "source": [
    "for i in st.keys():\n",
    "    st[]"
   ]
  },
  {
   "cell_type": "code",
   "execution_count": 3,
   "id": "2d7bc222",
   "metadata": {},
   "outputs": [],
   "source": [
    "mean = [0.4914, 0.4822, 0.4465]\n",
    "std = [0.2023, 0.1994, 0.2010]\n",
    "\n",
    "for i in range(10):\n",
    "    image_syn_vis = res['data'][0][0][i]\n",
    "    for ch in range(3):\n",
    "        image_syn_vis[:, ch] = image_syn_vis[:, ch]  * std[ch] + mean[ch]\n",
    "    image_syn_vis[image_syn_vis<0] = 0.0\n",
    "    image_syn_vis[image_syn_vis>1] = 1.0\n",
    "    display(transforms.ToPILImage()(image_syn_vis).resize((256,256)))"
   ]
  },
  {
   "cell_type": "code",
   "execution_count": 112,
   "id": "048f9d5c",
   "metadata": {},
   "outputs": [
    {
     "data": {
      "text/plain": [
       "(80, 32, 32, 3)"
      ]
     },
     "execution_count": 112,
     "metadata": {},
     "output_type": "execute_result"
    }
   ],
   "source": [
    "train_ds_list = []\n",
    "train_ds_label_list = []\n",
    "for j in range(1,9):\n",
    "    res = torch.load(\"/home/aikedaer/Desktop/DatasetCondensation/result/client_\"+str(j)+\"/res_DM_CIFAR10_ConvNet_1ipc.pt\")\n",
    "    for i in range(10):\n",
    "        if (res['data'][0][0][i]==torch.zeros((3, 32, 32)))[0][0][0]==True:\n",
    "            continue\n",
    "        image_syn_vis = res['data'][0][0][i]\n",
    "        for ch in range(3):\n",
    "            image_syn_vis[:, ch] = image_syn_vis[:, ch]  * std[ch] + mean[ch]\n",
    "        image_syn_vis[image_syn_vis<0] = 0.0\n",
    "        image_syn_vis[image_syn_vis>1] = 1.0\n",
    "        train_ds_list.append(np.array(image_syn_vis))\n",
    "        train_ds_label_list.append(res['data'][0][1][i])\n",
    "\n",
    "    \n",
    "train_ds = np.vstack(train_ds_list).reshape((-1,3,32,32))\n",
    "train_ds=train_ds.transpose((0, 2, 3, 1))\n",
    "train_ds.shape"
   ]
  },
  {
   "cell_type": "code",
   "execution_count": 147,
   "id": "31baf799",
   "metadata": {},
   "outputs": [],
   "source": [
    "import os\n",
    "class CIFR10_DIST(torch.utils.data.Dataset):\n",
    "    \n",
    "    def __init__(self,root,transform=None, target_transform=None):\n",
    "        self.root = root\n",
    "        self.train_ds_list = []\n",
    "        self.train_ds_label_list = []\n",
    "        \n",
    "        \n",
    "        self._constract()\n",
    "        \n",
    "        self.data = train_ds\n",
    "        self.target = self.train_ds_label_list\n",
    "        \n",
    "        self.transform = transform\n",
    "        self.target_transform = target_transform\n",
    "    \n",
    "    def _constract(self):\n",
    "        for j in range(9):\n",
    "            res = torch.load(os.path.join(self.root,\"client_\"+str(j+1),\"res_DM_CIFAR10_ConvNet_1ipc.pt\"))\n",
    "            for i in range(10):\n",
    "                if (res['data'][0][0][i]==torch.zeros((3, 32, 32)))[0][0][0]==True:\n",
    "                    continue\n",
    "                image_syn_vis = res['data'][0][0][i]\n",
    "                for ch in range(3):\n",
    "                    image_syn_vis[:, ch] = image_syn_vis[:, ch]  * std[ch] + mean[ch]\n",
    "                image_syn_vis[image_syn_vis<0] = 0.0\n",
    "                image_syn_vis[image_syn_vis>1] = 1.0\n",
    "                self.train_ds_list.append(np.array(image_syn_vis))\n",
    "                self.train_ds_label_list.append(res['data'][0][1][i])\n",
    "\n",
    "\n",
    "        train_ds = np.vstack(self.train_ds_list).reshape((-1,3,32,32))\n",
    "        train_ds = train_ds.transpose((0, 2, 3, 1))\n",
    "\n",
    "        \n",
    "    def __getitem__(self, index):\n",
    "        \"\"\"\n",
    "        Args:\n",
    "            index (int): Index\n",
    "\n",
    "        Returns:\n",
    "            tuple: (image, target) where target is index of the target class.\n",
    "        \"\"\"\n",
    "        img, target = self.data[index], self.target[index]\n",
    "        # img = Image.fromarray(img)\n",
    "        # print(\"cifar10 img:\", img)\n",
    "        # print(\"cifar10 target:\", target)\n",
    "\n",
    "        if self.transform is not None:\n",
    "            img = self.transform(img)\n",
    "\n",
    "        if self.target_transform is not None:\n",
    "            target = self.target_transform(target)\n",
    "\n",
    "        return img, target\n",
    "\n",
    "    def __len__(self):\n",
    "        return len(self.data)\n"
   ]
  },
  {
   "cell_type": "code",
   "execution_count": 148,
   "id": "042dc18e",
   "metadata": {},
   "outputs": [
    {
     "data": {
      "text/plain": [
       "<torch.utils.data.dataloader.DataLoader at 0x7fb6ed028f60>"
      ]
     },
     "execution_count": 148,
     "metadata": {},
     "output_type": "execute_result"
    }
   ],
   "source": [
    "dis = CIFR10_DIST(root=\"/home/aikedaer/Desktop/DatasetCondensation/result\")\n",
    "train_dl = torch.utils.data.DataLoader(dataset=dis, batch_size=256, drop_last=False, shuffle=False)\n",
    "train_dl"
   ]
  },
  {
   "cell_type": "code",
   "execution_count": 152,
   "id": "d335a305",
   "metadata": {},
   "outputs": [
    {
     "data": {
      "text/plain": [
       "torch.Size([80, 32, 32, 3])"
      ]
     },
     "execution_count": 152,
     "metadata": {},
     "output_type": "execute_result"
    }
   ],
   "source": [
    "next(iter(train_dl))[0].shape"
   ]
  },
  {
   "cell_type": "code",
   "execution_count": 150,
   "id": "6677d5c0",
   "metadata": {},
   "outputs": [
    {
     "ename": "NameError",
     "evalue": "name 'optimizer' is not defined",
     "output_type": "error",
     "traceback": [
      "\u001b[0;31m---------------------------------------------------------------------------\u001b[0m",
      "\u001b[0;31mNameError\u001b[0m                                 Traceback (most recent call last)",
      "\u001b[0;32m/tmp/ipykernel_21583/2611347224.py\u001b[0m in \u001b[0;36m<module>\u001b[0;34m\u001b[0m\n\u001b[1;32m      4\u001b[0m         \u001b[0mx\u001b[0m\u001b[0;34m,\u001b[0m \u001b[0mtarget\u001b[0m \u001b[0;34m=\u001b[0m \u001b[0mx\u001b[0m\u001b[0;34m.\u001b[0m\u001b[0mcuda\u001b[0m\u001b[0;34m(\u001b[0m\u001b[0;34m)\u001b[0m\u001b[0;34m,\u001b[0m \u001b[0mtarget\u001b[0m\u001b[0;34m.\u001b[0m\u001b[0mcuda\u001b[0m\u001b[0;34m(\u001b[0m\u001b[0;34m)\u001b[0m\u001b[0;34m\u001b[0m\u001b[0m\n\u001b[1;32m      5\u001b[0m \u001b[0;34m\u001b[0m\u001b[0m\n\u001b[0;32m----> 6\u001b[0;31m         \u001b[0moptimizer\u001b[0m\u001b[0;34m.\u001b[0m\u001b[0mzero_grad\u001b[0m\u001b[0;34m(\u001b[0m\u001b[0;34m)\u001b[0m\u001b[0;34m\u001b[0m\u001b[0m\n\u001b[0m\u001b[1;32m      7\u001b[0m         \u001b[0mx\u001b[0m\u001b[0;34m.\u001b[0m\u001b[0mrequires_grad\u001b[0m \u001b[0;34m=\u001b[0m \u001b[0;32mFalse\u001b[0m\u001b[0;34m\u001b[0m\u001b[0m\n\u001b[1;32m      8\u001b[0m         \u001b[0mtarget\u001b[0m\u001b[0;34m.\u001b[0m\u001b[0mrequires_grad\u001b[0m \u001b[0;34m=\u001b[0m \u001b[0;32mFalse\u001b[0m\u001b[0;34m\u001b[0m\u001b[0m\n",
      "\u001b[0;31mNameError\u001b[0m: name 'optimizer' is not defined"
     ]
    }
   ],
   "source": [
    "optimizer = optim.SGD(filter(lambda p: p.requires_grad, net.parameters()), lr=0.01, momentum=0.9,\n",
    "                                  weight_decay=0.001)\n",
    "for epoch in range(3):\n",
    "    epoch_loss_collector = []\n",
    "    for batch_idx, (x, target) in enumerate(train_dl):\n",
    "        x, target = x.cuda(), target.cuda()\n",
    "\n",
    "        optimizer.zero_grad()\n",
    "        x.requires_grad = False\n",
    "        target.requires_grad = False\n",
    "        target = target.long()\n",
    "\n",
    "        _, _, out = net(x)\n",
    "        loss = criterion(out, target)\n",
    "\n",
    "        loss.backward()\n",
    "        optimizer.step()\n",
    "\n",
    "        epoch_loss_collector.append(loss.item())\n",
    "\n",
    "    epoch_loss = sum(epoch_loss_collector) / len(epoch_loss_collector)\n",
    "    logger.info('Epoch: %d Loss: %f' % (epoch, epoch_loss))"
   ]
  },
  {
   "cell_type": "code",
   "execution_count": 92,
   "id": "f66d6e99",
   "metadata": {},
   "outputs": [],
   "source": [
    "# torch.tensor(np.concatenate((res['data'][0][0][19],res['data'][0][0][0]),axis=2)).shape"
   ]
  },
  {
   "cell_type": "code",
   "execution_count": 91,
   "id": "0cc03a52",
   "metadata": {},
   "outputs": [],
   "source": [
    "# for i in range(100):\n",
    "#     display(transforms.ToPILImage()(res['data'][4][0][i]))"
   ]
  },
  {
   "cell_type": "code",
   "execution_count": 58,
   "id": "fec06849",
   "metadata": {},
   "outputs": [],
   "source": [
    "mean = [0.4914, 0.4822, 0.4465]\n",
    "std = [0.2023, 0.1994, 0.2010]\n",
    "image_syn_vis = res['data'][0][0][9]\n",
    "for ch in range(3):\n",
    "    image_syn_vis[:, ch] = image_syn_vis[:, ch]  * std[ch] + mean[ch]\n",
    "image_syn_vis[image_syn_vis<0] = 0.0\n",
    "image_syn_vis[image_syn_vis>1] = 1.0"
   ]
  },
  {
   "cell_type": "code",
   "execution_count": 2,
   "id": "d6487ce0",
   "metadata": {},
   "outputs": [],
   "source": [
    "transforms.ToPILImage()(image_syn_vis).resize((256,256))"
   ]
  },
  {
   "cell_type": "code",
   "execution_count": 16,
   "id": "043d6042",
   "metadata": {},
   "outputs": [
    {
     "data": {
      "text/plain": [
       "(32, 32, 3)"
      ]
     },
     "execution_count": 16,
     "metadata": {},
     "output_type": "execute_result"
    }
   ],
   "source": [
    "np.array(image_syn_vis).transpose((1,2,0)).shape"
   ]
  },
  {
   "cell_type": "code",
   "execution_count": 17,
   "id": "0f949aff",
   "metadata": {},
   "outputs": [
    {
     "data": {
      "text/plain": [
       "10"
      ]
     },
     "execution_count": 17,
     "metadata": {},
     "output_type": "execute_result"
    }
   ],
   "source": [
    "len(res['data'][0][0])"
   ]
  },
  {
   "cell_type": "code",
   "execution_count": 1,
   "id": "6a1310af",
   "metadata": {
    "scrolled": true
   },
   "outputs": [],
   "source": [
    "transforms.ToPILImage()(res['data'][0][0][9]).resize((256,256))"
   ]
  },
  {
   "cell_type": "code",
   "execution_count": 19,
   "id": "8e44f86d",
   "metadata": {},
   "outputs": [],
   "source": [
    "if (res['data'][0][0][9]==torch.zeros((3, 32, 32)))[0][0][0]==True:\n",
    "    print(1)"
   ]
  },
  {
   "cell_type": "code",
   "execution_count": 20,
   "id": "9cba517a",
   "metadata": {},
   "outputs": [
    {
     "data": {
      "text/plain": [
       "tensor(0)"
      ]
     },
     "execution_count": 20,
     "metadata": {},
     "output_type": "execute_result"
    }
   ],
   "source": [
    "res['data'][0][1][0]"
   ]
  },
  {
   "cell_type": "code",
   "execution_count": null,
   "id": "cdd58461",
   "metadata": {},
   "outputs": [],
   "source": []
  }
 ],
 "metadata": {
  "kernelspec": {
   "display_name": "Python 3 (ipykernel)",
   "language": "python",
   "name": "python3"
  },
  "language_info": {
   "codemirror_mode": {
    "name": "ipython",
    "version": 3
   },
   "file_extension": ".py",
   "mimetype": "text/x-python",
   "name": "python",
   "nbconvert_exporter": "python",
   "pygments_lexer": "ipython3",
   "version": "3.7.0"
  }
 },
 "nbformat": 4,
 "nbformat_minor": 5
}
